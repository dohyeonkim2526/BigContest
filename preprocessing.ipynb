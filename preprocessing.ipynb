{
  "nbformat": 4,
  "nbformat_minor": 0,
  "metadata": {
    "colab": {
      "name": "preprocessing.ipynb",
      "provenance": [],
      "authorship_tag": "ABX9TyO5aUqicWFd0TVrBX7CavIn",
      "include_colab_link": true
    },
    "kernelspec": {
      "name": "python3",
      "display_name": "Python 3"
    }
  },
  "cells": [
    {
      "cell_type": "markdown",
      "metadata": {
        "id": "view-in-github",
        "colab_type": "text"
      },
      "source": [
        "<a href=\"https://colab.research.google.com/github/dohyeonkim2526/BigContest/blob/master/preprocessing.ipynb\" target=\"_parent\"><img src=\"https://colab.research.google.com/assets/colab-badge.svg\" alt=\"Open In Colab\"/></a>"
      ]
    },
    {
      "cell_type": "code",
      "metadata": {
        "id": "Sm29ymYO7nr3",
        "colab_type": "code",
        "colab": {
          "base_uri": "https://localhost:8080/",
          "height": 35
        },
        "outputId": "a2f92ac2-b804-4037-b634-669ade821499"
      },
      "source": [
        "from google.colab import drive\n",
        "drive.mount('/content/drive')"
      ],
      "execution_count": 2,
      "outputs": [
        {
          "output_type": "stream",
          "text": [
            "Drive already mounted at /content/drive; to attempt to forcibly remount, call drive.mount(\"/content/drive\", force_remount=True).\n"
          ],
          "name": "stdout"
        }
      ]
    },
    {
      "cell_type": "code",
      "metadata": {
        "id": "FhmxMYCO8Hwc",
        "colab_type": "code",
        "colab": {}
      },
      "source": [
        "import pandas as pd\n",
        "import numpy as np"
      ],
      "execution_count": 3,
      "outputs": []
    },
    {
      "cell_type": "code",
      "metadata": {
        "id": "ARBnozAJ77nu",
        "colab_type": "code",
        "colab": {}
      },
      "source": [
        "performance = pd.read_excel('/content/drive/My Drive/2019_performance.xlsx')"
      ],
      "execution_count": 4,
      "outputs": []
    },
    {
      "cell_type": "code",
      "metadata": {
        "id": "ArH0--418GXS",
        "colab_type": "code",
        "colab": {
          "base_uri": "https://localhost:8080/",
          "height": 419
        },
        "outputId": "95f3781e-1962-48c0-8061-569c2b545253"
      },
      "source": [
        "performance"
      ],
      "execution_count": 5,
      "outputs": [
        {
          "output_type": "execute_result",
          "data": {
            "text/html": [
              "<div>\n",
              "<style scoped>\n",
              "    .dataframe tbody tr th:only-of-type {\n",
              "        vertical-align: middle;\n",
              "    }\n",
              "\n",
              "    .dataframe tbody tr th {\n",
              "        vertical-align: top;\n",
              "    }\n",
              "\n",
              "    .dataframe thead th {\n",
              "        text-align: right;\n",
              "    }\n",
              "</style>\n",
              "<table border=\"1\" class=\"dataframe\">\n",
              "  <thead>\n",
              "    <tr style=\"text-align: right;\">\n",
              "      <th></th>\n",
              "      <th>방송일시</th>\n",
              "      <th>노출(분)</th>\n",
              "      <th>마더코드</th>\n",
              "      <th>상품코드</th>\n",
              "      <th>상품명</th>\n",
              "      <th>상품군</th>\n",
              "      <th>판매단가</th>\n",
              "      <th>취급액</th>\n",
              "    </tr>\n",
              "  </thead>\n",
              "  <tbody>\n",
              "    <tr>\n",
              "      <th>0</th>\n",
              "      <td>2019-01-01 06:00:00</td>\n",
              "      <td>20.000000</td>\n",
              "      <td>100346</td>\n",
              "      <td>201072</td>\n",
              "      <td>테이트 남성 셀린니트3종</td>\n",
              "      <td>의류</td>\n",
              "      <td>39900</td>\n",
              "      <td>2099000.0</td>\n",
              "    </tr>\n",
              "    <tr>\n",
              "      <th>1</th>\n",
              "      <td>2019-01-01 06:00:00</td>\n",
              "      <td>NaN</td>\n",
              "      <td>100346</td>\n",
              "      <td>201079</td>\n",
              "      <td>테이트 여성 셀린니트3종</td>\n",
              "      <td>의류</td>\n",
              "      <td>39900</td>\n",
              "      <td>4371000.0</td>\n",
              "    </tr>\n",
              "    <tr>\n",
              "      <th>2</th>\n",
              "      <td>2019-01-01 06:20:00</td>\n",
              "      <td>20.000000</td>\n",
              "      <td>100346</td>\n",
              "      <td>201072</td>\n",
              "      <td>테이트 남성 셀린니트3종</td>\n",
              "      <td>의류</td>\n",
              "      <td>39900</td>\n",
              "      <td>3262000.0</td>\n",
              "    </tr>\n",
              "    <tr>\n",
              "      <th>3</th>\n",
              "      <td>2019-01-01 06:20:00</td>\n",
              "      <td>NaN</td>\n",
              "      <td>100346</td>\n",
              "      <td>201079</td>\n",
              "      <td>테이트 여성 셀린니트3종</td>\n",
              "      <td>의류</td>\n",
              "      <td>39900</td>\n",
              "      <td>6955000.0</td>\n",
              "    </tr>\n",
              "    <tr>\n",
              "      <th>4</th>\n",
              "      <td>2019-01-01 06:40:00</td>\n",
              "      <td>20.000000</td>\n",
              "      <td>100346</td>\n",
              "      <td>201072</td>\n",
              "      <td>테이트 남성 셀린니트3종</td>\n",
              "      <td>의류</td>\n",
              "      <td>39900</td>\n",
              "      <td>6672000.0</td>\n",
              "    </tr>\n",
              "    <tr>\n",
              "      <th>...</th>\n",
              "      <td>...</td>\n",
              "      <td>...</td>\n",
              "      <td>...</td>\n",
              "      <td>...</td>\n",
              "      <td>...</td>\n",
              "      <td>...</td>\n",
              "      <td>...</td>\n",
              "      <td>...</td>\n",
              "    </tr>\n",
              "    <tr>\n",
              "      <th>38304</th>\n",
              "      <td>2020-01-01 00:20:00</td>\n",
              "      <td>20.000000</td>\n",
              "      <td>100073</td>\n",
              "      <td>200196</td>\n",
              "      <td>삼성화재 행복한파트너 주택화재보험(1912)</td>\n",
              "      <td>무형</td>\n",
              "      <td>0</td>\n",
              "      <td>NaN</td>\n",
              "    </tr>\n",
              "    <tr>\n",
              "      <th>38305</th>\n",
              "      <td>2020-01-01 00:40:00</td>\n",
              "      <td>20.000000</td>\n",
              "      <td>100073</td>\n",
              "      <td>200196</td>\n",
              "      <td>삼성화재 행복한파트너 주택화재보험(1912)</td>\n",
              "      <td>무형</td>\n",
              "      <td>0</td>\n",
              "      <td>NaN</td>\n",
              "    </tr>\n",
              "    <tr>\n",
              "      <th>38306</th>\n",
              "      <td>2020-01-01 01:00:00</td>\n",
              "      <td>20.000000</td>\n",
              "      <td>100073</td>\n",
              "      <td>200196</td>\n",
              "      <td>삼성화재 행복한파트너 주택화재보험(1912)</td>\n",
              "      <td>무형</td>\n",
              "      <td>0</td>\n",
              "      <td>NaN</td>\n",
              "    </tr>\n",
              "    <tr>\n",
              "      <th>38307</th>\n",
              "      <td>2020-01-01 01:20:00</td>\n",
              "      <td>20.000000</td>\n",
              "      <td>100490</td>\n",
              "      <td>201478</td>\n",
              "      <td>더케이 예다함 상조서비스(티포트)</td>\n",
              "      <td>무형</td>\n",
              "      <td>0</td>\n",
              "      <td>NaN</td>\n",
              "    </tr>\n",
              "    <tr>\n",
              "      <th>38308</th>\n",
              "      <td>2020-01-01 01:40:00</td>\n",
              "      <td>17.166667</td>\n",
              "      <td>100490</td>\n",
              "      <td>201478</td>\n",
              "      <td>더케이 예다함 상조서비스(티포트)</td>\n",
              "      <td>무형</td>\n",
              "      <td>0</td>\n",
              "      <td>NaN</td>\n",
              "    </tr>\n",
              "  </tbody>\n",
              "</table>\n",
              "<p>38309 rows × 8 columns</p>\n",
              "</div>"
            ],
            "text/plain": [
              "                     방송일시      노출(분)    마더코드  ...  상품군   판매단가        취급액\n",
              "0     2019-01-01 06:00:00  20.000000  100346  ...   의류  39900  2099000.0\n",
              "1     2019-01-01 06:00:00        NaN  100346  ...   의류  39900  4371000.0\n",
              "2     2019-01-01 06:20:00  20.000000  100346  ...   의류  39900  3262000.0\n",
              "3     2019-01-01 06:20:00        NaN  100346  ...   의류  39900  6955000.0\n",
              "4     2019-01-01 06:40:00  20.000000  100346  ...   의류  39900  6672000.0\n",
              "...                   ...        ...     ...  ...  ...    ...        ...\n",
              "38304 2020-01-01 00:20:00  20.000000  100073  ...   무형      0        NaN\n",
              "38305 2020-01-01 00:40:00  20.000000  100073  ...   무형      0        NaN\n",
              "38306 2020-01-01 01:00:00  20.000000  100073  ...   무형      0        NaN\n",
              "38307 2020-01-01 01:20:00  20.000000  100490  ...   무형      0        NaN\n",
              "38308 2020-01-01 01:40:00  17.166667  100490  ...   무형      0        NaN\n",
              "\n",
              "[38309 rows x 8 columns]"
            ]
          },
          "metadata": {
            "tags": []
          },
          "execution_count": 5
        }
      ]
    },
    {
      "cell_type": "markdown",
      "metadata": {
        "id": "4JS7XvpnXKKS",
        "colab_type": "text"
      },
      "source": [
        "무형 카테고리 제거"
      ]
    },
    {
      "cell_type": "code",
      "metadata": {
        "id": "nZ-uggRo8s6s",
        "colab_type": "code",
        "colab": {}
      },
      "source": [
        "del_idx = performance[performance['상품군']=='무형'].index\n",
        "del_1 = performance.drop(del_idx)"
      ],
      "execution_count": 6,
      "outputs": []
    },
    {
      "cell_type": "code",
      "metadata": {
        "id": "eBztnf5D--k9",
        "colab_type": "code",
        "colab": {
          "base_uri": "https://localhost:8080/",
          "height": 419
        },
        "outputId": "b5878d86-e177-40e9-a422-2c7e5c9981cf"
      },
      "source": [
        "del_1"
      ],
      "execution_count": 7,
      "outputs": [
        {
          "output_type": "execute_result",
          "data": {
            "text/html": [
              "<div>\n",
              "<style scoped>\n",
              "    .dataframe tbody tr th:only-of-type {\n",
              "        vertical-align: middle;\n",
              "    }\n",
              "\n",
              "    .dataframe tbody tr th {\n",
              "        vertical-align: top;\n",
              "    }\n",
              "\n",
              "    .dataframe thead th {\n",
              "        text-align: right;\n",
              "    }\n",
              "</style>\n",
              "<table border=\"1\" class=\"dataframe\">\n",
              "  <thead>\n",
              "    <tr style=\"text-align: right;\">\n",
              "      <th></th>\n",
              "      <th>방송일시</th>\n",
              "      <th>노출(분)</th>\n",
              "      <th>마더코드</th>\n",
              "      <th>상품코드</th>\n",
              "      <th>상품명</th>\n",
              "      <th>상품군</th>\n",
              "      <th>판매단가</th>\n",
              "      <th>취급액</th>\n",
              "    </tr>\n",
              "  </thead>\n",
              "  <tbody>\n",
              "    <tr>\n",
              "      <th>0</th>\n",
              "      <td>2019-01-01 06:00:00</td>\n",
              "      <td>20.0</td>\n",
              "      <td>100346</td>\n",
              "      <td>201072</td>\n",
              "      <td>테이트 남성 셀린니트3종</td>\n",
              "      <td>의류</td>\n",
              "      <td>39900</td>\n",
              "      <td>2099000.0</td>\n",
              "    </tr>\n",
              "    <tr>\n",
              "      <th>1</th>\n",
              "      <td>2019-01-01 06:00:00</td>\n",
              "      <td>NaN</td>\n",
              "      <td>100346</td>\n",
              "      <td>201079</td>\n",
              "      <td>테이트 여성 셀린니트3종</td>\n",
              "      <td>의류</td>\n",
              "      <td>39900</td>\n",
              "      <td>4371000.0</td>\n",
              "    </tr>\n",
              "    <tr>\n",
              "      <th>2</th>\n",
              "      <td>2019-01-01 06:20:00</td>\n",
              "      <td>20.0</td>\n",
              "      <td>100346</td>\n",
              "      <td>201072</td>\n",
              "      <td>테이트 남성 셀린니트3종</td>\n",
              "      <td>의류</td>\n",
              "      <td>39900</td>\n",
              "      <td>3262000.0</td>\n",
              "    </tr>\n",
              "    <tr>\n",
              "      <th>3</th>\n",
              "      <td>2019-01-01 06:20:00</td>\n",
              "      <td>NaN</td>\n",
              "      <td>100346</td>\n",
              "      <td>201079</td>\n",
              "      <td>테이트 여성 셀린니트3종</td>\n",
              "      <td>의류</td>\n",
              "      <td>39900</td>\n",
              "      <td>6955000.0</td>\n",
              "    </tr>\n",
              "    <tr>\n",
              "      <th>4</th>\n",
              "      <td>2019-01-01 06:40:00</td>\n",
              "      <td>20.0</td>\n",
              "      <td>100346</td>\n",
              "      <td>201072</td>\n",
              "      <td>테이트 남성 셀린니트3종</td>\n",
              "      <td>의류</td>\n",
              "      <td>39900</td>\n",
              "      <td>6672000.0</td>\n",
              "    </tr>\n",
              "    <tr>\n",
              "      <th>...</th>\n",
              "      <td>...</td>\n",
              "      <td>...</td>\n",
              "      <td>...</td>\n",
              "      <td>...</td>\n",
              "      <td>...</td>\n",
              "      <td>...</td>\n",
              "      <td>...</td>\n",
              "      <td>...</td>\n",
              "    </tr>\n",
              "    <tr>\n",
              "      <th>38299</th>\n",
              "      <td>2019-12-31 23:40:00</td>\n",
              "      <td>NaN</td>\n",
              "      <td>100448</td>\n",
              "      <td>201391</td>\n",
              "      <td>일시불쿠첸압력밥솥 6인용</td>\n",
              "      <td>주방</td>\n",
              "      <td>148000</td>\n",
              "      <td>10157000.0</td>\n",
              "    </tr>\n",
              "    <tr>\n",
              "      <th>38300</th>\n",
              "      <td>2020-01-01 00:00:00</td>\n",
              "      <td>20.0</td>\n",
              "      <td>100448</td>\n",
              "      <td>201383</td>\n",
              "      <td>무이자쿠첸압력밥솥 10인용</td>\n",
              "      <td>주방</td>\n",
              "      <td>178000</td>\n",
              "      <td>50929000.0</td>\n",
              "    </tr>\n",
              "    <tr>\n",
              "      <th>38301</th>\n",
              "      <td>2020-01-01 00:00:00</td>\n",
              "      <td>NaN</td>\n",
              "      <td>100448</td>\n",
              "      <td>201390</td>\n",
              "      <td>일시불쿠첸압력밥솥 10인용</td>\n",
              "      <td>주방</td>\n",
              "      <td>168000</td>\n",
              "      <td>104392000.0</td>\n",
              "    </tr>\n",
              "    <tr>\n",
              "      <th>38302</th>\n",
              "      <td>2020-01-01 00:00:00</td>\n",
              "      <td>NaN</td>\n",
              "      <td>100448</td>\n",
              "      <td>201384</td>\n",
              "      <td>무이자쿠첸압력밥솥 6인용</td>\n",
              "      <td>주방</td>\n",
              "      <td>158000</td>\n",
              "      <td>13765000.0</td>\n",
              "    </tr>\n",
              "    <tr>\n",
              "      <th>38303</th>\n",
              "      <td>2020-01-01 00:00:00</td>\n",
              "      <td>NaN</td>\n",
              "      <td>100448</td>\n",
              "      <td>201391</td>\n",
              "      <td>일시불쿠첸압력밥솥 6인용</td>\n",
              "      <td>주방</td>\n",
              "      <td>148000</td>\n",
              "      <td>46608000.0</td>\n",
              "    </tr>\n",
              "  </tbody>\n",
              "</table>\n",
              "<p>37372 rows × 8 columns</p>\n",
              "</div>"
            ],
            "text/plain": [
              "                     방송일시  노출(분)    마더코드  ...  상품군    판매단가          취급액\n",
              "0     2019-01-01 06:00:00   20.0  100346  ...   의류   39900    2099000.0\n",
              "1     2019-01-01 06:00:00    NaN  100346  ...   의류   39900    4371000.0\n",
              "2     2019-01-01 06:20:00   20.0  100346  ...   의류   39900    3262000.0\n",
              "3     2019-01-01 06:20:00    NaN  100346  ...   의류   39900    6955000.0\n",
              "4     2019-01-01 06:40:00   20.0  100346  ...   의류   39900    6672000.0\n",
              "...                   ...    ...     ...  ...  ...     ...          ...\n",
              "38299 2019-12-31 23:40:00    NaN  100448  ...   주방  148000   10157000.0\n",
              "38300 2020-01-01 00:00:00   20.0  100448  ...   주방  178000   50929000.0\n",
              "38301 2020-01-01 00:00:00    NaN  100448  ...   주방  168000  104392000.0\n",
              "38302 2020-01-01 00:00:00    NaN  100448  ...   주방  158000   13765000.0\n",
              "38303 2020-01-01 00:00:00    NaN  100448  ...   주방  148000   46608000.0\n",
              "\n",
              "[37372 rows x 8 columns]"
            ]
          },
          "metadata": {
            "tags": []
          },
          "execution_count": 7
        }
      ]
    },
    {
      "cell_type": "code",
      "metadata": {
        "id": "gzTGt9MU-_ms",
        "colab_type": "code",
        "colab": {
          "base_uri": "https://localhost:8080/",
          "height": 179
        },
        "outputId": "bdd8473d-770f-44b3-89d1-cecad9d7e1cd"
      },
      "source": [
        "del_1.isnull().sum()"
      ],
      "execution_count": 8,
      "outputs": [
        {
          "output_type": "execute_result",
          "data": {
            "text/plain": [
              "방송일시         0\n",
              "노출(분)    16784\n",
              "마더코드         0\n",
              "상품코드         0\n",
              "상품명          0\n",
              "상품군          0\n",
              "판매단가         0\n",
              "취급액          0\n",
              "dtype: int64"
            ]
          },
          "metadata": {
            "tags": []
          },
          "execution_count": 8
        }
      ]
    },
    {
      "cell_type": "code",
      "metadata": {
        "id": "C8zmRzYj_fV2",
        "colab_type": "code",
        "colab": {}
      },
      "source": [
        "sat_idx = pd.DataFrame(index = pd.date_range('2019-01-01','2020-01-01',freq='W-SAT'))"
      ],
      "execution_count": 9,
      "outputs": []
    },
    {
      "cell_type": "markdown",
      "metadata": {
        "id": "dbecjJsZXNKL",
        "colab_type": "text"
      },
      "source": [
        "20분 단위로 시계열 인덱스 생성"
      ]
    },
    {
      "cell_type": "code",
      "metadata": {
        "id": "tl9sCRCkETib",
        "colab_type": "code",
        "colab": {
          "base_uri": "https://localhost:8080/",
          "height": 402
        },
        "outputId": "3650cb0c-a04f-4ffd-ee79-6b89b855b636"
      },
      "source": [
        "test = sat_idx.resample('20T').sum()\n",
        "test"
      ],
      "execution_count": 10,
      "outputs": [
        {
          "output_type": "execute_result",
          "data": {
            "text/html": [
              "<div>\n",
              "<style scoped>\n",
              "    .dataframe tbody tr th:only-of-type {\n",
              "        vertical-align: middle;\n",
              "    }\n",
              "\n",
              "    .dataframe tbody tr th {\n",
              "        vertical-align: top;\n",
              "    }\n",
              "\n",
              "    .dataframe thead th {\n",
              "        text-align: right;\n",
              "    }\n",
              "</style>\n",
              "<table border=\"1\" class=\"dataframe\">\n",
              "  <thead>\n",
              "    <tr style=\"text-align: right;\">\n",
              "      <th></th>\n",
              "    </tr>\n",
              "  </thead>\n",
              "  <tbody>\n",
              "    <tr>\n",
              "      <th>2019-01-05 00:00:00</th>\n",
              "    </tr>\n",
              "    <tr>\n",
              "      <th>2019-01-05 00:20:00</th>\n",
              "    </tr>\n",
              "    <tr>\n",
              "      <th>2019-01-05 00:40:00</th>\n",
              "    </tr>\n",
              "    <tr>\n",
              "      <th>2019-01-05 01:00:00</th>\n",
              "    </tr>\n",
              "    <tr>\n",
              "      <th>2019-01-05 01:20:00</th>\n",
              "    </tr>\n",
              "    <tr>\n",
              "      <th>...</th>\n",
              "    </tr>\n",
              "    <tr>\n",
              "      <th>2019-12-27 22:40:00</th>\n",
              "    </tr>\n",
              "    <tr>\n",
              "      <th>2019-12-27 23:00:00</th>\n",
              "    </tr>\n",
              "    <tr>\n",
              "      <th>2019-12-27 23:20:00</th>\n",
              "    </tr>\n",
              "    <tr>\n",
              "      <th>2019-12-27 23:40:00</th>\n",
              "    </tr>\n",
              "    <tr>\n",
              "      <th>2019-12-28 00:00:00</th>\n",
              "    </tr>\n",
              "  </tbody>\n",
              "</table>\n",
              "<p>25705 rows × 0 columns</p>\n",
              "</div>"
            ],
            "text/plain": [
              "Empty DataFrame\n",
              "Columns: []\n",
              "Index: [2019-01-05 00:00:00, 2019-01-05 00:20:00, 2019-01-05 00:40:00, 2019-01-05 01:00:00, 2019-01-05 01:20:00, 2019-01-05 01:40:00, 2019-01-05 02:00:00, 2019-01-05 02:20:00, 2019-01-05 02:40:00, 2019-01-05 03:00:00, 2019-01-05 03:20:00, 2019-01-05 03:40:00, 2019-01-05 04:00:00, 2019-01-05 04:20:00, 2019-01-05 04:40:00, 2019-01-05 05:00:00, 2019-01-05 05:20:00, 2019-01-05 05:40:00, 2019-01-05 06:00:00, 2019-01-05 06:20:00, 2019-01-05 06:40:00, 2019-01-05 07:00:00, 2019-01-05 07:20:00, 2019-01-05 07:40:00, 2019-01-05 08:00:00, 2019-01-05 08:20:00, 2019-01-05 08:40:00, 2019-01-05 09:00:00, 2019-01-05 09:20:00, 2019-01-05 09:40:00, 2019-01-05 10:00:00, 2019-01-05 10:20:00, 2019-01-05 10:40:00, 2019-01-05 11:00:00, 2019-01-05 11:20:00, 2019-01-05 11:40:00, 2019-01-05 12:00:00, 2019-01-05 12:20:00, 2019-01-05 12:40:00, 2019-01-05 13:00:00, 2019-01-05 13:20:00, 2019-01-05 13:40:00, 2019-01-05 14:00:00, 2019-01-05 14:20:00, 2019-01-05 14:40:00, 2019-01-05 15:00:00, 2019-01-05 15:20:00, 2019-01-05 15:40:00, 2019-01-05 16:00:00, 2019-01-05 16:20:00, 2019-01-05 16:40:00, 2019-01-05 17:00:00, 2019-01-05 17:20:00, 2019-01-05 17:40:00, 2019-01-05 18:00:00, 2019-01-05 18:20:00, 2019-01-05 18:40:00, 2019-01-05 19:00:00, 2019-01-05 19:20:00, 2019-01-05 19:40:00, 2019-01-05 20:00:00, 2019-01-05 20:20:00, 2019-01-05 20:40:00, 2019-01-05 21:00:00, 2019-01-05 21:20:00, 2019-01-05 21:40:00, 2019-01-05 22:00:00, 2019-01-05 22:20:00, 2019-01-05 22:40:00, 2019-01-05 23:00:00, 2019-01-05 23:20:00, 2019-01-05 23:40:00, 2019-01-06 00:00:00, 2019-01-06 00:20:00, 2019-01-06 00:40:00, 2019-01-06 01:00:00, 2019-01-06 01:20:00, 2019-01-06 01:40:00, 2019-01-06 02:00:00, 2019-01-06 02:20:00, 2019-01-06 02:40:00, 2019-01-06 03:00:00, 2019-01-06 03:20:00, 2019-01-06 03:40:00, 2019-01-06 04:00:00, 2019-01-06 04:20:00, 2019-01-06 04:40:00, 2019-01-06 05:00:00, 2019-01-06 05:20:00, 2019-01-06 05:40:00, 2019-01-06 06:00:00, 2019-01-06 06:20:00, 2019-01-06 06:40:00, 2019-01-06 07:00:00, 2019-01-06 07:20:00, 2019-01-06 07:40:00, 2019-01-06 08:00:00, 2019-01-06 08:20:00, 2019-01-06 08:40:00, 2019-01-06 09:00:00, ...]\n",
              "\n",
              "[25705 rows x 0 columns]"
            ]
          },
          "metadata": {
            "tags": []
          },
          "execution_count": 10
        }
      ]
    },
    {
      "cell_type": "code",
      "metadata": {
        "id": "7fV6EJ8iKiLV",
        "colab_type": "code",
        "colab": {}
      },
      "source": [
        "test_list = []\n",
        "for i in range(len(test)):\n",
        "  test_list.append(test.iloc[i,:])"
      ],
      "execution_count": 11,
      "outputs": []
    },
    {
      "cell_type": "code",
      "metadata": {
        "id": "PxlfX6TDNtjL",
        "colab_type": "code",
        "colab": {
          "base_uri": "https://localhost:8080/",
          "height": 233
        },
        "outputId": "52b4d9fe-3a0d-4fcd-d027-fb6ea50ae538"
      },
      "source": [
        "test.index"
      ],
      "execution_count": 12,
      "outputs": [
        {
          "output_type": "execute_result",
          "data": {
            "text/plain": [
              "DatetimeIndex(['2019-01-05 00:00:00', '2019-01-05 00:20:00',\n",
              "               '2019-01-05 00:40:00', '2019-01-05 01:00:00',\n",
              "               '2019-01-05 01:20:00', '2019-01-05 01:40:00',\n",
              "               '2019-01-05 02:00:00', '2019-01-05 02:20:00',\n",
              "               '2019-01-05 02:40:00', '2019-01-05 03:00:00',\n",
              "               ...\n",
              "               '2019-12-27 21:00:00', '2019-12-27 21:20:00',\n",
              "               '2019-12-27 21:40:00', '2019-12-27 22:00:00',\n",
              "               '2019-12-27 22:20:00', '2019-12-27 22:40:00',\n",
              "               '2019-12-27 23:00:00', '2019-12-27 23:20:00',\n",
              "               '2019-12-27 23:40:00', '2019-12-28 00:00:00'],\n",
              "              dtype='datetime64[ns]', length=25705, freq='20T')"
            ]
          },
          "metadata": {
            "tags": []
          },
          "execution_count": 12
        }
      ]
    },
    {
      "cell_type": "markdown",
      "metadata": {
        "id": "Z08bRzYpXR-L",
        "colab_type": "text"
      },
      "source": [
        "18:00:00의 인덱스 값 리스트 생성"
      ]
    },
    {
      "cell_type": "code",
      "metadata": {
        "id": "RSx7gIn6P1TS",
        "colab_type": "code",
        "colab": {}
      },
      "source": [
        "tmp = []\n",
        "for i in test.index:\n",
        "\n",
        "  if (i.hour == 18 and i.minute == 0):\n",
        "    tmp.append(i)\n",
        "\n",
        "idx_del_18 = test.drop(tmp)"
      ],
      "execution_count": 13,
      "outputs": []
    },
    {
      "cell_type": "code",
      "metadata": {
        "id": "su0VLoJaP5AU",
        "colab_type": "code",
        "colab": {
          "base_uri": "https://localhost:8080/",
          "height": 402
        },
        "outputId": "8287efe8-1ac0-4df1-b912-40430c3e5200"
      },
      "source": [
        "idx_del_18"
      ],
      "execution_count": 14,
      "outputs": [
        {
          "output_type": "execute_result",
          "data": {
            "text/html": [
              "<div>\n",
              "<style scoped>\n",
              "    .dataframe tbody tr th:only-of-type {\n",
              "        vertical-align: middle;\n",
              "    }\n",
              "\n",
              "    .dataframe tbody tr th {\n",
              "        vertical-align: top;\n",
              "    }\n",
              "\n",
              "    .dataframe thead th {\n",
              "        text-align: right;\n",
              "    }\n",
              "</style>\n",
              "<table border=\"1\" class=\"dataframe\">\n",
              "  <thead>\n",
              "    <tr style=\"text-align: right;\">\n",
              "      <th></th>\n",
              "    </tr>\n",
              "  </thead>\n",
              "  <tbody>\n",
              "    <tr>\n",
              "      <th>2019-01-05 00:00:00</th>\n",
              "    </tr>\n",
              "    <tr>\n",
              "      <th>2019-01-05 00:20:00</th>\n",
              "    </tr>\n",
              "    <tr>\n",
              "      <th>2019-01-05 00:40:00</th>\n",
              "    </tr>\n",
              "    <tr>\n",
              "      <th>2019-01-05 01:00:00</th>\n",
              "    </tr>\n",
              "    <tr>\n",
              "      <th>2019-01-05 01:20:00</th>\n",
              "    </tr>\n",
              "    <tr>\n",
              "      <th>...</th>\n",
              "    </tr>\n",
              "    <tr>\n",
              "      <th>2019-12-27 22:40:00</th>\n",
              "    </tr>\n",
              "    <tr>\n",
              "      <th>2019-12-27 23:00:00</th>\n",
              "    </tr>\n",
              "    <tr>\n",
              "      <th>2019-12-27 23:20:00</th>\n",
              "    </tr>\n",
              "    <tr>\n",
              "      <th>2019-12-27 23:40:00</th>\n",
              "    </tr>\n",
              "    <tr>\n",
              "      <th>2019-12-28 00:00:00</th>\n",
              "    </tr>\n",
              "  </tbody>\n",
              "</table>\n",
              "<p>25348 rows × 0 columns</p>\n",
              "</div>"
            ],
            "text/plain": [
              "Empty DataFrame\n",
              "Columns: []\n",
              "Index: [2019-01-05 00:00:00, 2019-01-05 00:20:00, 2019-01-05 00:40:00, 2019-01-05 01:00:00, 2019-01-05 01:20:00, 2019-01-05 01:40:00, 2019-01-05 02:00:00, 2019-01-05 02:20:00, 2019-01-05 02:40:00, 2019-01-05 03:00:00, 2019-01-05 03:20:00, 2019-01-05 03:40:00, 2019-01-05 04:00:00, 2019-01-05 04:20:00, 2019-01-05 04:40:00, 2019-01-05 05:00:00, 2019-01-05 05:20:00, 2019-01-05 05:40:00, 2019-01-05 06:00:00, 2019-01-05 06:20:00, 2019-01-05 06:40:00, 2019-01-05 07:00:00, 2019-01-05 07:20:00, 2019-01-05 07:40:00, 2019-01-05 08:00:00, 2019-01-05 08:20:00, 2019-01-05 08:40:00, 2019-01-05 09:00:00, 2019-01-05 09:20:00, 2019-01-05 09:40:00, 2019-01-05 10:00:00, 2019-01-05 10:20:00, 2019-01-05 10:40:00, 2019-01-05 11:00:00, 2019-01-05 11:20:00, 2019-01-05 11:40:00, 2019-01-05 12:00:00, 2019-01-05 12:20:00, 2019-01-05 12:40:00, 2019-01-05 13:00:00, 2019-01-05 13:20:00, 2019-01-05 13:40:00, 2019-01-05 14:00:00, 2019-01-05 14:20:00, 2019-01-05 14:40:00, 2019-01-05 15:00:00, 2019-01-05 15:20:00, 2019-01-05 15:40:00, 2019-01-05 16:00:00, 2019-01-05 16:20:00, 2019-01-05 16:40:00, 2019-01-05 17:00:00, 2019-01-05 17:20:00, 2019-01-05 17:40:00, 2019-01-05 18:20:00, 2019-01-05 18:40:00, 2019-01-05 19:00:00, 2019-01-05 19:20:00, 2019-01-05 19:40:00, 2019-01-05 20:00:00, 2019-01-05 20:20:00, 2019-01-05 20:40:00, 2019-01-05 21:00:00, 2019-01-05 21:20:00, 2019-01-05 21:40:00, 2019-01-05 22:00:00, 2019-01-05 22:20:00, 2019-01-05 22:40:00, 2019-01-05 23:00:00, 2019-01-05 23:20:00, 2019-01-05 23:40:00, 2019-01-06 00:00:00, 2019-01-06 00:20:00, 2019-01-06 00:40:00, 2019-01-06 01:00:00, 2019-01-06 01:20:00, 2019-01-06 01:40:00, 2019-01-06 02:00:00, 2019-01-06 02:20:00, 2019-01-06 02:40:00, 2019-01-06 03:00:00, 2019-01-06 03:20:00, 2019-01-06 03:40:00, 2019-01-06 04:00:00, 2019-01-06 04:20:00, 2019-01-06 04:40:00, 2019-01-06 05:00:00, 2019-01-06 05:20:00, 2019-01-06 05:40:00, 2019-01-06 06:00:00, 2019-01-06 06:20:00, 2019-01-06 06:40:00, 2019-01-06 07:00:00, 2019-01-06 07:20:00, 2019-01-06 07:40:00, 2019-01-06 08:00:00, 2019-01-06 08:20:00, 2019-01-06 08:40:00, 2019-01-06 09:00:00, 2019-01-06 09:20:00, ...]\n",
              "\n",
              "[25348 rows x 0 columns]"
            ]
          },
          "metadata": {
            "tags": []
          },
          "execution_count": 14
        }
      ]
    },
    {
      "cell_type": "code",
      "metadata": {
        "id": "wWRDzpYuS_BE",
        "colab_type": "code",
        "colab": {}
      },
      "source": [
        "perform = del_1[del_1['방송일시'].isin(check)]"
      ],
      "execution_count": 21,
      "outputs": []
    },
    {
      "cell_type": "code",
      "metadata": {
        "id": "1LSOX8lMWozb",
        "colab_type": "code",
        "colab": {}
      },
      "source": [
        "check=list(np.array(idx_del_18.index.tolist()))"
      ],
      "execution_count": 18,
      "outputs": []
    },
    {
      "cell_type": "markdown",
      "metadata": {
        "id": "IeZEfjJQXY1j",
        "colab_type": "text"
      },
      "source": [
        "토요일 18:00:00를 제외한 데이터 프레임 생성"
      ]
    },
    {
      "cell_type": "code",
      "metadata": {
        "id": "YWGik3yFWntq",
        "colab_type": "code",
        "colab": {
          "base_uri": "https://localhost:8080/",
          "height": 419
        },
        "outputId": "8008e620-65bc-4575-8263-ef84b7a50644"
      },
      "source": [
        "perform"
      ],
      "execution_count": 22,
      "outputs": [
        {
          "output_type": "execute_result",
          "data": {
            "text/html": [
              "<div>\n",
              "<style scoped>\n",
              "    .dataframe tbody tr th:only-of-type {\n",
              "        vertical-align: middle;\n",
              "    }\n",
              "\n",
              "    .dataframe tbody tr th {\n",
              "        vertical-align: top;\n",
              "    }\n",
              "\n",
              "    .dataframe thead th {\n",
              "        text-align: right;\n",
              "    }\n",
              "</style>\n",
              "<table border=\"1\" class=\"dataframe\">\n",
              "  <thead>\n",
              "    <tr style=\"text-align: right;\">\n",
              "      <th></th>\n",
              "      <th>방송일시</th>\n",
              "      <th>노출(분)</th>\n",
              "      <th>마더코드</th>\n",
              "      <th>상품코드</th>\n",
              "      <th>상품명</th>\n",
              "      <th>상품군</th>\n",
              "      <th>판매단가</th>\n",
              "      <th>취급액</th>\n",
              "    </tr>\n",
              "  </thead>\n",
              "  <tbody>\n",
              "    <tr>\n",
              "      <th>342</th>\n",
              "      <td>2019-01-05 00:00:00</td>\n",
              "      <td>20.0</td>\n",
              "      <td>100212</td>\n",
              "      <td>200756</td>\n",
              "      <td>스포메틱스 리얼핏 모이스춰라이징 코코넛크림</td>\n",
              "      <td>이미용</td>\n",
              "      <td>49900</td>\n",
              "      <td>10874000.0</td>\n",
              "    </tr>\n",
              "    <tr>\n",
              "      <th>343</th>\n",
              "      <td>2019-01-05 00:20:00</td>\n",
              "      <td>20.0</td>\n",
              "      <td>100212</td>\n",
              "      <td>200756</td>\n",
              "      <td>스포메틱스 리얼핏 모이스춰라이징 코코넛크림</td>\n",
              "      <td>이미용</td>\n",
              "      <td>49900</td>\n",
              "      <td>24142000.0</td>\n",
              "    </tr>\n",
              "    <tr>\n",
              "      <th>344</th>\n",
              "      <td>2019-01-05 00:40:00</td>\n",
              "      <td>20.0</td>\n",
              "      <td>100212</td>\n",
              "      <td>200756</td>\n",
              "      <td>스포메틱스 리얼핏 모이스춰라이징 코코넛크림</td>\n",
              "      <td>이미용</td>\n",
              "      <td>49900</td>\n",
              "      <td>23462000.0</td>\n",
              "    </tr>\n",
              "    <tr>\n",
              "      <th>345</th>\n",
              "      <td>2019-01-05 01:00:00</td>\n",
              "      <td>20.0</td>\n",
              "      <td>100293</td>\n",
              "      <td>200952</td>\n",
              "      <td>일시불[가이거] 제니스시계 주얼리세트</td>\n",
              "      <td>잡화</td>\n",
              "      <td>129000</td>\n",
              "      <td>15067000.0</td>\n",
              "    </tr>\n",
              "    <tr>\n",
              "      <th>346</th>\n",
              "      <td>2019-01-05 01:00:00</td>\n",
              "      <td>NaN</td>\n",
              "      <td>100293</td>\n",
              "      <td>200949</td>\n",
              "      <td>무이자[가이거] 제니스시계 주얼리세트</td>\n",
              "      <td>잡화</td>\n",
              "      <td>139000</td>\n",
              "      <td>6857000.0</td>\n",
              "    </tr>\n",
              "    <tr>\n",
              "      <th>...</th>\n",
              "      <td>...</td>\n",
              "      <td>...</td>\n",
              "      <td>...</td>\n",
              "      <td>...</td>\n",
              "      <td>...</td>\n",
              "      <td>...</td>\n",
              "      <td>...</td>\n",
              "      <td>...</td>\n",
              "    </tr>\n",
              "    <tr>\n",
              "      <th>37935</th>\n",
              "      <td>2019-12-27 20:40:00</td>\n",
              "      <td>20.0</td>\n",
              "      <td>100323</td>\n",
              "      <td>201025</td>\n",
              "      <td>피시원 국내산 햇 손질문어 7팩</td>\n",
              "      <td>농수축</td>\n",
              "      <td>49900</td>\n",
              "      <td>59650000.0</td>\n",
              "    </tr>\n",
              "    <tr>\n",
              "      <th>37936</th>\n",
              "      <td>2019-12-27 21:00:00</td>\n",
              "      <td>20.0</td>\n",
              "      <td>100323</td>\n",
              "      <td>201025</td>\n",
              "      <td>피시원 국내산 햇 손질문어 7팩</td>\n",
              "      <td>농수축</td>\n",
              "      <td>49900</td>\n",
              "      <td>86862000.0</td>\n",
              "    </tr>\n",
              "    <tr>\n",
              "      <th>37938</th>\n",
              "      <td>2019-12-27 22:20:00</td>\n",
              "      <td>20.0</td>\n",
              "      <td>100074</td>\n",
              "      <td>200199</td>\n",
              "      <td>비버리힐스폴로클럽 남성기초세트(골드+콜라겐)</td>\n",
              "      <td>이미용</td>\n",
              "      <td>39800</td>\n",
              "      <td>40586000.0</td>\n",
              "    </tr>\n",
              "    <tr>\n",
              "      <th>37939</th>\n",
              "      <td>2019-12-27 22:40:00</td>\n",
              "      <td>20.0</td>\n",
              "      <td>100074</td>\n",
              "      <td>200199</td>\n",
              "      <td>비버리힐스폴로클럽 남성기초세트(골드+콜라겐)</td>\n",
              "      <td>이미용</td>\n",
              "      <td>39800</td>\n",
              "      <td>63687000.0</td>\n",
              "    </tr>\n",
              "    <tr>\n",
              "      <th>37940</th>\n",
              "      <td>2019-12-27 23:00:00</td>\n",
              "      <td>20.0</td>\n",
              "      <td>100074</td>\n",
              "      <td>200199</td>\n",
              "      <td>비버리힐스폴로클럽 남성기초세트(골드+콜라겐)</td>\n",
              "      <td>이미용</td>\n",
              "      <td>39800</td>\n",
              "      <td>90411000.0</td>\n",
              "    </tr>\n",
              "  </tbody>\n",
              "</table>\n",
              "<p>34363 rows × 8 columns</p>\n",
              "</div>"
            ],
            "text/plain": [
              "                     방송일시  노출(분)    마더코드  ...  상품군    판매단가         취급액\n",
              "342   2019-01-05 00:00:00   20.0  100212  ...  이미용   49900  10874000.0\n",
              "343   2019-01-05 00:20:00   20.0  100212  ...  이미용   49900  24142000.0\n",
              "344   2019-01-05 00:40:00   20.0  100212  ...  이미용   49900  23462000.0\n",
              "345   2019-01-05 01:00:00   20.0  100293  ...   잡화  129000  15067000.0\n",
              "346   2019-01-05 01:00:00    NaN  100293  ...   잡화  139000   6857000.0\n",
              "...                   ...    ...     ...  ...  ...     ...         ...\n",
              "37935 2019-12-27 20:40:00   20.0  100323  ...  농수축   49900  59650000.0\n",
              "37936 2019-12-27 21:00:00   20.0  100323  ...  농수축   49900  86862000.0\n",
              "37938 2019-12-27 22:20:00   20.0  100074  ...  이미용   39800  40586000.0\n",
              "37939 2019-12-27 22:40:00   20.0  100074  ...  이미용   39800  63687000.0\n",
              "37940 2019-12-27 23:00:00   20.0  100074  ...  이미용   39800  90411000.0\n",
              "\n",
              "[34363 rows x 8 columns]"
            ]
          },
          "metadata": {
            "tags": []
          },
          "execution_count": 22
        }
      ]
    },
    {
      "cell_type": "code",
      "metadata": {
        "id": "XaF9x-bMWziL",
        "colab_type": "code",
        "colab": {}
      },
      "source": [
        ""
      ],
      "execution_count": null,
      "outputs": []
    }
  ]
}