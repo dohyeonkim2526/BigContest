{
  "nbformat": 4,
  "nbformat_minor": 0,
  "metadata": {
    "colab": {
      "name": "BigCon.ipynb",
      "provenance": [],
      "collapsed_sections": [],
      "authorship_tag": "ABX9TyMx8NurDCFIt+rbRMIYbXY0",
      "include_colab_link": true
    },
    "kernelspec": {
      "name": "python3",
      "display_name": "Python 3"
    }
  },
  "cells": [
    {
      "cell_type": "markdown",
      "metadata": {
        "id": "view-in-github",
        "colab_type": "text"
      },
      "source": [
        "<a href=\"https://colab.research.google.com/github/dohyeonkim2526/BigContest/blob/master/BigCon(0903).ipynb\" target=\"_parent\"><img src=\"https://colab.research.google.com/assets/colab-badge.svg\" alt=\"Open In Colab\"/></a>"
      ]
    },
    {
      "cell_type": "code",
      "metadata": {
        "id": "RnVUtpDSFpYN",
        "colab_type": "code",
        "colab": {
          "base_uri": "https://localhost:8080/",
          "height": 35
        },
        "outputId": "4867bf28-f210-4e3c-9153-4b90e286dab8"
      },
      "source": [
        "from google.colab import drive\n",
        "drive.mount('/content/gdrive')"
      ],
      "execution_count": 1,
      "outputs": [
        {
          "output_type": "stream",
          "text": [
            "Drive already mounted at /content/gdrive; to attempt to forcibly remount, call drive.mount(\"/content/gdrive\", force_remount=True).\n"
          ],
          "name": "stdout"
        }
      ]
    },
    {
      "cell_type": "code",
      "metadata": {
        "id": "VipwZpvIFxoU",
        "colab_type": "code",
        "colab": {}
      },
      "source": [
        "import os\n",
        "import numpy as np\n",
        "import pandas as pd\n",
        "\n",
        "base_dir='/content/gdrive/My Drive/빅데이터 공모전/빅콘테스트 데이터/제공데이터'\n",
        "sales_data='19년도-실적데이터.xlsx'\n",
        "sales_dir=os.path.join(base_dir, sales_data)\n",
        "\n",
        "base_dir_2='/content/gdrive/My Drive/빅데이터 공모전/빅콘테스트 데이터/평가데이터'\n",
        "pred_data='20년6월-실적예측데이터.xlsx'\n",
        "pred_dir=os.path.join(base_dir_2, pred_data)"
      ],
      "execution_count": 2,
      "outputs": []
    },
    {
      "cell_type": "markdown",
      "metadata": {
        "id": "s9CcpimeO7hr",
        "colab_type": "text"
      },
      "source": [
        "# [예측 데이터]"
      ]
    },
    {
      "cell_type": "code",
      "metadata": {
        "id": "-eYmqZPrO6_I",
        "colab_type": "code",
        "colab": {
          "base_uri": "https://localhost:8080/",
          "height": 411
        },
        "outputId": "761c1870-238d-4a52-e87a-3a889e01b480"
      },
      "source": [
        "df_preds=pd.read_excel(pred_dir,header=1)\n",
        "df_preds  # 예측 상품 데이터프레임"
      ],
      "execution_count": 3,
      "outputs": [
        {
          "output_type": "execute_result",
          "data": {
            "text/html": [
              "<div>\n",
              "<style scoped>\n",
              "    .dataframe tbody tr th:only-of-type {\n",
              "        vertical-align: middle;\n",
              "    }\n",
              "\n",
              "    .dataframe tbody tr th {\n",
              "        vertical-align: top;\n",
              "    }\n",
              "\n",
              "    .dataframe thead th {\n",
              "        text-align: right;\n",
              "    }\n",
              "</style>\n",
              "<table border=\"1\" class=\"dataframe\">\n",
              "  <thead>\n",
              "    <tr style=\"text-align: right;\">\n",
              "      <th></th>\n",
              "      <th>방송일시</th>\n",
              "      <th>노출(분)</th>\n",
              "      <th>마더코드</th>\n",
              "      <th>상품코드</th>\n",
              "      <th>상품명</th>\n",
              "      <th>상품군</th>\n",
              "      <th>판매단가</th>\n",
              "      <th>취급액</th>\n",
              "    </tr>\n",
              "  </thead>\n",
              "  <tbody>\n",
              "    <tr>\n",
              "      <th>0</th>\n",
              "      <td>2020-06-01 06:20:00</td>\n",
              "      <td>20.000000</td>\n",
              "      <td>100650</td>\n",
              "      <td>201971</td>\n",
              "      <td>잭필드 남성  반팔셔츠 4종</td>\n",
              "      <td>의류</td>\n",
              "      <td>59800</td>\n",
              "      <td>NaN</td>\n",
              "    </tr>\n",
              "    <tr>\n",
              "      <th>1</th>\n",
              "      <td>2020-06-01 06:40:00</td>\n",
              "      <td>20.000000</td>\n",
              "      <td>100650</td>\n",
              "      <td>201971</td>\n",
              "      <td>잭필드 남성  반팔셔츠 4종</td>\n",
              "      <td>의류</td>\n",
              "      <td>59800</td>\n",
              "      <td>NaN</td>\n",
              "    </tr>\n",
              "    <tr>\n",
              "      <th>2</th>\n",
              "      <td>2020-06-01 07:00:00</td>\n",
              "      <td>20.000000</td>\n",
              "      <td>100650</td>\n",
              "      <td>201971</td>\n",
              "      <td>잭필드 남성  반팔셔츠 4종</td>\n",
              "      <td>의류</td>\n",
              "      <td>59800</td>\n",
              "      <td>NaN</td>\n",
              "    </tr>\n",
              "    <tr>\n",
              "      <th>3</th>\n",
              "      <td>2020-06-01 07:20:00</td>\n",
              "      <td>20.000000</td>\n",
              "      <td>100445</td>\n",
              "      <td>202278</td>\n",
              "      <td>쿠미투니카 쿨 레이시 란쥬쉐이퍼&amp;팬티</td>\n",
              "      <td>속옷</td>\n",
              "      <td>69900</td>\n",
              "      <td>NaN</td>\n",
              "    </tr>\n",
              "    <tr>\n",
              "      <th>4</th>\n",
              "      <td>2020-06-01 07:40:00</td>\n",
              "      <td>20.000000</td>\n",
              "      <td>100445</td>\n",
              "      <td>202278</td>\n",
              "      <td>쿠미투니카 쿨 레이시 란쥬쉐이퍼&amp;팬티</td>\n",
              "      <td>속옷</td>\n",
              "      <td>69900</td>\n",
              "      <td>NaN</td>\n",
              "    </tr>\n",
              "    <tr>\n",
              "      <th>...</th>\n",
              "      <td>...</td>\n",
              "      <td>...</td>\n",
              "      <td>...</td>\n",
              "      <td>...</td>\n",
              "      <td>...</td>\n",
              "      <td>...</td>\n",
              "      <td>...</td>\n",
              "      <td>...</td>\n",
              "    </tr>\n",
              "    <tr>\n",
              "      <th>2886</th>\n",
              "      <td>2020-07-01 00:20:00</td>\n",
              "      <td>20.000000</td>\n",
              "      <td>100660</td>\n",
              "      <td>201989</td>\n",
              "      <td>쉴렉스  안마의자 렌탈서비스</td>\n",
              "      <td>무형</td>\n",
              "      <td>0</td>\n",
              "      <td>NaN</td>\n",
              "    </tr>\n",
              "    <tr>\n",
              "      <th>2887</th>\n",
              "      <td>2020-07-01 00:40:00</td>\n",
              "      <td>20.000000</td>\n",
              "      <td>100660</td>\n",
              "      <td>201989</td>\n",
              "      <td>쉴렉스  안마의자 렌탈서비스</td>\n",
              "      <td>무형</td>\n",
              "      <td>0</td>\n",
              "      <td>NaN</td>\n",
              "    </tr>\n",
              "    <tr>\n",
              "      <th>2888</th>\n",
              "      <td>2020-07-01 01:00:00</td>\n",
              "      <td>20.000000</td>\n",
              "      <td>100660</td>\n",
              "      <td>201989</td>\n",
              "      <td>쉴렉스  안마의자 렌탈서비스</td>\n",
              "      <td>무형</td>\n",
              "      <td>0</td>\n",
              "      <td>NaN</td>\n",
              "    </tr>\n",
              "    <tr>\n",
              "      <th>2889</th>\n",
              "      <td>2020-07-01 01:20:00</td>\n",
              "      <td>20.000000</td>\n",
              "      <td>100261</td>\n",
              "      <td>200875</td>\n",
              "      <td>아놀드파마 티셔츠레깅스세트</td>\n",
              "      <td>의류</td>\n",
              "      <td>69900</td>\n",
              "      <td>NaN</td>\n",
              "    </tr>\n",
              "    <tr>\n",
              "      <th>2890</th>\n",
              "      <td>2020-07-01 01:40:00</td>\n",
              "      <td>15.933333</td>\n",
              "      <td>100261</td>\n",
              "      <td>200875</td>\n",
              "      <td>아놀드파마 티셔츠레깅스세트</td>\n",
              "      <td>의류</td>\n",
              "      <td>69900</td>\n",
              "      <td>NaN</td>\n",
              "    </tr>\n",
              "  </tbody>\n",
              "</table>\n",
              "<p>2891 rows × 8 columns</p>\n",
              "</div>"
            ],
            "text/plain": [
              "                    방송일시      노출(분)    마더코드  ...  상품군   판매단가 취급액\n",
              "0    2020-06-01 06:20:00  20.000000  100650  ...   의류  59800 NaN\n",
              "1    2020-06-01 06:40:00  20.000000  100650  ...   의류  59800 NaN\n",
              "2    2020-06-01 07:00:00  20.000000  100650  ...   의류  59800 NaN\n",
              "3    2020-06-01 07:20:00  20.000000  100445  ...   속옷  69900 NaN\n",
              "4    2020-06-01 07:40:00  20.000000  100445  ...   속옷  69900 NaN\n",
              "...                  ...        ...     ...  ...  ...    ...  ..\n",
              "2886 2020-07-01 00:20:00  20.000000  100660  ...   무형      0 NaN\n",
              "2887 2020-07-01 00:40:00  20.000000  100660  ...   무형      0 NaN\n",
              "2888 2020-07-01 01:00:00  20.000000  100660  ...   무형      0 NaN\n",
              "2889 2020-07-01 01:20:00  20.000000  100261  ...   의류  69900 NaN\n",
              "2890 2020-07-01 01:40:00  15.933333  100261  ...   의류  69900 NaN\n",
              "\n",
              "[2891 rows x 8 columns]"
            ]
          },
          "metadata": {
            "tags": []
          },
          "execution_count": 3
        }
      ]
    },
    {
      "cell_type": "code",
      "metadata": {
        "id": "xg-uVl5ERFsf",
        "colab_type": "code",
        "colab": {}
      },
      "source": [
        "df_preds=df_preds.drop(df_preds[(df_preds['판매단가']==0)].index) # 예측 상품 판매가 0원인 것은 예측에서 제외\n",
        "df_preds=df_preds.reset_index(drop=True)"
      ],
      "execution_count": 4,
      "outputs": []
    },
    {
      "cell_type": "code",
      "metadata": {
        "id": "cB1Kw2j2SdvO",
        "colab_type": "code",
        "colab": {}
      },
      "source": [
        "# 예측 상품의 마더코드 리스트 생성\n",
        "\n",
        "pred_code=[]\n",
        "for code in df_preds['마더코드']:\n",
        "  if code not in pred_code:\n",
        "    pred_code.append(code)\n",
        "\n",
        "pred_code.sort()"
      ],
      "execution_count": 5,
      "outputs": []
    },
    {
      "cell_type": "markdown",
      "metadata": {
        "id": "aHWOw8P9mABp",
        "colab_type": "text"
      },
      "source": [
        "# [ 2019 판매 데이터 ]"
      ]
    },
    {
      "cell_type": "code",
      "metadata": {
        "id": "Jg2SCcalGOPB",
        "colab_type": "code",
        "colab": {}
      },
      "source": [
        "df_sales=pd.read_excel(sales_dir,header=1, na_values='NaN')"
      ],
      "execution_count": 6,
      "outputs": []
    },
    {
      "cell_type": "code",
      "metadata": {
        "id": "wkSCB4QA21qo",
        "colab_type": "code",
        "colab": {}
      },
      "source": [
        "del_idx = df_sales[df_sales['상품군']=='무형'].index\n",
        "del_1 = df_sales.drop(del_idx)"
      ],
      "execution_count": 7,
      "outputs": []
    },
    {
      "cell_type": "code",
      "metadata": {
        "id": "TniGDaGCtmTK",
        "colab_type": "code",
        "colab": {
          "base_uri": "https://localhost:8080/",
          "height": 177
        },
        "outputId": "d62c6e97-001a-4bb6-82d0-bd44be87fcbb"
      },
      "source": [
        "del_1.isnull().sum()"
      ],
      "execution_count": 9,
      "outputs": [
        {
          "output_type": "execute_result",
          "data": {
            "text/plain": [
              "방송일시         0\n",
              "노출(분)    16784\n",
              "마더코드         0\n",
              "상품코드         0\n",
              "상품명          0\n",
              "상품군          0\n",
              "판매단가         0\n",
              "취급액       1993\n",
              "dtype: int64"
            ]
          },
          "metadata": {
            "tags": []
          },
          "execution_count": 9
        }
      ]
    },
    {
      "cell_type": "code",
      "metadata": {
        "id": "8-rCF5GNxq7j",
        "colab_type": "code",
        "colab": {}
      },
      "source": [
        "sat_idx = pd.DataFrame(index = pd.date_range('2019-01-01','2020-01-01',freq='W-SAT'))"
      ],
      "execution_count": 10,
      "outputs": []
    },
    {
      "cell_type": "code",
      "metadata": {
        "id": "lWPoefOnBniT",
        "colab_type": "code",
        "colab": {
          "base_uri": "https://localhost:8080/",
          "height": 394
        },
        "outputId": "1d086da1-2466-4bd1-8116-88ac75e22502"
      },
      "source": [
        "test = sat_idx.resample('20T').sum() #20분 단위로 시계열 인덱스 생성\n",
        "test"
      ],
      "execution_count": 11,
      "outputs": [
        {
          "output_type": "execute_result",
          "data": {
            "text/html": [
              "<div>\n",
              "<style scoped>\n",
              "    .dataframe tbody tr th:only-of-type {\n",
              "        vertical-align: middle;\n",
              "    }\n",
              "\n",
              "    .dataframe tbody tr th {\n",
              "        vertical-align: top;\n",
              "    }\n",
              "\n",
              "    .dataframe thead th {\n",
              "        text-align: right;\n",
              "    }\n",
              "</style>\n",
              "<table border=\"1\" class=\"dataframe\">\n",
              "  <thead>\n",
              "    <tr style=\"text-align: right;\">\n",
              "      <th></th>\n",
              "    </tr>\n",
              "  </thead>\n",
              "  <tbody>\n",
              "    <tr>\n",
              "      <th>2019-01-05 00:00:00</th>\n",
              "    </tr>\n",
              "    <tr>\n",
              "      <th>2019-01-05 00:20:00</th>\n",
              "    </tr>\n",
              "    <tr>\n",
              "      <th>2019-01-05 00:40:00</th>\n",
              "    </tr>\n",
              "    <tr>\n",
              "      <th>2019-01-05 01:00:00</th>\n",
              "    </tr>\n",
              "    <tr>\n",
              "      <th>2019-01-05 01:20:00</th>\n",
              "    </tr>\n",
              "    <tr>\n",
              "      <th>...</th>\n",
              "    </tr>\n",
              "    <tr>\n",
              "      <th>2019-12-27 22:40:00</th>\n",
              "    </tr>\n",
              "    <tr>\n",
              "      <th>2019-12-27 23:00:00</th>\n",
              "    </tr>\n",
              "    <tr>\n",
              "      <th>2019-12-27 23:20:00</th>\n",
              "    </tr>\n",
              "    <tr>\n",
              "      <th>2019-12-27 23:40:00</th>\n",
              "    </tr>\n",
              "    <tr>\n",
              "      <th>2019-12-28 00:00:00</th>\n",
              "    </tr>\n",
              "  </tbody>\n",
              "</table>\n",
              "<p>25705 rows × 0 columns</p>\n",
              "</div>"
            ],
            "text/plain": [
              "Empty DataFrame\n",
              "Columns: []\n",
              "Index: [2019-01-05 00:00:00, 2019-01-05 00:20:00, 2019-01-05 00:40:00, 2019-01-05 01:00:00, 2019-01-05 01:20:00, 2019-01-05 01:40:00, 2019-01-05 02:00:00, 2019-01-05 02:20:00, 2019-01-05 02:40:00, 2019-01-05 03:00:00, 2019-01-05 03:20:00, 2019-01-05 03:40:00, 2019-01-05 04:00:00, 2019-01-05 04:20:00, 2019-01-05 04:40:00, 2019-01-05 05:00:00, 2019-01-05 05:20:00, 2019-01-05 05:40:00, 2019-01-05 06:00:00, 2019-01-05 06:20:00, 2019-01-05 06:40:00, 2019-01-05 07:00:00, 2019-01-05 07:20:00, 2019-01-05 07:40:00, 2019-01-05 08:00:00, 2019-01-05 08:20:00, 2019-01-05 08:40:00, 2019-01-05 09:00:00, 2019-01-05 09:20:00, 2019-01-05 09:40:00, 2019-01-05 10:00:00, 2019-01-05 10:20:00, 2019-01-05 10:40:00, 2019-01-05 11:00:00, 2019-01-05 11:20:00, 2019-01-05 11:40:00, 2019-01-05 12:00:00, 2019-01-05 12:20:00, 2019-01-05 12:40:00, 2019-01-05 13:00:00, 2019-01-05 13:20:00, 2019-01-05 13:40:00, 2019-01-05 14:00:00, 2019-01-05 14:20:00, 2019-01-05 14:40:00, 2019-01-05 15:00:00, 2019-01-05 15:20:00, 2019-01-05 15:40:00, 2019-01-05 16:00:00, 2019-01-05 16:20:00, 2019-01-05 16:40:00, 2019-01-05 17:00:00, 2019-01-05 17:20:00, 2019-01-05 17:40:00, 2019-01-05 18:00:00, 2019-01-05 18:20:00, 2019-01-05 18:40:00, 2019-01-05 19:00:00, 2019-01-05 19:20:00, 2019-01-05 19:40:00, 2019-01-05 20:00:00, 2019-01-05 20:20:00, 2019-01-05 20:40:00, 2019-01-05 21:00:00, 2019-01-05 21:20:00, 2019-01-05 21:40:00, 2019-01-05 22:00:00, 2019-01-05 22:20:00, 2019-01-05 22:40:00, 2019-01-05 23:00:00, 2019-01-05 23:20:00, 2019-01-05 23:40:00, 2019-01-06 00:00:00, 2019-01-06 00:20:00, 2019-01-06 00:40:00, 2019-01-06 01:00:00, 2019-01-06 01:20:00, 2019-01-06 01:40:00, 2019-01-06 02:00:00, 2019-01-06 02:20:00, 2019-01-06 02:40:00, 2019-01-06 03:00:00, 2019-01-06 03:20:00, 2019-01-06 03:40:00, 2019-01-06 04:00:00, 2019-01-06 04:20:00, 2019-01-06 04:40:00, 2019-01-06 05:00:00, 2019-01-06 05:20:00, 2019-01-06 05:40:00, 2019-01-06 06:00:00, 2019-01-06 06:20:00, 2019-01-06 06:40:00, 2019-01-06 07:00:00, 2019-01-06 07:20:00, 2019-01-06 07:40:00, 2019-01-06 08:00:00, 2019-01-06 08:20:00, 2019-01-06 08:40:00, 2019-01-06 09:00:00, ...]\n",
              "\n",
              "[25705 rows x 0 columns]"
            ]
          },
          "metadata": {
            "tags": []
          },
          "execution_count": 11
        }
      ]
    },
    {
      "cell_type": "code",
      "metadata": {
        "id": "OZtM4Ua7EPhf",
        "colab_type": "code",
        "colab": {}
      },
      "source": [
        "test_list = []\n",
        "for i in range(len(test)):\n",
        "  test_list.append(test.iloc[i,:])\n",
        "\n",
        "tmp = []\n",
        "for i in test.index:\n",
        "\n",
        "  if (i.hour == 18 and i.minute == 0):\n",
        "    tmp.append(i)\n",
        "\n",
        "idx_del_18 = test.drop(tmp)"
      ],
      "execution_count": 12,
      "outputs": []
    },
    {
      "cell_type": "code",
      "metadata": {
        "id": "VYLkANCLEYrj",
        "colab_type": "code",
        "colab": {
          "base_uri": "https://localhost:8080/",
          "height": 394
        },
        "outputId": "741861e1-5b94-4c8f-db53-d87746c5359c"
      },
      "source": [
        "idx_del_18[:100]"
      ],
      "execution_count": 13,
      "outputs": [
        {
          "output_type": "execute_result",
          "data": {
            "text/html": [
              "<div>\n",
              "<style scoped>\n",
              "    .dataframe tbody tr th:only-of-type {\n",
              "        vertical-align: middle;\n",
              "    }\n",
              "\n",
              "    .dataframe tbody tr th {\n",
              "        vertical-align: top;\n",
              "    }\n",
              "\n",
              "    .dataframe thead th {\n",
              "        text-align: right;\n",
              "    }\n",
              "</style>\n",
              "<table border=\"1\" class=\"dataframe\">\n",
              "  <thead>\n",
              "    <tr style=\"text-align: right;\">\n",
              "      <th></th>\n",
              "    </tr>\n",
              "  </thead>\n",
              "  <tbody>\n",
              "    <tr>\n",
              "      <th>2019-01-05 00:00:00</th>\n",
              "    </tr>\n",
              "    <tr>\n",
              "      <th>2019-01-05 00:20:00</th>\n",
              "    </tr>\n",
              "    <tr>\n",
              "      <th>2019-01-05 00:40:00</th>\n",
              "    </tr>\n",
              "    <tr>\n",
              "      <th>2019-01-05 01:00:00</th>\n",
              "    </tr>\n",
              "    <tr>\n",
              "      <th>2019-01-05 01:20:00</th>\n",
              "    </tr>\n",
              "    <tr>\n",
              "      <th>...</th>\n",
              "    </tr>\n",
              "    <tr>\n",
              "      <th>2019-01-06 08:00:00</th>\n",
              "    </tr>\n",
              "    <tr>\n",
              "      <th>2019-01-06 08:20:00</th>\n",
              "    </tr>\n",
              "    <tr>\n",
              "      <th>2019-01-06 08:40:00</th>\n",
              "    </tr>\n",
              "    <tr>\n",
              "      <th>2019-01-06 09:00:00</th>\n",
              "    </tr>\n",
              "    <tr>\n",
              "      <th>2019-01-06 09:20:00</th>\n",
              "    </tr>\n",
              "  </tbody>\n",
              "</table>\n",
              "<p>100 rows × 0 columns</p>\n",
              "</div>"
            ],
            "text/plain": [
              "Empty DataFrame\n",
              "Columns: []\n",
              "Index: [2019-01-05 00:00:00, 2019-01-05 00:20:00, 2019-01-05 00:40:00, 2019-01-05 01:00:00, 2019-01-05 01:20:00, 2019-01-05 01:40:00, 2019-01-05 02:00:00, 2019-01-05 02:20:00, 2019-01-05 02:40:00, 2019-01-05 03:00:00, 2019-01-05 03:20:00, 2019-01-05 03:40:00, 2019-01-05 04:00:00, 2019-01-05 04:20:00, 2019-01-05 04:40:00, 2019-01-05 05:00:00, 2019-01-05 05:20:00, 2019-01-05 05:40:00, 2019-01-05 06:00:00, 2019-01-05 06:20:00, 2019-01-05 06:40:00, 2019-01-05 07:00:00, 2019-01-05 07:20:00, 2019-01-05 07:40:00, 2019-01-05 08:00:00, 2019-01-05 08:20:00, 2019-01-05 08:40:00, 2019-01-05 09:00:00, 2019-01-05 09:20:00, 2019-01-05 09:40:00, 2019-01-05 10:00:00, 2019-01-05 10:20:00, 2019-01-05 10:40:00, 2019-01-05 11:00:00, 2019-01-05 11:20:00, 2019-01-05 11:40:00, 2019-01-05 12:00:00, 2019-01-05 12:20:00, 2019-01-05 12:40:00, 2019-01-05 13:00:00, 2019-01-05 13:20:00, 2019-01-05 13:40:00, 2019-01-05 14:00:00, 2019-01-05 14:20:00, 2019-01-05 14:40:00, 2019-01-05 15:00:00, 2019-01-05 15:20:00, 2019-01-05 15:40:00, 2019-01-05 16:00:00, 2019-01-05 16:20:00, 2019-01-05 16:40:00, 2019-01-05 17:00:00, 2019-01-05 17:20:00, 2019-01-05 17:40:00, 2019-01-05 18:20:00, 2019-01-05 18:40:00, 2019-01-05 19:00:00, 2019-01-05 19:20:00, 2019-01-05 19:40:00, 2019-01-05 20:00:00, 2019-01-05 20:20:00, 2019-01-05 20:40:00, 2019-01-05 21:00:00, 2019-01-05 21:20:00, 2019-01-05 21:40:00, 2019-01-05 22:00:00, 2019-01-05 22:20:00, 2019-01-05 22:40:00, 2019-01-05 23:00:00, 2019-01-05 23:20:00, 2019-01-05 23:40:00, 2019-01-06 00:00:00, 2019-01-06 00:20:00, 2019-01-06 00:40:00, 2019-01-06 01:00:00, 2019-01-06 01:20:00, 2019-01-06 01:40:00, 2019-01-06 02:00:00, 2019-01-06 02:20:00, 2019-01-06 02:40:00, 2019-01-06 03:00:00, 2019-01-06 03:20:00, 2019-01-06 03:40:00, 2019-01-06 04:00:00, 2019-01-06 04:20:00, 2019-01-06 04:40:00, 2019-01-06 05:00:00, 2019-01-06 05:20:00, 2019-01-06 05:40:00, 2019-01-06 06:00:00, 2019-01-06 06:20:00, 2019-01-06 06:40:00, 2019-01-06 07:00:00, 2019-01-06 07:20:00, 2019-01-06 07:40:00, 2019-01-06 08:00:00, 2019-01-06 08:20:00, 2019-01-06 08:40:00, 2019-01-06 09:00:00, 2019-01-06 09:20:00]\n",
              "\n",
              "[100 rows x 0 columns]"
            ]
          },
          "metadata": {
            "tags": []
          },
          "execution_count": 13
        }
      ]
    },
    {
      "cell_type": "code",
      "metadata": {
        "id": "f8EruxrvEa8T",
        "colab_type": "code",
        "colab": {}
      },
      "source": [
        "check=list(np.array(idx_del_18.index.tolist()))\n",
        "perform = del_1[del_1['방송일시'].isin(check)]  # 토요일 18:00:00를 제외한 데이터 프레임 생성"
      ],
      "execution_count": 14,
      "outputs": []
    },
    {
      "cell_type": "code",
      "metadata": {
        "id": "XHebCR1xEgRd",
        "colab_type": "code",
        "colab": {
          "base_uri": "https://localhost:8080/",
          "height": 411
        },
        "outputId": "df862953-0c7c-4e7f-ac15-a6de800abbeb"
      },
      "source": [
        "perform=perform.reset_index(drop=True)\n",
        "perform"
      ],
      "execution_count": 15,
      "outputs": [
        {
          "output_type": "execute_result",
          "data": {
            "text/html": [
              "<div>\n",
              "<style scoped>\n",
              "    .dataframe tbody tr th:only-of-type {\n",
              "        vertical-align: middle;\n",
              "    }\n",
              "\n",
              "    .dataframe tbody tr th {\n",
              "        vertical-align: top;\n",
              "    }\n",
              "\n",
              "    .dataframe thead th {\n",
              "        text-align: right;\n",
              "    }\n",
              "</style>\n",
              "<table border=\"1\" class=\"dataframe\">\n",
              "  <thead>\n",
              "    <tr style=\"text-align: right;\">\n",
              "      <th></th>\n",
              "      <th>방송일시</th>\n",
              "      <th>노출(분)</th>\n",
              "      <th>마더코드</th>\n",
              "      <th>상품코드</th>\n",
              "      <th>상품명</th>\n",
              "      <th>상품군</th>\n",
              "      <th>판매단가</th>\n",
              "      <th>취급액</th>\n",
              "    </tr>\n",
              "  </thead>\n",
              "  <tbody>\n",
              "    <tr>\n",
              "      <th>0</th>\n",
              "      <td>2019-01-05 00:00:00</td>\n",
              "      <td>20.0</td>\n",
              "      <td>100212</td>\n",
              "      <td>200756</td>\n",
              "      <td>스포메틱스 리얼핏 모이스춰라이징 코코넛크림</td>\n",
              "      <td>이미용</td>\n",
              "      <td>49900</td>\n",
              "      <td>10874000.0</td>\n",
              "    </tr>\n",
              "    <tr>\n",
              "      <th>1</th>\n",
              "      <td>2019-01-05 00:20:00</td>\n",
              "      <td>20.0</td>\n",
              "      <td>100212</td>\n",
              "      <td>200756</td>\n",
              "      <td>스포메틱스 리얼핏 모이스춰라이징 코코넛크림</td>\n",
              "      <td>이미용</td>\n",
              "      <td>49900</td>\n",
              "      <td>24142000.0</td>\n",
              "    </tr>\n",
              "    <tr>\n",
              "      <th>2</th>\n",
              "      <td>2019-01-05 00:40:00</td>\n",
              "      <td>20.0</td>\n",
              "      <td>100212</td>\n",
              "      <td>200756</td>\n",
              "      <td>스포메틱스 리얼핏 모이스춰라이징 코코넛크림</td>\n",
              "      <td>이미용</td>\n",
              "      <td>49900</td>\n",
              "      <td>23462000.0</td>\n",
              "    </tr>\n",
              "    <tr>\n",
              "      <th>3</th>\n",
              "      <td>2019-01-05 01:00:00</td>\n",
              "      <td>20.0</td>\n",
              "      <td>100293</td>\n",
              "      <td>200952</td>\n",
              "      <td>일시불[가이거] 제니스시계 주얼리세트</td>\n",
              "      <td>잡화</td>\n",
              "      <td>129000</td>\n",
              "      <td>15067000.0</td>\n",
              "    </tr>\n",
              "    <tr>\n",
              "      <th>4</th>\n",
              "      <td>2019-01-05 01:00:00</td>\n",
              "      <td>NaN</td>\n",
              "      <td>100293</td>\n",
              "      <td>200949</td>\n",
              "      <td>무이자[가이거] 제니스시계 주얼리세트</td>\n",
              "      <td>잡화</td>\n",
              "      <td>139000</td>\n",
              "      <td>6857000.0</td>\n",
              "    </tr>\n",
              "    <tr>\n",
              "      <th>...</th>\n",
              "      <td>...</td>\n",
              "      <td>...</td>\n",
              "      <td>...</td>\n",
              "      <td>...</td>\n",
              "      <td>...</td>\n",
              "      <td>...</td>\n",
              "      <td>...</td>\n",
              "      <td>...</td>\n",
              "    </tr>\n",
              "    <tr>\n",
              "      <th>34358</th>\n",
              "      <td>2019-12-27 20:40:00</td>\n",
              "      <td>20.0</td>\n",
              "      <td>100323</td>\n",
              "      <td>201025</td>\n",
              "      <td>피시원 국내산 햇 손질문어 7팩</td>\n",
              "      <td>농수축</td>\n",
              "      <td>49900</td>\n",
              "      <td>59650000.0</td>\n",
              "    </tr>\n",
              "    <tr>\n",
              "      <th>34359</th>\n",
              "      <td>2019-12-27 21:00:00</td>\n",
              "      <td>20.0</td>\n",
              "      <td>100323</td>\n",
              "      <td>201025</td>\n",
              "      <td>피시원 국내산 햇 손질문어 7팩</td>\n",
              "      <td>농수축</td>\n",
              "      <td>49900</td>\n",
              "      <td>86862000.0</td>\n",
              "    </tr>\n",
              "    <tr>\n",
              "      <th>34360</th>\n",
              "      <td>2019-12-27 22:20:00</td>\n",
              "      <td>20.0</td>\n",
              "      <td>100074</td>\n",
              "      <td>200199</td>\n",
              "      <td>비버리힐스폴로클럽 남성기초세트(골드+콜라겐)</td>\n",
              "      <td>이미용</td>\n",
              "      <td>39800</td>\n",
              "      <td>40586000.0</td>\n",
              "    </tr>\n",
              "    <tr>\n",
              "      <th>34361</th>\n",
              "      <td>2019-12-27 22:40:00</td>\n",
              "      <td>20.0</td>\n",
              "      <td>100074</td>\n",
              "      <td>200199</td>\n",
              "      <td>비버리힐스폴로클럽 남성기초세트(골드+콜라겐)</td>\n",
              "      <td>이미용</td>\n",
              "      <td>39800</td>\n",
              "      <td>63687000.0</td>\n",
              "    </tr>\n",
              "    <tr>\n",
              "      <th>34362</th>\n",
              "      <td>2019-12-27 23:00:00</td>\n",
              "      <td>20.0</td>\n",
              "      <td>100074</td>\n",
              "      <td>200199</td>\n",
              "      <td>비버리힐스폴로클럽 남성기초세트(골드+콜라겐)</td>\n",
              "      <td>이미용</td>\n",
              "      <td>39800</td>\n",
              "      <td>90411000.0</td>\n",
              "    </tr>\n",
              "  </tbody>\n",
              "</table>\n",
              "<p>34363 rows × 8 columns</p>\n",
              "</div>"
            ],
            "text/plain": [
              "                     방송일시  노출(분)    마더코드  ...  상품군    판매단가         취급액\n",
              "0     2019-01-05 00:00:00   20.0  100212  ...  이미용   49900  10874000.0\n",
              "1     2019-01-05 00:20:00   20.0  100212  ...  이미용   49900  24142000.0\n",
              "2     2019-01-05 00:40:00   20.0  100212  ...  이미용   49900  23462000.0\n",
              "3     2019-01-05 01:00:00   20.0  100293  ...   잡화  129000  15067000.0\n",
              "4     2019-01-05 01:00:00    NaN  100293  ...   잡화  139000   6857000.0\n",
              "...                   ...    ...     ...  ...  ...     ...         ...\n",
              "34358 2019-12-27 20:40:00   20.0  100323  ...  농수축   49900  59650000.0\n",
              "34359 2019-12-27 21:00:00   20.0  100323  ...  농수축   49900  86862000.0\n",
              "34360 2019-12-27 22:20:00   20.0  100074  ...  이미용   39800  40586000.0\n",
              "34361 2019-12-27 22:40:00   20.0  100074  ...  이미용   39800  63687000.0\n",
              "34362 2019-12-27 23:00:00   20.0  100074  ...  이미용   39800  90411000.0\n",
              "\n",
              "[34363 rows x 8 columns]"
            ]
          },
          "metadata": {
            "tags": []
          },
          "execution_count": 15
        }
      ]
    },
    {
      "cell_type": "code",
      "metadata": {
        "id": "rbaCEmG1VMM2",
        "colab_type": "code",
        "colab": {}
      },
      "source": [
        "# 2019 판매 상품의 마더코드 리스트 생성\n",
        "\n",
        "sales_code=[]\n",
        "for code in perform['마더코드']:\n",
        "  if code not in sales_code:\n",
        "    sales_code.append(code)\n",
        "\n",
        "sales_code.sort()"
      ],
      "execution_count": 16,
      "outputs": []
    },
    {
      "cell_type": "markdown",
      "metadata": {
        "id": "_5MWy1ftXLEu",
        "colab_type": "text"
      },
      "source": [
        "## [2019 판매/예측 마더코드의 비교→예측 데이터에서 과거 실적이 없는 상품들을 찾아낸다.]"
      ]
    },
    {
      "cell_type": "code",
      "metadata": {
        "id": "Z55TC9nglu_Q",
        "colab_type": "code",
        "colab": {}
      },
      "source": [
        "no_sales_code=[]  # 예측 데이터 기준: 과거 실적이 없는 마더코드 리스트\n",
        "for pred in pred_code:\n",
        "  if pred not in sales_code:\n",
        "    no_sales_code.append(pred)\n",
        "\n",
        "no_sales_code.sort()"
      ],
      "execution_count": 17,
      "outputs": []
    },
    {
      "cell_type": "code",
      "metadata": {
        "id": "4NyBb4s_1zpF",
        "colab_type": "code",
        "colab": {}
      },
      "source": [
        "df_only_in_preds=pd.DataFrame()\n",
        "\n",
        "for code in no_sales_code:\n",
        "  code_preds=df_preds[(df_preds['마더코드']==code)]\n",
        "  df_only_in_preds=pd.concat([df_only_in_preds,code_preds])\n",
        "\n",
        "df_only_in_preds=df_only_in_preds.reset_index(drop=True)"
      ],
      "execution_count": 18,
      "outputs": []
    },
    {
      "cell_type": "code",
      "metadata": {
        "id": "66H2GlGJuZuj",
        "colab_type": "code",
        "colab": {
          "base_uri": "https://localhost:8080/",
          "height": 411
        },
        "outputId": "5d3ec84c-74e6-47f8-90b4-44ec7eef6ac2"
      },
      "source": [
        "df_only_in_preds  # 과거 실적이 없는 예측 상품 데이터프레임"
      ],
      "execution_count": 19,
      "outputs": [
        {
          "output_type": "execute_result",
          "data": {
            "text/html": [
              "<div>\n",
              "<style scoped>\n",
              "    .dataframe tbody tr th:only-of-type {\n",
              "        vertical-align: middle;\n",
              "    }\n",
              "\n",
              "    .dataframe tbody tr th {\n",
              "        vertical-align: top;\n",
              "    }\n",
              "\n",
              "    .dataframe thead th {\n",
              "        text-align: right;\n",
              "    }\n",
              "</style>\n",
              "<table border=\"1\" class=\"dataframe\">\n",
              "  <thead>\n",
              "    <tr style=\"text-align: right;\">\n",
              "      <th></th>\n",
              "      <th>방송일시</th>\n",
              "      <th>노출(분)</th>\n",
              "      <th>마더코드</th>\n",
              "      <th>상품코드</th>\n",
              "      <th>상품명</th>\n",
              "      <th>상품군</th>\n",
              "      <th>판매단가</th>\n",
              "      <th>취급액</th>\n",
              "    </tr>\n",
              "  </thead>\n",
              "  <tbody>\n",
              "    <tr>\n",
              "      <th>0</th>\n",
              "      <td>2020-06-25 08:20:00</td>\n",
              "      <td>20.0</td>\n",
              "      <td>100003</td>\n",
              "      <td>200004</td>\n",
              "      <td>PN  메가티타늄 후라이팬 기본세트</td>\n",
              "      <td>주방</td>\n",
              "      <td>68000</td>\n",
              "      <td>NaN</td>\n",
              "    </tr>\n",
              "    <tr>\n",
              "      <th>1</th>\n",
              "      <td>2020-06-25 08:20:00</td>\n",
              "      <td>NaN</td>\n",
              "      <td>100003</td>\n",
              "      <td>200003</td>\n",
              "      <td>PN 메가티타늄 후라이팬+IH 인덕션 1구 풀세트</td>\n",
              "      <td>주방</td>\n",
              "      <td>98000</td>\n",
              "      <td>NaN</td>\n",
              "    </tr>\n",
              "    <tr>\n",
              "      <th>2</th>\n",
              "      <td>2020-06-25 08:40:00</td>\n",
              "      <td>20.0</td>\n",
              "      <td>100003</td>\n",
              "      <td>200004</td>\n",
              "      <td>PN  메가티타늄 후라이팬 기본세트</td>\n",
              "      <td>주방</td>\n",
              "      <td>68000</td>\n",
              "      <td>NaN</td>\n",
              "    </tr>\n",
              "    <tr>\n",
              "      <th>3</th>\n",
              "      <td>2020-06-25 08:40:00</td>\n",
              "      <td>NaN</td>\n",
              "      <td>100003</td>\n",
              "      <td>200003</td>\n",
              "      <td>PN 메가티타늄 후라이팬+IH 인덕션 1구 풀세트</td>\n",
              "      <td>주방</td>\n",
              "      <td>98000</td>\n",
              "      <td>NaN</td>\n",
              "    </tr>\n",
              "    <tr>\n",
              "      <th>4</th>\n",
              "      <td>2020-06-25 09:00:00</td>\n",
              "      <td>20.0</td>\n",
              "      <td>100003</td>\n",
              "      <td>200004</td>\n",
              "      <td>PN  메가티타늄 후라이팬 기본세트</td>\n",
              "      <td>주방</td>\n",
              "      <td>68000</td>\n",
              "      <td>NaN</td>\n",
              "    </tr>\n",
              "    <tr>\n",
              "      <th>...</th>\n",
              "      <td>...</td>\n",
              "      <td>...</td>\n",
              "      <td>...</td>\n",
              "      <td>...</td>\n",
              "      <td>...</td>\n",
              "      <td>...</td>\n",
              "      <td>...</td>\n",
              "      <td>...</td>\n",
              "    </tr>\n",
              "    <tr>\n",
              "      <th>1192</th>\n",
              "      <td>2020-06-11 11:20:00</td>\n",
              "      <td>NaN</td>\n",
              "      <td>100847</td>\n",
              "      <td>202507</td>\n",
              "      <td>추억의쥐치포55장</td>\n",
              "      <td>농수축</td>\n",
              "      <td>32900</td>\n",
              "      <td>NaN</td>\n",
              "    </tr>\n",
              "    <tr>\n",
              "      <th>1193</th>\n",
              "      <td>2020-06-11 11:40:00</td>\n",
              "      <td>20.0</td>\n",
              "      <td>100847</td>\n",
              "      <td>202506</td>\n",
              "      <td>추억의쥐치포110장</td>\n",
              "      <td>농수축</td>\n",
              "      <td>32900</td>\n",
              "      <td>NaN</td>\n",
              "    </tr>\n",
              "    <tr>\n",
              "      <th>1194</th>\n",
              "      <td>2020-06-11 11:40:00</td>\n",
              "      <td>NaN</td>\n",
              "      <td>100847</td>\n",
              "      <td>202507</td>\n",
              "      <td>추억의쥐치포55장</td>\n",
              "      <td>농수축</td>\n",
              "      <td>32900</td>\n",
              "      <td>NaN</td>\n",
              "    </tr>\n",
              "    <tr>\n",
              "      <th>1195</th>\n",
              "      <td>2020-06-11 12:00:00</td>\n",
              "      <td>20.0</td>\n",
              "      <td>100847</td>\n",
              "      <td>202506</td>\n",
              "      <td>추억의쥐치포110장</td>\n",
              "      <td>농수축</td>\n",
              "      <td>32900</td>\n",
              "      <td>NaN</td>\n",
              "    </tr>\n",
              "    <tr>\n",
              "      <th>1196</th>\n",
              "      <td>2020-06-11 12:00:00</td>\n",
              "      <td>NaN</td>\n",
              "      <td>100847</td>\n",
              "      <td>202507</td>\n",
              "      <td>추억의쥐치포55장</td>\n",
              "      <td>농수축</td>\n",
              "      <td>32900</td>\n",
              "      <td>NaN</td>\n",
              "    </tr>\n",
              "  </tbody>\n",
              "</table>\n",
              "<p>1197 rows × 8 columns</p>\n",
              "</div>"
            ],
            "text/plain": [
              "                    방송일시  노출(분)    마더코드  ...  상품군   판매단가 취급액\n",
              "0    2020-06-25 08:20:00   20.0  100003  ...   주방  68000 NaN\n",
              "1    2020-06-25 08:20:00    NaN  100003  ...   주방  98000 NaN\n",
              "2    2020-06-25 08:40:00   20.0  100003  ...   주방  68000 NaN\n",
              "3    2020-06-25 08:40:00    NaN  100003  ...   주방  98000 NaN\n",
              "4    2020-06-25 09:00:00   20.0  100003  ...   주방  68000 NaN\n",
              "...                  ...    ...     ...  ...  ...    ...  ..\n",
              "1192 2020-06-11 11:20:00    NaN  100847  ...  농수축  32900 NaN\n",
              "1193 2020-06-11 11:40:00   20.0  100847  ...  농수축  32900 NaN\n",
              "1194 2020-06-11 11:40:00    NaN  100847  ...  농수축  32900 NaN\n",
              "1195 2020-06-11 12:00:00   20.0  100847  ...  농수축  32900 NaN\n",
              "1196 2020-06-11 12:00:00    NaN  100847  ...  농수축  32900 NaN\n",
              "\n",
              "[1197 rows x 8 columns]"
            ]
          },
          "metadata": {
            "tags": []
          },
          "execution_count": 19
        }
      ]
    },
    {
      "cell_type": "markdown",
      "metadata": {
        "id": "j9Fl4EP8ID9z",
        "colab_type": "text"
      },
      "source": [
        "\n",
        "\n",
        "## [ 과거 실적이 없는 경우 분석 ]\n",
        "\n"
      ]
    },
    {
      "cell_type": "markdown",
      "metadata": {
        "id": "EGrFtrk_8rnE",
        "colab_type": "text"
      },
      "source": [
        "* 예측 데이터 기준 과거 실적이 없는 경우 → 19년도 판매 데이터에 해당 제품의 마더 코드가 없음을 의미한다."
      ]
    },
    {
      "cell_type": "code",
      "metadata": {
        "id": "6aqWFxW2Y6Ur",
        "colab_type": "code",
        "colab": {
          "base_uri": "https://localhost:8080/",
          "height": 411
        },
        "outputId": "61bd5121-a8fb-433d-f242-9a0d6ddce2b9"
      },
      "source": [
        "df_only_in_preds"
      ],
      "execution_count": 20,
      "outputs": [
        {
          "output_type": "execute_result",
          "data": {
            "text/html": [
              "<div>\n",
              "<style scoped>\n",
              "    .dataframe tbody tr th:only-of-type {\n",
              "        vertical-align: middle;\n",
              "    }\n",
              "\n",
              "    .dataframe tbody tr th {\n",
              "        vertical-align: top;\n",
              "    }\n",
              "\n",
              "    .dataframe thead th {\n",
              "        text-align: right;\n",
              "    }\n",
              "</style>\n",
              "<table border=\"1\" class=\"dataframe\">\n",
              "  <thead>\n",
              "    <tr style=\"text-align: right;\">\n",
              "      <th></th>\n",
              "      <th>방송일시</th>\n",
              "      <th>노출(분)</th>\n",
              "      <th>마더코드</th>\n",
              "      <th>상품코드</th>\n",
              "      <th>상품명</th>\n",
              "      <th>상품군</th>\n",
              "      <th>판매단가</th>\n",
              "      <th>취급액</th>\n",
              "    </tr>\n",
              "  </thead>\n",
              "  <tbody>\n",
              "    <tr>\n",
              "      <th>0</th>\n",
              "      <td>2020-06-25 08:20:00</td>\n",
              "      <td>20.0</td>\n",
              "      <td>100003</td>\n",
              "      <td>200004</td>\n",
              "      <td>PN  메가티타늄 후라이팬 기본세트</td>\n",
              "      <td>주방</td>\n",
              "      <td>68000</td>\n",
              "      <td>NaN</td>\n",
              "    </tr>\n",
              "    <tr>\n",
              "      <th>1</th>\n",
              "      <td>2020-06-25 08:20:00</td>\n",
              "      <td>NaN</td>\n",
              "      <td>100003</td>\n",
              "      <td>200003</td>\n",
              "      <td>PN 메가티타늄 후라이팬+IH 인덕션 1구 풀세트</td>\n",
              "      <td>주방</td>\n",
              "      <td>98000</td>\n",
              "      <td>NaN</td>\n",
              "    </tr>\n",
              "    <tr>\n",
              "      <th>2</th>\n",
              "      <td>2020-06-25 08:40:00</td>\n",
              "      <td>20.0</td>\n",
              "      <td>100003</td>\n",
              "      <td>200004</td>\n",
              "      <td>PN  메가티타늄 후라이팬 기본세트</td>\n",
              "      <td>주방</td>\n",
              "      <td>68000</td>\n",
              "      <td>NaN</td>\n",
              "    </tr>\n",
              "    <tr>\n",
              "      <th>3</th>\n",
              "      <td>2020-06-25 08:40:00</td>\n",
              "      <td>NaN</td>\n",
              "      <td>100003</td>\n",
              "      <td>200003</td>\n",
              "      <td>PN 메가티타늄 후라이팬+IH 인덕션 1구 풀세트</td>\n",
              "      <td>주방</td>\n",
              "      <td>98000</td>\n",
              "      <td>NaN</td>\n",
              "    </tr>\n",
              "    <tr>\n",
              "      <th>4</th>\n",
              "      <td>2020-06-25 09:00:00</td>\n",
              "      <td>20.0</td>\n",
              "      <td>100003</td>\n",
              "      <td>200004</td>\n",
              "      <td>PN  메가티타늄 후라이팬 기본세트</td>\n",
              "      <td>주방</td>\n",
              "      <td>68000</td>\n",
              "      <td>NaN</td>\n",
              "    </tr>\n",
              "    <tr>\n",
              "      <th>...</th>\n",
              "      <td>...</td>\n",
              "      <td>...</td>\n",
              "      <td>...</td>\n",
              "      <td>...</td>\n",
              "      <td>...</td>\n",
              "      <td>...</td>\n",
              "      <td>...</td>\n",
              "      <td>...</td>\n",
              "    </tr>\n",
              "    <tr>\n",
              "      <th>1192</th>\n",
              "      <td>2020-06-11 11:20:00</td>\n",
              "      <td>NaN</td>\n",
              "      <td>100847</td>\n",
              "      <td>202507</td>\n",
              "      <td>추억의쥐치포55장</td>\n",
              "      <td>농수축</td>\n",
              "      <td>32900</td>\n",
              "      <td>NaN</td>\n",
              "    </tr>\n",
              "    <tr>\n",
              "      <th>1193</th>\n",
              "      <td>2020-06-11 11:40:00</td>\n",
              "      <td>20.0</td>\n",
              "      <td>100847</td>\n",
              "      <td>202506</td>\n",
              "      <td>추억의쥐치포110장</td>\n",
              "      <td>농수축</td>\n",
              "      <td>32900</td>\n",
              "      <td>NaN</td>\n",
              "    </tr>\n",
              "    <tr>\n",
              "      <th>1194</th>\n",
              "      <td>2020-06-11 11:40:00</td>\n",
              "      <td>NaN</td>\n",
              "      <td>100847</td>\n",
              "      <td>202507</td>\n",
              "      <td>추억의쥐치포55장</td>\n",
              "      <td>농수축</td>\n",
              "      <td>32900</td>\n",
              "      <td>NaN</td>\n",
              "    </tr>\n",
              "    <tr>\n",
              "      <th>1195</th>\n",
              "      <td>2020-06-11 12:00:00</td>\n",
              "      <td>20.0</td>\n",
              "      <td>100847</td>\n",
              "      <td>202506</td>\n",
              "      <td>추억의쥐치포110장</td>\n",
              "      <td>농수축</td>\n",
              "      <td>32900</td>\n",
              "      <td>NaN</td>\n",
              "    </tr>\n",
              "    <tr>\n",
              "      <th>1196</th>\n",
              "      <td>2020-06-11 12:00:00</td>\n",
              "      <td>NaN</td>\n",
              "      <td>100847</td>\n",
              "      <td>202507</td>\n",
              "      <td>추억의쥐치포55장</td>\n",
              "      <td>농수축</td>\n",
              "      <td>32900</td>\n",
              "      <td>NaN</td>\n",
              "    </tr>\n",
              "  </tbody>\n",
              "</table>\n",
              "<p>1197 rows × 8 columns</p>\n",
              "</div>"
            ],
            "text/plain": [
              "                    방송일시  노출(분)    마더코드  ...  상품군   판매단가 취급액\n",
              "0    2020-06-25 08:20:00   20.0  100003  ...   주방  68000 NaN\n",
              "1    2020-06-25 08:20:00    NaN  100003  ...   주방  98000 NaN\n",
              "2    2020-06-25 08:40:00   20.0  100003  ...   주방  68000 NaN\n",
              "3    2020-06-25 08:40:00    NaN  100003  ...   주방  98000 NaN\n",
              "4    2020-06-25 09:00:00   20.0  100003  ...   주방  68000 NaN\n",
              "...                  ...    ...     ...  ...  ...    ...  ..\n",
              "1192 2020-06-11 11:20:00    NaN  100847  ...  농수축  32900 NaN\n",
              "1193 2020-06-11 11:40:00   20.0  100847  ...  농수축  32900 NaN\n",
              "1194 2020-06-11 11:40:00    NaN  100847  ...  농수축  32900 NaN\n",
              "1195 2020-06-11 12:00:00   20.0  100847  ...  농수축  32900 NaN\n",
              "1196 2020-06-11 12:00:00    NaN  100847  ...  농수축  32900 NaN\n",
              "\n",
              "[1197 rows x 8 columns]"
            ]
          },
          "metadata": {
            "tags": []
          },
          "execution_count": 20
        }
      ]
    },
    {
      "cell_type": "code",
      "metadata": {
        "id": "tSRwUzutZMCQ",
        "colab_type": "code",
        "colab": {
          "base_uri": "https://localhost:8080/",
          "height": 52
        },
        "outputId": "39231b73-2ec1-4f2e-f917-77e411929602"
      },
      "source": [
        "product_group=df_preds['상품군'].unique()\n",
        "product_group"
      ],
      "execution_count": 21,
      "outputs": [
        {
          "output_type": "execute_result",
          "data": {
            "text/plain": [
              "array(['의류', '속옷', '이미용', '주방', '농수축', '가전', '생활용품', '가구', '잡화', '건강기능',\n",
              "       '침구'], dtype=object)"
            ]
          },
          "metadata": {
            "tags": []
          },
          "execution_count": 21
        }
      ]
    },
    {
      "cell_type": "markdown",
      "metadata": {
        "id": "OLCXWiX8sFxC",
        "colab_type": "text"
      },
      "source": [
        "## [19년도 데이터 분석 - 판매량 기준]"
      ]
    },
    {
      "cell_type": "markdown",
      "metadata": {
        "id": "bibCfJdIgskk",
        "colab_type": "text"
      },
      "source": [
        "* 주문량에 대한 new column 생성 + 취급액 0원인 것은 주문량인 0인 것이므로 제거"
      ]
    },
    {
      "cell_type": "code",
      "metadata": {
        "id": "KhKDWHQkg0lX",
        "colab_type": "code",
        "colab": {}
      },
      "source": [
        "def cal_sales(x,y):\n",
        "  return round(x/y)\n",
        "\n",
        "perform['주문량']=cal_sales(perform['취급액'],perform['판매단가'])\n",
        "perform=perform.dropna(subset=['취급액'])\n",
        "perform_1=perform.sort_values(by=['주문량'],ascending=False)"
      ],
      "execution_count": 30,
      "outputs": []
    },
    {
      "cell_type": "code",
      "metadata": {
        "id": "4_4WhlQ9Ntaq",
        "colab_type": "code",
        "colab": {
          "base_uri": "https://localhost:8080/",
          "height": 411
        },
        "outputId": "2f03f0ac-d2ca-4ee8-ecc5-a55d3b157904"
      },
      "source": [
        "perform_1"
      ],
      "execution_count": 31,
      "outputs": [
        {
          "output_type": "execute_result",
          "data": {
            "text/html": [
              "<div>\n",
              "<style scoped>\n",
              "    .dataframe tbody tr th:only-of-type {\n",
              "        vertical-align: middle;\n",
              "    }\n",
              "\n",
              "    .dataframe tbody tr th {\n",
              "        vertical-align: top;\n",
              "    }\n",
              "\n",
              "    .dataframe thead th {\n",
              "        text-align: right;\n",
              "    }\n",
              "</style>\n",
              "<table border=\"1\" class=\"dataframe\">\n",
              "  <thead>\n",
              "    <tr style=\"text-align: right;\">\n",
              "      <th></th>\n",
              "      <th>방송일시</th>\n",
              "      <th>노출(분)</th>\n",
              "      <th>마더코드</th>\n",
              "      <th>상품코드</th>\n",
              "      <th>상품명</th>\n",
              "      <th>상품군</th>\n",
              "      <th>판매단가</th>\n",
              "      <th>취급액</th>\n",
              "      <th>주문량</th>\n",
              "    </tr>\n",
              "  </thead>\n",
              "  <tbody>\n",
              "    <tr>\n",
              "      <th>32442</th>\n",
              "      <td>2019-12-07 01:40:00</td>\n",
              "      <td>17.166667</td>\n",
              "      <td>100418</td>\n",
              "      <td>201322</td>\n",
              "      <td>코몽트 덤블 플리스 자켓 2종</td>\n",
              "      <td>의류</td>\n",
              "      <td>39900</td>\n",
              "      <td>322009000.0</td>\n",
              "      <td>8070.0</td>\n",
              "    </tr>\n",
              "    <tr>\n",
              "      <th>30072</th>\n",
              "      <td>2019-11-10 17:00:00</td>\n",
              "      <td>20.000000</td>\n",
              "      <td>100253</td>\n",
              "      <td>200864</td>\n",
              "      <td>안동간고등어 20팩</td>\n",
              "      <td>농수축</td>\n",
              "      <td>30900</td>\n",
              "      <td>199541000.0</td>\n",
              "      <td>6458.0</td>\n",
              "    </tr>\n",
              "    <tr>\n",
              "      <th>33871</th>\n",
              "      <td>2019-12-21 17:40:00</td>\n",
              "      <td>20.000000</td>\n",
              "      <td>100418</td>\n",
              "      <td>201322</td>\n",
              "      <td>코몽트 덤블 플리스 자켓 2종</td>\n",
              "      <td>의류</td>\n",
              "      <td>39900</td>\n",
              "      <td>223492000.0</td>\n",
              "      <td>5601.0</td>\n",
              "    </tr>\n",
              "    <tr>\n",
              "      <th>34288</th>\n",
              "      <td>2019-12-27 00:00:00</td>\n",
              "      <td>20.000000</td>\n",
              "      <td>100323</td>\n",
              "      <td>201025</td>\n",
              "      <td>피시원 국내산 햇 손질문어 7팩</td>\n",
              "      <td>농수축</td>\n",
              "      <td>49900</td>\n",
              "      <td>270284000.0</td>\n",
              "      <td>5417.0</td>\n",
              "    </tr>\n",
              "    <tr>\n",
              "      <th>31167</th>\n",
              "      <td>2019-11-22 19:00:00</td>\n",
              "      <td>20.000000</td>\n",
              "      <td>100317</td>\n",
              "      <td>201665</td>\n",
              "      <td>국내산 손질 햇 갑오징어 9팩</td>\n",
              "      <td>농수축</td>\n",
              "      <td>49900</td>\n",
              "      <td>241079000.0</td>\n",
              "      <td>4831.0</td>\n",
              "    </tr>\n",
              "    <tr>\n",
              "      <th>...</th>\n",
              "      <td>...</td>\n",
              "      <td>...</td>\n",
              "      <td>...</td>\n",
              "      <td>...</td>\n",
              "      <td>...</td>\n",
              "      <td>...</td>\n",
              "      <td>...</td>\n",
              "      <td>...</td>\n",
              "      <td>...</td>\n",
              "    </tr>\n",
              "    <tr>\n",
              "      <th>27053</th>\n",
              "      <td>2019-10-08 10:00:00</td>\n",
              "      <td>NaN</td>\n",
              "      <td>100787</td>\n",
              "      <td>202313</td>\n",
              "      <td>[루이띠에] 18k 인피니티 러브 팔찌</td>\n",
              "      <td>잡화</td>\n",
              "      <td>470000</td>\n",
              "      <td>663000.0</td>\n",
              "      <td>1.0</td>\n",
              "    </tr>\n",
              "    <tr>\n",
              "      <th>19034</th>\n",
              "      <td>2019-07-16 00:20:00</td>\n",
              "      <td>20.000000</td>\n",
              "      <td>100153</td>\n",
              "      <td>200558</td>\n",
              "      <td>일시불 LG전자 휴대용 퓨리케어 미니 공청기</td>\n",
              "      <td>가전</td>\n",
              "      <td>309000</td>\n",
              "      <td>409000.0</td>\n",
              "      <td>1.0</td>\n",
              "    </tr>\n",
              "    <tr>\n",
              "      <th>19036</th>\n",
              "      <td>2019-07-16 00:40:00</td>\n",
              "      <td>20.000000</td>\n",
              "      <td>100153</td>\n",
              "      <td>200558</td>\n",
              "      <td>일시불 LG전자 휴대용 퓨리케어 미니 공청기</td>\n",
              "      <td>가전</td>\n",
              "      <td>309000</td>\n",
              "      <td>421000.0</td>\n",
              "      <td>1.0</td>\n",
              "    </tr>\n",
              "    <tr>\n",
              "      <th>27052</th>\n",
              "      <td>2019-10-08 10:00:00</td>\n",
              "      <td>NaN</td>\n",
              "      <td>100787</td>\n",
              "      <td>202314</td>\n",
              "      <td>[루이띠에] 18k 인피니티러브 목걸이</td>\n",
              "      <td>잡화</td>\n",
              "      <td>530000</td>\n",
              "      <td>743000.0</td>\n",
              "      <td>1.0</td>\n",
              "    </tr>\n",
              "    <tr>\n",
              "      <th>27054</th>\n",
              "      <td>2019-10-08 10:00:00</td>\n",
              "      <td>NaN</td>\n",
              "      <td>100787</td>\n",
              "      <td>202311</td>\n",
              "      <td>[루이띠에] 18k 인피니티 러브 귀걸이</td>\n",
              "      <td>잡화</td>\n",
              "      <td>370000</td>\n",
              "      <td>532000.0</td>\n",
              "      <td>1.0</td>\n",
              "    </tr>\n",
              "  </tbody>\n",
              "</table>\n",
              "<p>32449 rows × 9 columns</p>\n",
              "</div>"
            ],
            "text/plain": [
              "                     방송일시      노출(분)    마더코드  ...    판매단가          취급액     주문량\n",
              "32442 2019-12-07 01:40:00  17.166667  100418  ...   39900  322009000.0  8070.0\n",
              "30072 2019-11-10 17:00:00  20.000000  100253  ...   30900  199541000.0  6458.0\n",
              "33871 2019-12-21 17:40:00  20.000000  100418  ...   39900  223492000.0  5601.0\n",
              "34288 2019-12-27 00:00:00  20.000000  100323  ...   49900  270284000.0  5417.0\n",
              "31167 2019-11-22 19:00:00  20.000000  100317  ...   49900  241079000.0  4831.0\n",
              "...                   ...        ...     ...  ...     ...          ...     ...\n",
              "27053 2019-10-08 10:00:00        NaN  100787  ...  470000     663000.0     1.0\n",
              "19034 2019-07-16 00:20:00  20.000000  100153  ...  309000     409000.0     1.0\n",
              "19036 2019-07-16 00:40:00  20.000000  100153  ...  309000     421000.0     1.0\n",
              "27052 2019-10-08 10:00:00        NaN  100787  ...  530000     743000.0     1.0\n",
              "27054 2019-10-08 10:00:00        NaN  100787  ...  370000     532000.0     1.0\n",
              "\n",
              "[32449 rows x 9 columns]"
            ]
          },
          "metadata": {
            "tags": []
          },
          "execution_count": 31
        }
      ]
    },
    {
      "cell_type": "code",
      "metadata": {
        "id": "g23mQSJNlPFN",
        "colab_type": "code",
        "colab": {
          "base_uri": "https://localhost:8080/",
          "height": 248
        },
        "outputId": "c8bf99d5-aaa9-4b65-8add-66d15d0cb041"
      },
      "source": [
        "perform_1.groupby('상품군')['상품군'].count() #(19년도 판매량 순위) 주방 > 가전 > 의류 > 속옷 > 농수축> 잡화 > 가구 > 기타"
      ],
      "execution_count": 37,
      "outputs": [
        {
          "output_type": "execute_result",
          "data": {
            "text/plain": [
              "상품군\n",
              "가구      2268\n",
              "가전      4783\n",
              "건강기능     756\n",
              "농수축     3484\n",
              "생활용품    2571\n",
              "속옷      3495\n",
              "의류      3990\n",
              "이미용     1237\n",
              "잡화      3104\n",
              "주방      6112\n",
              "침구       649\n",
              "Name: 상품군, dtype: int64"
            ]
          },
          "metadata": {
            "tags": []
          },
          "execution_count": 37
        }
      ]
    },
    {
      "cell_type": "markdown",
      "metadata": {
        "id": "rLF0jxJYsBLv",
        "colab_type": "text"
      },
      "source": [
        "## [19년도 데이터 분석 - 방송시간 기준]\n",
        "\n",
        "\n"
      ]
    },
    {
      "cell_type": "code",
      "metadata": {
        "id": "7gstCDtz4-iE",
        "colab_type": "code",
        "colab": {}
      },
      "source": [
        "perform_2=perform[perform['노출(분)'].notnull()]"
      ],
      "execution_count": 38,
      "outputs": []
    },
    {
      "cell_type": "code",
      "metadata": {
        "id": "VGTC33WGsWo5",
        "colab_type": "code",
        "colab": {}
      },
      "source": [
        "perform_2_NaN=perform[perform['노출(분)'].isnull()]\n",
        "uni=perform_2_NaN['상품명'].unique()"
      ],
      "execution_count": 39,
      "outputs": []
    },
    {
      "cell_type": "code",
      "metadata": {
        "id": "n9IxtX4E5Uqz",
        "colab_type": "code",
        "colab": {
          "base_uri": "https://localhost:8080/",
          "height": 35
        },
        "outputId": "3b5d6419-ed2c-452b-b1ef-d0923d3ed4fb"
      },
      "source": [
        "check_uni=[] # 한 상품명에 대하여 노출(분)이 0인 것에 대해 예외가 존재하는지 확인하기 위한 리스트 생성\n",
        "\n",
        "for name in perform_2:\n",
        "  if name in uni:\n",
        "    check_uni.append(name)\n",
        "  check_uni.sort()\n",
        "\n",
        "check_uni"
      ],
      "execution_count": 40,
      "outputs": [
        {
          "output_type": "execute_result",
          "data": {
            "text/plain": [
              "[]"
            ]
          },
          "metadata": {
            "tags": []
          },
          "execution_count": 40
        }
      ]
    },
    {
      "cell_type": "markdown",
      "metadata": {
        "id": "b7iA189t6a8c",
        "colab_type": "text"
      },
      "source": [
        "* 노출(분)이 0인 상품의 경우, 노출(분)이 0이 아닌 예외적인 경우가 존재하지 않음을 알 수 있다."
      ]
    },
    {
      "cell_type": "code",
      "metadata": {
        "id": "msM-EQv4C65_",
        "colab_type": "code",
        "colab": {
          "base_uri": "https://localhost:8080/",
          "height": 411
        },
        "outputId": "ae19a3cd-2b87-470f-bc57-be89e5b25485"
      },
      "source": [
        "perform_2_NaN"
      ],
      "execution_count": 44,
      "outputs": [
        {
          "output_type": "execute_result",
          "data": {
            "text/html": [
              "<div>\n",
              "<style scoped>\n",
              "    .dataframe tbody tr th:only-of-type {\n",
              "        vertical-align: middle;\n",
              "    }\n",
              "\n",
              "    .dataframe tbody tr th {\n",
              "        vertical-align: top;\n",
              "    }\n",
              "\n",
              "    .dataframe thead th {\n",
              "        text-align: right;\n",
              "    }\n",
              "</style>\n",
              "<table border=\"1\" class=\"dataframe\">\n",
              "  <thead>\n",
              "    <tr style=\"text-align: right;\">\n",
              "      <th></th>\n",
              "      <th>방송일시</th>\n",
              "      <th>노출(분)</th>\n",
              "      <th>마더코드</th>\n",
              "      <th>상품코드</th>\n",
              "      <th>상품명</th>\n",
              "      <th>상품군</th>\n",
              "      <th>판매단가</th>\n",
              "      <th>취급액</th>\n",
              "      <th>주문량</th>\n",
              "    </tr>\n",
              "  </thead>\n",
              "  <tbody>\n",
              "    <tr>\n",
              "      <th>4</th>\n",
              "      <td>2019-01-05 01:00:00</td>\n",
              "      <td>NaN</td>\n",
              "      <td>100293</td>\n",
              "      <td>200949</td>\n",
              "      <td>무이자[가이거] 제니스시계 주얼리세트</td>\n",
              "      <td>잡화</td>\n",
              "      <td>139000</td>\n",
              "      <td>6857000.0</td>\n",
              "      <td>49.0</td>\n",
              "    </tr>\n",
              "    <tr>\n",
              "      <th>6</th>\n",
              "      <td>2019-01-05 01:20:00</td>\n",
              "      <td>NaN</td>\n",
              "      <td>100293</td>\n",
              "      <td>200949</td>\n",
              "      <td>무이자[가이거] 제니스시계 주얼리세트</td>\n",
              "      <td>잡화</td>\n",
              "      <td>139000</td>\n",
              "      <td>15561000.0</td>\n",
              "      <td>112.0</td>\n",
              "    </tr>\n",
              "    <tr>\n",
              "      <th>8</th>\n",
              "      <td>2019-01-05 01:40:00</td>\n",
              "      <td>NaN</td>\n",
              "      <td>100293</td>\n",
              "      <td>200949</td>\n",
              "      <td>무이자[가이거] 제니스시계 주얼리세트</td>\n",
              "      <td>잡화</td>\n",
              "      <td>139000</td>\n",
              "      <td>8495000.0</td>\n",
              "      <td>61.0</td>\n",
              "    </tr>\n",
              "    <tr>\n",
              "      <th>13</th>\n",
              "      <td>2019-01-05 07:00:00</td>\n",
              "      <td>NaN</td>\n",
              "      <td>100222</td>\n",
              "      <td>200774</td>\n",
              "      <td>아문센 여성 윈터 하드쉘 세트</td>\n",
              "      <td>의류</td>\n",
              "      <td>79000</td>\n",
              "      <td>3811000.0</td>\n",
              "      <td>48.0</td>\n",
              "    </tr>\n",
              "    <tr>\n",
              "      <th>15</th>\n",
              "      <td>2019-01-05 07:20:00</td>\n",
              "      <td>NaN</td>\n",
              "      <td>100222</td>\n",
              "      <td>200774</td>\n",
              "      <td>아문센 여성 윈터 하드쉘 세트</td>\n",
              "      <td>의류</td>\n",
              "      <td>79000</td>\n",
              "      <td>8326000.0</td>\n",
              "      <td>105.0</td>\n",
              "    </tr>\n",
              "    <tr>\n",
              "      <th>...</th>\n",
              "      <td>...</td>\n",
              "      <td>...</td>\n",
              "      <td>...</td>\n",
              "      <td>...</td>\n",
              "      <td>...</td>\n",
              "      <td>...</td>\n",
              "      <td>...</td>\n",
              "      <td>...</td>\n",
              "      <td>...</td>\n",
              "    </tr>\n",
              "    <tr>\n",
              "      <th>34347</th>\n",
              "      <td>2019-12-27 18:20:00</td>\n",
              "      <td>NaN</td>\n",
              "      <td>100610</td>\n",
              "      <td>201906</td>\n",
              "      <td>푸마 코튼 언더탑 9종</td>\n",
              "      <td>속옷</td>\n",
              "      <td>89000</td>\n",
              "      <td>420000.0</td>\n",
              "      <td>5.0</td>\n",
              "    </tr>\n",
              "    <tr>\n",
              "      <th>34349</th>\n",
              "      <td>2019-12-27 18:40:00</td>\n",
              "      <td>NaN</td>\n",
              "      <td>100610</td>\n",
              "      <td>201884</td>\n",
              "      <td>푸마 시그니처 코튼 트렁크 9종</td>\n",
              "      <td>속옷</td>\n",
              "      <td>89000</td>\n",
              "      <td>5141000.0</td>\n",
              "      <td>58.0</td>\n",
              "    </tr>\n",
              "    <tr>\n",
              "      <th>34350</th>\n",
              "      <td>2019-12-27 18:40:00</td>\n",
              "      <td>NaN</td>\n",
              "      <td>100610</td>\n",
              "      <td>201906</td>\n",
              "      <td>푸마 코튼 언더탑 9종</td>\n",
              "      <td>속옷</td>\n",
              "      <td>89000</td>\n",
              "      <td>3634000.0</td>\n",
              "      <td>41.0</td>\n",
              "    </tr>\n",
              "    <tr>\n",
              "      <th>34352</th>\n",
              "      <td>2019-12-27 19:00:00</td>\n",
              "      <td>NaN</td>\n",
              "      <td>100610</td>\n",
              "      <td>201884</td>\n",
              "      <td>푸마 시그니처 코튼 트렁크 9종</td>\n",
              "      <td>속옷</td>\n",
              "      <td>89000</td>\n",
              "      <td>5102000.0</td>\n",
              "      <td>57.0</td>\n",
              "    </tr>\n",
              "    <tr>\n",
              "      <th>34353</th>\n",
              "      <td>2019-12-27 19:00:00</td>\n",
              "      <td>NaN</td>\n",
              "      <td>100610</td>\n",
              "      <td>201906</td>\n",
              "      <td>푸마 코튼 언더탑 9종</td>\n",
              "      <td>속옷</td>\n",
              "      <td>89000</td>\n",
              "      <td>3336000.0</td>\n",
              "      <td>37.0</td>\n",
              "    </tr>\n",
              "  </tbody>\n",
              "</table>\n",
              "<p>13763 rows × 9 columns</p>\n",
              "</div>"
            ],
            "text/plain": [
              "                     방송일시  노출(분)    마더코드    상품코드  ... 상품군    판매단가         취급액    주문량\n",
              "4     2019-01-05 01:00:00    NaN  100293  200949  ...  잡화  139000   6857000.0   49.0\n",
              "6     2019-01-05 01:20:00    NaN  100293  200949  ...  잡화  139000  15561000.0  112.0\n",
              "8     2019-01-05 01:40:00    NaN  100293  200949  ...  잡화  139000   8495000.0   61.0\n",
              "13    2019-01-05 07:00:00    NaN  100222  200774  ...  의류   79000   3811000.0   48.0\n",
              "15    2019-01-05 07:20:00    NaN  100222  200774  ...  의류   79000   8326000.0  105.0\n",
              "...                   ...    ...     ...     ...  ...  ..     ...         ...    ...\n",
              "34347 2019-12-27 18:20:00    NaN  100610  201906  ...  속옷   89000    420000.0    5.0\n",
              "34349 2019-12-27 18:40:00    NaN  100610  201884  ...  속옷   89000   5141000.0   58.0\n",
              "34350 2019-12-27 18:40:00    NaN  100610  201906  ...  속옷   89000   3634000.0   41.0\n",
              "34352 2019-12-27 19:00:00    NaN  100610  201884  ...  속옷   89000   5102000.0   57.0\n",
              "34353 2019-12-27 19:00:00    NaN  100610  201906  ...  속옷   89000   3336000.0   37.0\n",
              "\n",
              "[13763 rows x 9 columns]"
            ]
          },
          "metadata": {
            "tags": []
          },
          "execution_count": 44
        }
      ]
    },
    {
      "cell_type": "code",
      "metadata": {
        "id": "KZchF4n5658X",
        "colab_type": "code",
        "colab": {
          "base_uri": "https://localhost:8080/",
          "height": 441
        },
        "outputId": "5fbc44a2-065e-456c-8d20-00259d296154"
      },
      "source": [
        "count=perform_2_NaN.groupby('상품명')['주문량'].sum()\n",
        "count=count.to_frame()\n",
        "count"
      ],
      "execution_count": 42,
      "outputs": [
        {
          "output_type": "execute_result",
          "data": {
            "text/html": [
              "<div>\n",
              "<style scoped>\n",
              "    .dataframe tbody tr th:only-of-type {\n",
              "        vertical-align: middle;\n",
              "    }\n",
              "\n",
              "    .dataframe tbody tr th {\n",
              "        vertical-align: top;\n",
              "    }\n",
              "\n",
              "    .dataframe thead th {\n",
              "        text-align: right;\n",
              "    }\n",
              "</style>\n",
              "<table border=\"1\" class=\"dataframe\">\n",
              "  <thead>\n",
              "    <tr style=\"text-align: right;\">\n",
              "      <th></th>\n",
              "      <th>주문량</th>\n",
              "    </tr>\n",
              "    <tr>\n",
              "      <th>상품명</th>\n",
              "      <th></th>\n",
              "    </tr>\n",
              "  </thead>\n",
              "  <tbody>\n",
              "    <tr>\n",
              "      <th>[가이거] 블랙 에디션 다이아몬드 워치(남성용)</th>\n",
              "      <td>185.0</td>\n",
              "    </tr>\n",
              "    <tr>\n",
              "      <th>[맛있는 제주]손질 생선 3대세트+흑돼지구이(광어+갈치+고등어</th>\n",
              "      <td>461.0</td>\n",
              "    </tr>\n",
              "    <tr>\n",
              "      <th>메디아글램 카이만엠보 소가죽 체인숄더백 (+클러치백+폼폼이)</th>\n",
              "      <td>728.0</td>\n",
              "    </tr>\n",
              "    <tr>\n",
              "      <th>메디아글램 카이만엠보 소가죽 토트백 (+클러치백+폼폼이)</th>\n",
              "      <td>558.0</td>\n",
              "    </tr>\n",
              "    <tr>\n",
              "      <th>(1등급)221L_딤채김치냉장고</th>\n",
              "      <td>62.0</td>\n",
              "    </tr>\n",
              "    <tr>\n",
              "      <th>...</th>\n",
              "      <td>...</td>\n",
              "    </tr>\n",
              "    <tr>\n",
              "      <th>효재 자수 광목 워싱 침구세트 퀸</th>\n",
              "      <td>189.0</td>\n",
              "    </tr>\n",
              "    <tr>\n",
              "      <th>효재 자수 광목 워싱 침구세트 킹</th>\n",
              "      <td>373.0</td>\n",
              "    </tr>\n",
              "    <tr>\n",
              "      <th>효재 화원 자수 광목워싱 침구세트 슈퍼싱글</th>\n",
              "      <td>135.0</td>\n",
              "    </tr>\n",
              "    <tr>\n",
              "      <th>효재 화원 자수 광목워싱 침구세트 퀸</th>\n",
              "      <td>208.0</td>\n",
              "    </tr>\n",
              "    <tr>\n",
              "      <th>히트융 극세사 퍼융기모 여성 동내의 패키지</th>\n",
              "      <td>10775.0</td>\n",
              "    </tr>\n",
              "  </tbody>\n",
              "</table>\n",
              "<p>680 rows × 1 columns</p>\n",
              "</div>"
            ],
            "text/plain": [
              "                                         주문량\n",
              "상품명                                         \n",
              " [가이거] 블랙 에디션 다이아몬드 워치(남성용)            185.0\n",
              " [맛있는 제주]손질 생선 3대세트+흑돼지구이(광어+갈치+고등어    461.0\n",
              " 메디아글램 카이만엠보 소가죽 체인숄더백 (+클러치백+폼폼이)     728.0\n",
              " 메디아글램 카이만엠보 소가죽 토트백 (+클러치백+폼폼이)       558.0\n",
              "(1등급)221L_딤채김치냉장고                       62.0\n",
              "...                                      ...\n",
              "효재 자수 광목 워싱 침구세트 퀸                     189.0\n",
              "효재 자수 광목 워싱 침구세트 킹                     373.0\n",
              "효재 화원 자수 광목워싱 침구세트 슈퍼싱글                135.0\n",
              "효재 화원 자수 광목워싱 침구세트 퀸                   208.0\n",
              "히트융 극세사 퍼융기모 여성 동내의 패키지              10775.0\n",
              "\n",
              "[680 rows x 1 columns]"
            ]
          },
          "metadata": {
            "tags": []
          },
          "execution_count": 42
        }
      ]
    }
  ]
}