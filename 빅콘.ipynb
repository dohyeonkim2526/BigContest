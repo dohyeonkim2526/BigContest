{
  "nbformat": 4,
  "nbformat_minor": 0,
  "metadata": {
    "colab": {
      "name": "빅콘.ipynb",
      "provenance": [],
      "collapsed_sections": []
    },
    "kernelspec": {
      "name": "python3",
      "display_name": "Python 3"
    }
  },
  "cells": [
    {
      "cell_type": "code",
      "metadata": {
        "id": "RnVUtpDSFpYN",
        "colab_type": "code",
        "colab": {
          "base_uri": "https://localhost:8080/",
          "height": 125
        },
        "outputId": "2eedb103-70e6-453f-bae6-c7b62feefc0f"
      },
      "source": [
        "from google.colab import drive\n",
        "drive.mount('/content/gdrive')"
      ],
      "execution_count": null,
      "outputs": [
        {
          "output_type": "stream",
          "text": [
            "Go to this URL in a browser: https://accounts.google.com/o/oauth2/auth?client_id=947318989803-6bn6qk8qdgf4n4g3pfee6491hc0brc4i.apps.googleusercontent.com&redirect_uri=urn%3aietf%3awg%3aoauth%3a2.0%3aoob&response_type=code&scope=email%20https%3a%2f%2fwww.googleapis.com%2fauth%2fdocs.test%20https%3a%2f%2fwww.googleapis.com%2fauth%2fdrive%20https%3a%2f%2fwww.googleapis.com%2fauth%2fdrive.photos.readonly%20https%3a%2f%2fwww.googleapis.com%2fauth%2fpeopleapi.readonly\n",
            "\n",
            "Enter your authorization code:\n",
            "··········\n",
            "Mounted at /content/gdrive\n"
          ],
          "name": "stdout"
        }
      ]
    },
    {
      "cell_type": "code",
      "metadata": {
        "id": "VipwZpvIFxoU",
        "colab_type": "code",
        "colab": {}
      },
      "source": [
        "import os\n",
        "import numpy as np\n",
        "import pandas as pd\n",
        "\n",
        "base_dir='/content/gdrive/My Drive/빅데이터 공모전/빅콘테스트 데이터/제공데이터'\n",
        "sales_data='19년도-실적데이터.xlsx'\n",
        "sales_dir=os.path.join(base_dir, sales_data)"
      ],
      "execution_count": null,
      "outputs": []
    },
    {
      "cell_type": "markdown",
      "metadata": {
        "id": "aHWOw8P9mABp",
        "colab_type": "text"
      },
      "source": [
        "# [ 추정에 불필요한 데이터 제거 및 전처리 ]"
      ]
    },
    {
      "cell_type": "code",
      "metadata": {
        "id": "Jg2SCcalGOPB",
        "colab_type": "code",
        "colab": {}
      },
      "source": [
        "df_sales=pd.read_excel(sales_dir,\n",
        "                       names=['방송일시', '노출(분)', '마더코드', '상품코드', '상품명', '상품군', '판매단가', '취급액'],\n",
        "                       na_values='NaN')"
      ],
      "execution_count": null,
      "outputs": []
    },
    {
      "cell_type": "code",
      "metadata": {
        "id": "wkSCB4QA21qo",
        "colab_type": "code",
        "colab": {
          "base_uri": "https://localhost:8080/",
          "height": 176
        },
        "outputId": "a5cabc7f-2fb7-4ba0-fa43-e930ed2de47b"
      },
      "source": [
        "df_sales.dtypes"
      ],
      "execution_count": null,
      "outputs": [
        {
          "output_type": "execute_result",
          "data": {
            "text/plain": [
              "방송일시     object\n",
              "노출(분)    object\n",
              "마더코드     object\n",
              "상품코드     object\n",
              "상품명      object\n",
              "상품군      object\n",
              "판매단가     object\n",
              "취급액      object\n",
              "dtype: object"
            ]
          },
          "metadata": {
            "tags": []
          },
          "execution_count": 8
        }
      ]
    },
    {
      "cell_type": "code",
      "metadata": {
        "id": "fHOdKoURGKBz",
        "colab_type": "code",
        "colab": {}
      },
      "source": [
        "df_sales"
      ],
      "execution_count": null,
      "outputs": []
    },
    {
      "cell_type": "code",
      "metadata": {
        "id": "tkn6f-aKGsOi",
        "colab_type": "code",
        "colab": {}
      },
      "source": [
        "df_sales=df_sales.drop(index=0)\n",
        "df_sales_NaN=df_sales[df_sales['판매단가']==0] #과거 실적이 없는 경우에 대해선 유사 카테고리 또는 동일머더코드로 예측\n",
        "df_sales=df_sales.drop(df_sales[(df_sales['판매단가'] == 0)].index) #'판매단가' 0원인 것은 추정에서 제외시킨다."
      ],
      "execution_count": null,
      "outputs": []
    },
    {
      "cell_type": "code",
      "metadata": {
        "id": "E19qNHQM2_fz",
        "colab_type": "code",
        "colab": {}
      },
      "source": [
        "df_sales.방송일시=pd.to_datetime(df_sales.방송일시, format='%Y%m%d %H:%M:%S')\n",
        "df_sales['month']=df_sales.방송일시.dt.strftime('%m')\n",
        "df_sales['week day']=df_sales['방송일시'].dt.day_name()\n",
        "df_sales['broad date']=df_sales['방송일시'].dt.date\n",
        "df_sales['broad time']=df_sales['방송일시'].dt.time\n",
        "df_sales=df_sales.drop('방송일시', axis=1)"
      ],
      "execution_count": null,
      "outputs": []
    },
    {
      "cell_type": "code",
      "metadata": {
        "id": "22LbA4up3l2E",
        "colab_type": "code",
        "colab": {
          "base_uri": "https://localhost:8080/",
          "height": 406
        },
        "outputId": "6ec3b449-70e8-48c0-db8a-b83e6607317b"
      },
      "source": [
        "df_sales"
      ],
      "execution_count": null,
      "outputs": [
        {
          "output_type": "execute_result",
          "data": {
            "text/html": [
              "<div>\n",
              "<style scoped>\n",
              "    .dataframe tbody tr th:only-of-type {\n",
              "        vertical-align: middle;\n",
              "    }\n",
              "\n",
              "    .dataframe tbody tr th {\n",
              "        vertical-align: top;\n",
              "    }\n",
              "\n",
              "    .dataframe thead th {\n",
              "        text-align: right;\n",
              "    }\n",
              "</style>\n",
              "<table border=\"1\" class=\"dataframe\">\n",
              "  <thead>\n",
              "    <tr style=\"text-align: right;\">\n",
              "      <th></th>\n",
              "      <th>노출(분)</th>\n",
              "      <th>마더코드</th>\n",
              "      <th>상품코드</th>\n",
              "      <th>상품명</th>\n",
              "      <th>상품군</th>\n",
              "      <th>판매단가</th>\n",
              "      <th>취급액</th>\n",
              "      <th>month</th>\n",
              "      <th>week day</th>\n",
              "      <th>broad date</th>\n",
              "      <th>broad time</th>\n",
              "    </tr>\n",
              "  </thead>\n",
              "  <tbody>\n",
              "    <tr>\n",
              "      <th>1</th>\n",
              "      <td>20</td>\n",
              "      <td>100346</td>\n",
              "      <td>201072</td>\n",
              "      <td>테이트 남성 셀린니트3종</td>\n",
              "      <td>의류</td>\n",
              "      <td>39900</td>\n",
              "      <td>2099000</td>\n",
              "      <td>01</td>\n",
              "      <td>Tuesday</td>\n",
              "      <td>2019-01-01</td>\n",
              "      <td>06:00:00</td>\n",
              "    </tr>\n",
              "    <tr>\n",
              "      <th>2</th>\n",
              "      <td>NaN</td>\n",
              "      <td>100346</td>\n",
              "      <td>201079</td>\n",
              "      <td>테이트 여성 셀린니트3종</td>\n",
              "      <td>의류</td>\n",
              "      <td>39900</td>\n",
              "      <td>4371000</td>\n",
              "      <td>01</td>\n",
              "      <td>Tuesday</td>\n",
              "      <td>2019-01-01</td>\n",
              "      <td>06:00:00</td>\n",
              "    </tr>\n",
              "    <tr>\n",
              "      <th>3</th>\n",
              "      <td>20</td>\n",
              "      <td>100346</td>\n",
              "      <td>201072</td>\n",
              "      <td>테이트 남성 셀린니트3종</td>\n",
              "      <td>의류</td>\n",
              "      <td>39900</td>\n",
              "      <td>3262000</td>\n",
              "      <td>01</td>\n",
              "      <td>Tuesday</td>\n",
              "      <td>2019-01-01</td>\n",
              "      <td>06:20:00</td>\n",
              "    </tr>\n",
              "    <tr>\n",
              "      <th>4</th>\n",
              "      <td>NaN</td>\n",
              "      <td>100346</td>\n",
              "      <td>201079</td>\n",
              "      <td>테이트 여성 셀린니트3종</td>\n",
              "      <td>의류</td>\n",
              "      <td>39900</td>\n",
              "      <td>6955000</td>\n",
              "      <td>01</td>\n",
              "      <td>Tuesday</td>\n",
              "      <td>2019-01-01</td>\n",
              "      <td>06:20:00</td>\n",
              "    </tr>\n",
              "    <tr>\n",
              "      <th>5</th>\n",
              "      <td>20</td>\n",
              "      <td>100346</td>\n",
              "      <td>201072</td>\n",
              "      <td>테이트 남성 셀린니트3종</td>\n",
              "      <td>의류</td>\n",
              "      <td>39900</td>\n",
              "      <td>6672000</td>\n",
              "      <td>01</td>\n",
              "      <td>Tuesday</td>\n",
              "      <td>2019-01-01</td>\n",
              "      <td>06:40:00</td>\n",
              "    </tr>\n",
              "    <tr>\n",
              "      <th>...</th>\n",
              "      <td>...</td>\n",
              "      <td>...</td>\n",
              "      <td>...</td>\n",
              "      <td>...</td>\n",
              "      <td>...</td>\n",
              "      <td>...</td>\n",
              "      <td>...</td>\n",
              "      <td>...</td>\n",
              "      <td>...</td>\n",
              "      <td>...</td>\n",
              "      <td>...</td>\n",
              "    </tr>\n",
              "    <tr>\n",
              "      <th>38300</th>\n",
              "      <td>NaN</td>\n",
              "      <td>100448</td>\n",
              "      <td>201391</td>\n",
              "      <td>일시불쿠첸압력밥솥 6인용</td>\n",
              "      <td>주방</td>\n",
              "      <td>148000</td>\n",
              "      <td>10157000</td>\n",
              "      <td>12</td>\n",
              "      <td>Tuesday</td>\n",
              "      <td>2019-12-31</td>\n",
              "      <td>23:40:00</td>\n",
              "    </tr>\n",
              "    <tr>\n",
              "      <th>38301</th>\n",
              "      <td>20</td>\n",
              "      <td>100448</td>\n",
              "      <td>201383</td>\n",
              "      <td>무이자쿠첸압력밥솥 10인용</td>\n",
              "      <td>주방</td>\n",
              "      <td>178000</td>\n",
              "      <td>50929000</td>\n",
              "      <td>01</td>\n",
              "      <td>Wednesday</td>\n",
              "      <td>2020-01-01</td>\n",
              "      <td>00:00:00</td>\n",
              "    </tr>\n",
              "    <tr>\n",
              "      <th>38302</th>\n",
              "      <td>NaN</td>\n",
              "      <td>100448</td>\n",
              "      <td>201390</td>\n",
              "      <td>일시불쿠첸압력밥솥 10인용</td>\n",
              "      <td>주방</td>\n",
              "      <td>168000</td>\n",
              "      <td>104392000</td>\n",
              "      <td>01</td>\n",
              "      <td>Wednesday</td>\n",
              "      <td>2020-01-01</td>\n",
              "      <td>00:00:00</td>\n",
              "    </tr>\n",
              "    <tr>\n",
              "      <th>38303</th>\n",
              "      <td>NaN</td>\n",
              "      <td>100448</td>\n",
              "      <td>201384</td>\n",
              "      <td>무이자쿠첸압력밥솥 6인용</td>\n",
              "      <td>주방</td>\n",
              "      <td>158000</td>\n",
              "      <td>13765000</td>\n",
              "      <td>01</td>\n",
              "      <td>Wednesday</td>\n",
              "      <td>2020-01-01</td>\n",
              "      <td>00:00:00</td>\n",
              "    </tr>\n",
              "    <tr>\n",
              "      <th>38304</th>\n",
              "      <td>NaN</td>\n",
              "      <td>100448</td>\n",
              "      <td>201391</td>\n",
              "      <td>일시불쿠첸압력밥솥 6인용</td>\n",
              "      <td>주방</td>\n",
              "      <td>148000</td>\n",
              "      <td>46608000</td>\n",
              "      <td>01</td>\n",
              "      <td>Wednesday</td>\n",
              "      <td>2020-01-01</td>\n",
              "      <td>00:00:00</td>\n",
              "    </tr>\n",
              "  </tbody>\n",
              "</table>\n",
              "<p>37372 rows × 11 columns</p>\n",
              "</div>"
            ],
            "text/plain": [
              "      노출(분)    마더코드    상품코드  ...   week day  broad date broad time\n",
              "1        20  100346  201072  ...    Tuesday  2019-01-01   06:00:00\n",
              "2       NaN  100346  201079  ...    Tuesday  2019-01-01   06:00:00\n",
              "3        20  100346  201072  ...    Tuesday  2019-01-01   06:20:00\n",
              "4       NaN  100346  201079  ...    Tuesday  2019-01-01   06:20:00\n",
              "5        20  100346  201072  ...    Tuesday  2019-01-01   06:40:00\n",
              "...     ...     ...     ...  ...        ...         ...        ...\n",
              "38300   NaN  100448  201391  ...    Tuesday  2019-12-31   23:40:00\n",
              "38301    20  100448  201383  ...  Wednesday  2020-01-01   00:00:00\n",
              "38302   NaN  100448  201390  ...  Wednesday  2020-01-01   00:00:00\n",
              "38303   NaN  100448  201384  ...  Wednesday  2020-01-01   00:00:00\n",
              "38304   NaN  100448  201391  ...  Wednesday  2020-01-01   00:00:00\n",
              "\n",
              "[37372 rows x 11 columns]"
            ]
          },
          "metadata": {
            "tags": []
          },
          "execution_count": 20
        }
      ]
    },
    {
      "cell_type": "code",
      "metadata": {
        "id": "6XTLA63EsUOO",
        "colab_type": "code",
        "colab": {}
      },
      "source": [
        "df_sales=df_sales.drop(df_sales[(df_sales['week day'] == 'Saturday')].index)"
      ],
      "execution_count": null,
      "outputs": []
    },
    {
      "cell_type": "code",
      "metadata": {
        "id": "RayoAzls557n",
        "colab_type": "code",
        "colab": {
          "base_uri": "https://localhost:8080/",
          "height": 230
        },
        "outputId": "4403ea7e-4745-452d-a874-67d3283d2a97"
      },
      "source": [
        "df_sales['broad time']"
      ],
      "execution_count": null,
      "outputs": [
        {
          "output_type": "execute_result",
          "data": {
            "text/plain": [
              "1        06:00:00\n",
              "2        06:00:00\n",
              "3        06:20:00\n",
              "4        06:20:00\n",
              "5        06:40:00\n",
              "           ...   \n",
              "38300    23:40:00\n",
              "38301    00:00:00\n",
              "38302    00:00:00\n",
              "38303    00:00:00\n",
              "38304    00:00:00\n",
              "Name: broad time, Length: 32190, dtype: object"
            ]
          },
          "metadata": {
            "tags": []
          },
          "execution_count": 156
        }
      ]
    },
    {
      "cell_type": "code",
      "metadata": {
        "id": "TniGDaGCtmTK",
        "colab_type": "code",
        "colab": {}
      },
      "source": [
        "df_sales=df_sales.reset_index(drop=True)"
      ],
      "execution_count": null,
      "outputs": []
    },
    {
      "cell_type": "code",
      "metadata": {
        "id": "lWPoefOnBniT",
        "colab_type": "code",
        "colab": {}
      },
      "source": [
        "#토요일 18:00-18:20 추정에서 제외(토요일은 제외시켰음)\n",
        "#심야시간대 추정에서 제외"
      ],
      "execution_count": null,
      "outputs": []
    },
    {
      "cell_type": "code",
      "metadata": {
        "id": "8-rCF5GNxq7j",
        "colab_type": "code",
        "colab": {
          "base_uri": "https://localhost:8080/",
          "height": 406
        },
        "outputId": "c9f46df0-01c4-4628-d79b-80ffb9dbf244"
      },
      "source": [
        "df_sales"
      ],
      "execution_count": null,
      "outputs": [
        {
          "output_type": "execute_result",
          "data": {
            "text/html": [
              "<div>\n",
              "<style scoped>\n",
              "    .dataframe tbody tr th:only-of-type {\n",
              "        vertical-align: middle;\n",
              "    }\n",
              "\n",
              "    .dataframe tbody tr th {\n",
              "        vertical-align: top;\n",
              "    }\n",
              "\n",
              "    .dataframe thead th {\n",
              "        text-align: right;\n",
              "    }\n",
              "</style>\n",
              "<table border=\"1\" class=\"dataframe\">\n",
              "  <thead>\n",
              "    <tr style=\"text-align: right;\">\n",
              "      <th></th>\n",
              "      <th>노출(분)</th>\n",
              "      <th>마더코드</th>\n",
              "      <th>상품코드</th>\n",
              "      <th>상품명</th>\n",
              "      <th>상품군</th>\n",
              "      <th>판매단가</th>\n",
              "      <th>취급액</th>\n",
              "      <th>month</th>\n",
              "      <th>week day</th>\n",
              "      <th>broad date</th>\n",
              "      <th>broad time</th>\n",
              "    </tr>\n",
              "  </thead>\n",
              "  <tbody>\n",
              "    <tr>\n",
              "      <th>0</th>\n",
              "      <td>20</td>\n",
              "      <td>100346</td>\n",
              "      <td>201072</td>\n",
              "      <td>테이트 남성 셀린니트3종</td>\n",
              "      <td>의류</td>\n",
              "      <td>39900</td>\n",
              "      <td>2099000</td>\n",
              "      <td>01</td>\n",
              "      <td>Tuesday</td>\n",
              "      <td>2019-01-01</td>\n",
              "      <td>06:00:00</td>\n",
              "    </tr>\n",
              "    <tr>\n",
              "      <th>1</th>\n",
              "      <td>NaN</td>\n",
              "      <td>100346</td>\n",
              "      <td>201079</td>\n",
              "      <td>테이트 여성 셀린니트3종</td>\n",
              "      <td>의류</td>\n",
              "      <td>39900</td>\n",
              "      <td>4371000</td>\n",
              "      <td>01</td>\n",
              "      <td>Tuesday</td>\n",
              "      <td>2019-01-01</td>\n",
              "      <td>06:00:00</td>\n",
              "    </tr>\n",
              "    <tr>\n",
              "      <th>2</th>\n",
              "      <td>20</td>\n",
              "      <td>100346</td>\n",
              "      <td>201072</td>\n",
              "      <td>테이트 남성 셀린니트3종</td>\n",
              "      <td>의류</td>\n",
              "      <td>39900</td>\n",
              "      <td>3262000</td>\n",
              "      <td>01</td>\n",
              "      <td>Tuesday</td>\n",
              "      <td>2019-01-01</td>\n",
              "      <td>06:20:00</td>\n",
              "    </tr>\n",
              "    <tr>\n",
              "      <th>3</th>\n",
              "      <td>NaN</td>\n",
              "      <td>100346</td>\n",
              "      <td>201079</td>\n",
              "      <td>테이트 여성 셀린니트3종</td>\n",
              "      <td>의류</td>\n",
              "      <td>39900</td>\n",
              "      <td>6955000</td>\n",
              "      <td>01</td>\n",
              "      <td>Tuesday</td>\n",
              "      <td>2019-01-01</td>\n",
              "      <td>06:20:00</td>\n",
              "    </tr>\n",
              "    <tr>\n",
              "      <th>4</th>\n",
              "      <td>20</td>\n",
              "      <td>100346</td>\n",
              "      <td>201072</td>\n",
              "      <td>테이트 남성 셀린니트3종</td>\n",
              "      <td>의류</td>\n",
              "      <td>39900</td>\n",
              "      <td>6672000</td>\n",
              "      <td>01</td>\n",
              "      <td>Tuesday</td>\n",
              "      <td>2019-01-01</td>\n",
              "      <td>06:40:00</td>\n",
              "    </tr>\n",
              "    <tr>\n",
              "      <th>...</th>\n",
              "      <td>...</td>\n",
              "      <td>...</td>\n",
              "      <td>...</td>\n",
              "      <td>...</td>\n",
              "      <td>...</td>\n",
              "      <td>...</td>\n",
              "      <td>...</td>\n",
              "      <td>...</td>\n",
              "      <td>...</td>\n",
              "      <td>...</td>\n",
              "      <td>...</td>\n",
              "    </tr>\n",
              "    <tr>\n",
              "      <th>32185</th>\n",
              "      <td>NaN</td>\n",
              "      <td>100448</td>\n",
              "      <td>201391</td>\n",
              "      <td>일시불쿠첸압력밥솥 6인용</td>\n",
              "      <td>주방</td>\n",
              "      <td>148000</td>\n",
              "      <td>10157000</td>\n",
              "      <td>12</td>\n",
              "      <td>Tuesday</td>\n",
              "      <td>2019-12-31</td>\n",
              "      <td>23:40:00</td>\n",
              "    </tr>\n",
              "    <tr>\n",
              "      <th>32186</th>\n",
              "      <td>20</td>\n",
              "      <td>100448</td>\n",
              "      <td>201383</td>\n",
              "      <td>무이자쿠첸압력밥솥 10인용</td>\n",
              "      <td>주방</td>\n",
              "      <td>178000</td>\n",
              "      <td>50929000</td>\n",
              "      <td>01</td>\n",
              "      <td>Wednesday</td>\n",
              "      <td>2020-01-01</td>\n",
              "      <td>00:00:00</td>\n",
              "    </tr>\n",
              "    <tr>\n",
              "      <th>32187</th>\n",
              "      <td>NaN</td>\n",
              "      <td>100448</td>\n",
              "      <td>201390</td>\n",
              "      <td>일시불쿠첸압력밥솥 10인용</td>\n",
              "      <td>주방</td>\n",
              "      <td>168000</td>\n",
              "      <td>104392000</td>\n",
              "      <td>01</td>\n",
              "      <td>Wednesday</td>\n",
              "      <td>2020-01-01</td>\n",
              "      <td>00:00:00</td>\n",
              "    </tr>\n",
              "    <tr>\n",
              "      <th>32188</th>\n",
              "      <td>NaN</td>\n",
              "      <td>100448</td>\n",
              "      <td>201384</td>\n",
              "      <td>무이자쿠첸압력밥솥 6인용</td>\n",
              "      <td>주방</td>\n",
              "      <td>158000</td>\n",
              "      <td>13765000</td>\n",
              "      <td>01</td>\n",
              "      <td>Wednesday</td>\n",
              "      <td>2020-01-01</td>\n",
              "      <td>00:00:00</td>\n",
              "    </tr>\n",
              "    <tr>\n",
              "      <th>32189</th>\n",
              "      <td>NaN</td>\n",
              "      <td>100448</td>\n",
              "      <td>201391</td>\n",
              "      <td>일시불쿠첸압력밥솥 6인용</td>\n",
              "      <td>주방</td>\n",
              "      <td>148000</td>\n",
              "      <td>46608000</td>\n",
              "      <td>01</td>\n",
              "      <td>Wednesday</td>\n",
              "      <td>2020-01-01</td>\n",
              "      <td>00:00:00</td>\n",
              "    </tr>\n",
              "  </tbody>\n",
              "</table>\n",
              "<p>32190 rows × 11 columns</p>\n",
              "</div>"
            ],
            "text/plain": [
              "      노출(분)    마더코드    상품코드  ...   week day  broad date broad time\n",
              "0        20  100346  201072  ...    Tuesday  2019-01-01   06:00:00\n",
              "1       NaN  100346  201079  ...    Tuesday  2019-01-01   06:00:00\n",
              "2        20  100346  201072  ...    Tuesday  2019-01-01   06:20:00\n",
              "3       NaN  100346  201079  ...    Tuesday  2019-01-01   06:20:00\n",
              "4        20  100346  201072  ...    Tuesday  2019-01-01   06:40:00\n",
              "...     ...     ...     ...  ...        ...         ...        ...\n",
              "32185   NaN  100448  201391  ...    Tuesday  2019-12-31   23:40:00\n",
              "32186    20  100448  201383  ...  Wednesday  2020-01-01   00:00:00\n",
              "32187   NaN  100448  201390  ...  Wednesday  2020-01-01   00:00:00\n",
              "32188   NaN  100448  201384  ...  Wednesday  2020-01-01   00:00:00\n",
              "32189   NaN  100448  201391  ...  Wednesday  2020-01-01   00:00:00\n",
              "\n",
              "[32190 rows x 11 columns]"
            ]
          },
          "metadata": {
            "tags": []
          },
          "execution_count": 10
        }
      ]
    },
    {
      "cell_type": "code",
      "metadata": {
        "id": "UMQKqigsHu_j",
        "colab_type": "code",
        "colab": {}
      },
      "source": [
        "6751"
      ],
      "execution_count": null,
      "outputs": []
    },
    {
      "cell_type": "markdown",
      "metadata": {
        "id": "j9Fl4EP8ID9z",
        "colab_type": "text"
      },
      "source": [
        "\n",
        "\n",
        "## *   과거 실적이 없는 경우 분석\n",
        "\n"
      ]
    },
    {
      "cell_type": "code",
      "metadata": {
        "id": "upeIFf8OH9uy",
        "colab_type": "code",
        "colab": {
          "base_uri": "https://localhost:8080/",
          "height": 406
        },
        "outputId": "e768ec42-102b-4139-9d63-f6fa87543e3e"
      },
      "source": [
        "df_sales_NaN"
      ],
      "execution_count": null,
      "outputs": [
        {
          "output_type": "execute_result",
          "data": {
            "text/html": [
              "<div>\n",
              "<style scoped>\n",
              "    .dataframe tbody tr th:only-of-type {\n",
              "        vertical-align: middle;\n",
              "    }\n",
              "\n",
              "    .dataframe tbody tr th {\n",
              "        vertical-align: top;\n",
              "    }\n",
              "\n",
              "    .dataframe thead th {\n",
              "        text-align: right;\n",
              "    }\n",
              "</style>\n",
              "<table border=\"1\" class=\"dataframe\">\n",
              "  <thead>\n",
              "    <tr style=\"text-align: right;\">\n",
              "      <th></th>\n",
              "      <th>방송일시</th>\n",
              "      <th>노출(분)</th>\n",
              "      <th>마더코드</th>\n",
              "      <th>상품코드</th>\n",
              "      <th>상품명</th>\n",
              "      <th>상품군</th>\n",
              "      <th>판매단가</th>\n",
              "      <th>취급액</th>\n",
              "    </tr>\n",
              "  </thead>\n",
              "  <tbody>\n",
              "    <tr>\n",
              "      <th>2319</th>\n",
              "      <td>2019-01-25 19:00:00</td>\n",
              "      <td>60</td>\n",
              "      <td>100507</td>\n",
              "      <td>201567</td>\n",
              "      <td>TCOM_처브치아보험</td>\n",
              "      <td>무형</td>\n",
              "      <td>0</td>\n",
              "      <td>NaN</td>\n",
              "    </tr>\n",
              "    <tr>\n",
              "      <th>2846</th>\n",
              "      <td>2019-01-31 18:00:00</td>\n",
              "      <td>60</td>\n",
              "      <td>100507</td>\n",
              "      <td>201567</td>\n",
              "      <td>TCOM_처브치아보험</td>\n",
              "      <td>무형</td>\n",
              "      <td>0</td>\n",
              "      <td>NaN</td>\n",
              "    </tr>\n",
              "    <tr>\n",
              "      <th>3333</th>\n",
              "      <td>2019-02-05 18:00:00</td>\n",
              "      <td>60</td>\n",
              "      <td>100507</td>\n",
              "      <td>201567</td>\n",
              "      <td>TCOM_처브치아보험</td>\n",
              "      <td>무형</td>\n",
              "      <td>0</td>\n",
              "      <td>NaN</td>\n",
              "    </tr>\n",
              "    <tr>\n",
              "      <th>6571</th>\n",
              "      <td>2019-03-09 00:00:00</td>\n",
              "      <td>20</td>\n",
              "      <td>100324</td>\n",
              "      <td>201095</td>\n",
              "      <td>온라인투어 동남아 나트랑/빈펄랜드 (190309)</td>\n",
              "      <td>무형</td>\n",
              "      <td>0</td>\n",
              "      <td>NaN</td>\n",
              "    </tr>\n",
              "    <tr>\n",
              "      <th>6572</th>\n",
              "      <td>2019-03-09 00:20:00</td>\n",
              "      <td>20</td>\n",
              "      <td>100324</td>\n",
              "      <td>201095</td>\n",
              "      <td>온라인투어 동남아 나트랑/빈펄랜드 (190309)</td>\n",
              "      <td>무형</td>\n",
              "      <td>0</td>\n",
              "      <td>NaN</td>\n",
              "    </tr>\n",
              "    <tr>\n",
              "      <th>...</th>\n",
              "      <td>...</td>\n",
              "      <td>...</td>\n",
              "      <td>...</td>\n",
              "      <td>...</td>\n",
              "      <td>...</td>\n",
              "      <td>...</td>\n",
              "      <td>...</td>\n",
              "      <td>...</td>\n",
              "    </tr>\n",
              "    <tr>\n",
              "      <th>38305</th>\n",
              "      <td>2020-01-01 00:20:00</td>\n",
              "      <td>20</td>\n",
              "      <td>100073</td>\n",
              "      <td>200196</td>\n",
              "      <td>삼성화재 행복한파트너 주택화재보험(1912)</td>\n",
              "      <td>무형</td>\n",
              "      <td>0</td>\n",
              "      <td>NaN</td>\n",
              "    </tr>\n",
              "    <tr>\n",
              "      <th>38306</th>\n",
              "      <td>2020-01-01 00:40:00</td>\n",
              "      <td>20</td>\n",
              "      <td>100073</td>\n",
              "      <td>200196</td>\n",
              "      <td>삼성화재 행복한파트너 주택화재보험(1912)</td>\n",
              "      <td>무형</td>\n",
              "      <td>0</td>\n",
              "      <td>NaN</td>\n",
              "    </tr>\n",
              "    <tr>\n",
              "      <th>38307</th>\n",
              "      <td>2020-01-01 01:00:00</td>\n",
              "      <td>20</td>\n",
              "      <td>100073</td>\n",
              "      <td>200196</td>\n",
              "      <td>삼성화재 행복한파트너 주택화재보험(1912)</td>\n",
              "      <td>무형</td>\n",
              "      <td>0</td>\n",
              "      <td>NaN</td>\n",
              "    </tr>\n",
              "    <tr>\n",
              "      <th>38308</th>\n",
              "      <td>2020-01-01 01:20:00</td>\n",
              "      <td>20</td>\n",
              "      <td>100490</td>\n",
              "      <td>201478</td>\n",
              "      <td>더케이 예다함 상조서비스(티포트)</td>\n",
              "      <td>무형</td>\n",
              "      <td>0</td>\n",
              "      <td>NaN</td>\n",
              "    </tr>\n",
              "    <tr>\n",
              "      <th>38309</th>\n",
              "      <td>2020-01-01 01:40:00</td>\n",
              "      <td>17.1667</td>\n",
              "      <td>100490</td>\n",
              "      <td>201478</td>\n",
              "      <td>더케이 예다함 상조서비스(티포트)</td>\n",
              "      <td>무형</td>\n",
              "      <td>0</td>\n",
              "      <td>NaN</td>\n",
              "    </tr>\n",
              "  </tbody>\n",
              "</table>\n",
              "<p>937 rows × 8 columns</p>\n",
              "</div>"
            ],
            "text/plain": [
              "                      방송일시    노출(분)    마더코드  ... 상품군 판매단가  취급액\n",
              "2319   2019-01-25 19:00:00       60  100507  ...  무형    0  NaN\n",
              "2846   2019-01-31 18:00:00       60  100507  ...  무형    0  NaN\n",
              "3333   2019-02-05 18:00:00       60  100507  ...  무형    0  NaN\n",
              "6571   2019-03-09 00:00:00       20  100324  ...  무형    0  NaN\n",
              "6572   2019-03-09 00:20:00       20  100324  ...  무형    0  NaN\n",
              "...                    ...      ...     ...  ...  ..  ...  ...\n",
              "38305  2020-01-01 00:20:00       20  100073  ...  무형    0  NaN\n",
              "38306  2020-01-01 00:40:00       20  100073  ...  무형    0  NaN\n",
              "38307  2020-01-01 01:00:00       20  100073  ...  무형    0  NaN\n",
              "38308  2020-01-01 01:20:00       20  100490  ...  무형    0  NaN\n",
              "38309  2020-01-01 01:40:00  17.1667  100490  ...  무형    0  NaN\n",
              "\n",
              "[937 rows x 8 columns]"
            ]
          },
          "metadata": {
            "tags": []
          },
          "execution_count": 11
        }
      ]
    },
    {
      "cell_type": "code",
      "metadata": {
        "id": "9CADxt_QIRbq",
        "colab_type": "code",
        "colab": {
          "base_uri": "https://localhost:8080/",
          "height": 603
        },
        "outputId": "470ea24c-7017-4d7e-d905-adf21882dc82"
      },
      "source": [
        "df_sales_NaN.상품명.unique()"
      ],
      "execution_count": null,
      "outputs": [
        {
          "output_type": "execute_result",
          "data": {
            "text/plain": [
              "array(['TCOM_처브치아보험', '온라인투어 동남아 나트랑/빈펄랜드 (190309)',\n",
              "       '(무)메리츠 올바른 간편보험1810', '하나투어 괌PIC(190315)', '온라인투어 오키나와 (190323)',\n",
              "       '온라인투어 중국/장사,장가계 (190330)', '온라인투어 오사카(0406)', '넥센타이어 렌탈서비스',\n",
              "       '롯데렌터카', '하나투어 북해도(190413)', '하나투어 오키나와(190420)',\n",
              "       '온라인투어 장사장가계(190420)', '온라인투어 동남아 다낭5일(0427)',\n",
              "       '온라인투어 호주/뉴질랜드(190427)', '넥센타이어 렌탈서비스(특약)', 'TCOM_아이러너 런닝머신 렌탈',\n",
              "       '웰릭스렌탈 음식물처리기', '여행박사 대만(190503)', '온라인투어 하와이 6일(190504)',\n",
              "       '온라인투어 북해도(190511)', 'TCOM_현대해상 (무)하이콜운전자상해보험',\n",
              "       '하나투어 오사카 (190518)', '온라인투어 태항산(0518)', ' 용인공원라이프 스마트라이프48',\n",
              "       '온라인투어 하이난(0601)', '온라인투어 동경/오다이바/하코네 (0601)',\n",
              "       '온라인투어 미동부/캐나다 (190608)', '온라인투어 청도(190615)',\n",
              "       '온라인투어 호주/오클랜드(190622)', '롯데JTB 태항산5일(190628)', '온라인투어 북경(190706)',\n",
              "       'DB통큰간편암플랜', 'TCOM_관절염 치료 의료기기 닥터88', 'SK매직정수기 3종',\n",
              "       '롯데JTB 장가계(190726)', '롯데JTB 장가계(190803)', '온라인투어 태항산(190817)',\n",
              "       '온라인투어 태항산(190823) 상담예약', '참좋은여행 장가계(190823) 상담예약',\n",
              "       'TCOM_바디프랜드 아제라', '온라인투어 장가계 항공직항(190906) 상담예약',\n",
              "       'TCOM_X-RUN Serise', '참좋은여행 하문,샤먼(190914) 상담예약', '실속하나로암보험 체증형',\n",
              "       'TCOM_아이러너 런닝머신 렌탈(x1,x3)', '참좋은여행 상해(191011) 상담예약',\n",
              "       '롯데JTB 청도(190928)상담예약', '대명아임레디 더행복한플랜(싱글)',\n",
              "       '삼성화재 천만안심 건강보험(암보험, 1907)', '하나투어 중남미 페루일주 (191001) 상담예약',\n",
              "       'TCOM_라클라우드 모션배드', '온라인투어 청도(191011) 상담예약',\n",
              "       '온라인투어 장가계직항 신규취항(191018) 상담예약', '참좋은여행 대련(191018) 상담예약',\n",
              "       '현대렌탈케어 정수기 렌탈', '온라인투어 대련(191025) 상담예약', '롯데관광 호주(191025)상담예약',\n",
              "       '하나투어 싱가폴(191101)상담예약', '롯데관광 시안(191101)상담예약',\n",
              "       '온라인투어 대련 아시아나(191108) 상담예약', '참좋은여행 가오슝(191108) 상담예약',\n",
              "       '[상담접수상품]뇌새김 영어 렌탈', '인터파크 장가계(191115) 상담예약',\n",
              "       '롯데관광 인도 네팔(191115)상담예약', '온라인투어 청도 대한항공(191122) 상담예약',\n",
              "       '인터파크 상해(191122) 상담예약', 'SKT휴대폰 (삼성갤럭시 노트9)', '휴테크 안마의자',\n",
              "       '온라인투어 장가계 아시아나 특가찬스(191206) 상담예약', '롯데관광 북경(191213)상담예약',\n",
              "       '참좋은여행 대만(191213) 상담예약', '(렌탈) 헬스리아 반신욕기',\n",
              "       '온라인투어 청도 (191220) 상담예약', '참좋은여행 장가계(191220) 상담예약',\n",
              "       '온라인투어 북경 (191227) 상담예약', '롯데관광 세부 (191227)상담예약',\n",
              "       '삼성화재 행복한파트너 주택화재보험(1912)', '더케이 예다함 상조서비스(티포트)'], dtype=object)"
            ]
          },
          "metadata": {
            "tags": []
          },
          "execution_count": 12
        }
      ]
    },
    {
      "cell_type": "code",
      "metadata": {
        "id": "7GH3EdwZI6-s",
        "colab_type": "code",
        "colab": {}
      },
      "source": [
        "for products in df_sales_NaN.상품명.unique():\n",
        "  if "
      ],
      "execution_count": null,
      "outputs": []
    }
  ]
}