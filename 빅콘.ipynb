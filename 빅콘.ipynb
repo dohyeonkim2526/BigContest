{
  "nbformat": 4,
  "nbformat_minor": 0,
  "metadata": {
    "colab": {
      "name": "빅콘.ipynb",
      "provenance": [],
      "collapsed_sections": [],
      "authorship_tag": "ABX9TyOmSffq9d/bTMSNvZt/7gQ4",
      "include_colab_link": true
    },
    "kernelspec": {
      "name": "python3",
      "display_name": "Python 3"
    }
  },
  "cells": [
    {
      "cell_type": "markdown",
      "metadata": {
        "id": "view-in-github",
        "colab_type": "text"
      },
      "source": [
        "<a href=\"https://colab.research.google.com/github/dohyeonkim2526/BigContest/blob/master/%EB%B9%85%EC%BD%98.ipynb\" target=\"_parent\"><img src=\"https://colab.research.google.com/assets/colab-badge.svg\" alt=\"Open In Colab\"/></a>"
      ]
    },
    {
      "cell_type": "code",
      "metadata": {
        "id": "RnVUtpDSFpYN",
        "colab_type": "code",
        "colab": {
          "base_uri": "https://localhost:8080/",
          "height": 125
        },
        "outputId": "f4c73597-dadc-4e6b-9046-f221805a2600"
      },
      "source": [
        "from google.colab import drive\n",
        "drive.mount('/content/gdrive')"
      ],
      "execution_count": 1,
      "outputs": [
        {
          "output_type": "stream",
          "text": [
            "Go to this URL in a browser: https://accounts.google.com/o/oauth2/auth?client_id=947318989803-6bn6qk8qdgf4n4g3pfee6491hc0brc4i.apps.googleusercontent.com&redirect_uri=urn%3aietf%3awg%3aoauth%3a2.0%3aoob&scope=email%20https%3a%2f%2fwww.googleapis.com%2fauth%2fdocs.test%20https%3a%2f%2fwww.googleapis.com%2fauth%2fdrive%20https%3a%2f%2fwww.googleapis.com%2fauth%2fdrive.photos.readonly%20https%3a%2f%2fwww.googleapis.com%2fauth%2fpeopleapi.readonly&response_type=code\n",
            "\n",
            "Enter your authorization code:\n",
            "··········\n",
            "Mounted at /content/gdrive\n"
          ],
          "name": "stdout"
        }
      ]
    },
    {
      "cell_type": "code",
      "metadata": {
        "id": "VipwZpvIFxoU",
        "colab_type": "code",
        "colab": {}
      },
      "source": [
        "import os\n",
        "import numpy as np\n",
        "import pandas as pd\n",
        "\n",
        "base_dir='/content/gdrive/My Drive/빅데이터 공모전/빅콘테스트 데이터/제공데이터'\n",
        "sales_data='19년도-실적데이터.xlsx'\n",
        "sales_dir=os.path.join(base_dir, sales_data)\n",
        "\n",
        "base_dir_2='/content/gdrive/My Drive/빅데이터 공모전/빅콘테스트 데이터/평가데이터'\n",
        "pred_data='20년6월-실적예측데이터.xlsx'\n",
        "pred_dir=os.path.join(base_dir_2, pred_data)"
      ],
      "execution_count": 2,
      "outputs": []
    },
    {
      "cell_type": "markdown",
      "metadata": {
        "id": "s9CcpimeO7hr",
        "colab_type": "text"
      },
      "source": [
        "# [예측 데이터]"
      ]
    },
    {
      "cell_type": "code",
      "metadata": {
        "id": "-eYmqZPrO6_I",
        "colab_type": "code",
        "colab": {
          "base_uri": "https://localhost:8080/",
          "height": 406
        },
        "outputId": "bbc1cb34-611a-4315-b1e5-fc92449c1711"
      },
      "source": [
        "df_preds=pd.read_excel(pred_dir,header=1)\n",
        "df_preds  # 예측 상품 데이터프레임"
      ],
      "execution_count": 3,
      "outputs": [
        {
          "output_type": "execute_result",
          "data": {
            "text/html": [
              "<div>\n",
              "<style scoped>\n",
              "    .dataframe tbody tr th:only-of-type {\n",
              "        vertical-align: middle;\n",
              "    }\n",
              "\n",
              "    .dataframe tbody tr th {\n",
              "        vertical-align: top;\n",
              "    }\n",
              "\n",
              "    .dataframe thead th {\n",
              "        text-align: right;\n",
              "    }\n",
              "</style>\n",
              "<table border=\"1\" class=\"dataframe\">\n",
              "  <thead>\n",
              "    <tr style=\"text-align: right;\">\n",
              "      <th></th>\n",
              "      <th>방송일시</th>\n",
              "      <th>노출(분)</th>\n",
              "      <th>마더코드</th>\n",
              "      <th>상품코드</th>\n",
              "      <th>상품명</th>\n",
              "      <th>상품군</th>\n",
              "      <th>판매단가</th>\n",
              "      <th>취급액</th>\n",
              "    </tr>\n",
              "  </thead>\n",
              "  <tbody>\n",
              "    <tr>\n",
              "      <th>0</th>\n",
              "      <td>2020-06-01 06:20:00</td>\n",
              "      <td>20.000000</td>\n",
              "      <td>100650</td>\n",
              "      <td>201971</td>\n",
              "      <td>잭필드 남성  반팔셔츠 4종</td>\n",
              "      <td>의류</td>\n",
              "      <td>59800</td>\n",
              "      <td>NaN</td>\n",
              "    </tr>\n",
              "    <tr>\n",
              "      <th>1</th>\n",
              "      <td>2020-06-01 06:40:00</td>\n",
              "      <td>20.000000</td>\n",
              "      <td>100650</td>\n",
              "      <td>201971</td>\n",
              "      <td>잭필드 남성  반팔셔츠 4종</td>\n",
              "      <td>의류</td>\n",
              "      <td>59800</td>\n",
              "      <td>NaN</td>\n",
              "    </tr>\n",
              "    <tr>\n",
              "      <th>2</th>\n",
              "      <td>2020-06-01 07:00:00</td>\n",
              "      <td>20.000000</td>\n",
              "      <td>100650</td>\n",
              "      <td>201971</td>\n",
              "      <td>잭필드 남성  반팔셔츠 4종</td>\n",
              "      <td>의류</td>\n",
              "      <td>59800</td>\n",
              "      <td>NaN</td>\n",
              "    </tr>\n",
              "    <tr>\n",
              "      <th>3</th>\n",
              "      <td>2020-06-01 07:20:00</td>\n",
              "      <td>20.000000</td>\n",
              "      <td>100445</td>\n",
              "      <td>202278</td>\n",
              "      <td>쿠미투니카 쿨 레이시 란쥬쉐이퍼&amp;팬티</td>\n",
              "      <td>속옷</td>\n",
              "      <td>69900</td>\n",
              "      <td>NaN</td>\n",
              "    </tr>\n",
              "    <tr>\n",
              "      <th>4</th>\n",
              "      <td>2020-06-01 07:40:00</td>\n",
              "      <td>20.000000</td>\n",
              "      <td>100445</td>\n",
              "      <td>202278</td>\n",
              "      <td>쿠미투니카 쿨 레이시 란쥬쉐이퍼&amp;팬티</td>\n",
              "      <td>속옷</td>\n",
              "      <td>69900</td>\n",
              "      <td>NaN</td>\n",
              "    </tr>\n",
              "    <tr>\n",
              "      <th>...</th>\n",
              "      <td>...</td>\n",
              "      <td>...</td>\n",
              "      <td>...</td>\n",
              "      <td>...</td>\n",
              "      <td>...</td>\n",
              "      <td>...</td>\n",
              "      <td>...</td>\n",
              "      <td>...</td>\n",
              "    </tr>\n",
              "    <tr>\n",
              "      <th>2886</th>\n",
              "      <td>2020-07-01 00:20:00</td>\n",
              "      <td>20.000000</td>\n",
              "      <td>100660</td>\n",
              "      <td>201989</td>\n",
              "      <td>쉴렉스  안마의자 렌탈서비스</td>\n",
              "      <td>무형</td>\n",
              "      <td>0</td>\n",
              "      <td>NaN</td>\n",
              "    </tr>\n",
              "    <tr>\n",
              "      <th>2887</th>\n",
              "      <td>2020-07-01 00:40:00</td>\n",
              "      <td>20.000000</td>\n",
              "      <td>100660</td>\n",
              "      <td>201989</td>\n",
              "      <td>쉴렉스  안마의자 렌탈서비스</td>\n",
              "      <td>무형</td>\n",
              "      <td>0</td>\n",
              "      <td>NaN</td>\n",
              "    </tr>\n",
              "    <tr>\n",
              "      <th>2888</th>\n",
              "      <td>2020-07-01 01:00:00</td>\n",
              "      <td>20.000000</td>\n",
              "      <td>100660</td>\n",
              "      <td>201989</td>\n",
              "      <td>쉴렉스  안마의자 렌탈서비스</td>\n",
              "      <td>무형</td>\n",
              "      <td>0</td>\n",
              "      <td>NaN</td>\n",
              "    </tr>\n",
              "    <tr>\n",
              "      <th>2889</th>\n",
              "      <td>2020-07-01 01:20:00</td>\n",
              "      <td>20.000000</td>\n",
              "      <td>100261</td>\n",
              "      <td>200875</td>\n",
              "      <td>아놀드파마 티셔츠레깅스세트</td>\n",
              "      <td>의류</td>\n",
              "      <td>69900</td>\n",
              "      <td>NaN</td>\n",
              "    </tr>\n",
              "    <tr>\n",
              "      <th>2890</th>\n",
              "      <td>2020-07-01 01:40:00</td>\n",
              "      <td>15.933333</td>\n",
              "      <td>100261</td>\n",
              "      <td>200875</td>\n",
              "      <td>아놀드파마 티셔츠레깅스세트</td>\n",
              "      <td>의류</td>\n",
              "      <td>69900</td>\n",
              "      <td>NaN</td>\n",
              "    </tr>\n",
              "  </tbody>\n",
              "</table>\n",
              "<p>2891 rows × 8 columns</p>\n",
              "</div>"
            ],
            "text/plain": [
              "                    방송일시      노출(분)    마더코드  ...  상품군   판매단가 취급액\n",
              "0    2020-06-01 06:20:00  20.000000  100650  ...   의류  59800 NaN\n",
              "1    2020-06-01 06:40:00  20.000000  100650  ...   의류  59800 NaN\n",
              "2    2020-06-01 07:00:00  20.000000  100650  ...   의류  59800 NaN\n",
              "3    2020-06-01 07:20:00  20.000000  100445  ...   속옷  69900 NaN\n",
              "4    2020-06-01 07:40:00  20.000000  100445  ...   속옷  69900 NaN\n",
              "...                  ...        ...     ...  ...  ...    ...  ..\n",
              "2886 2020-07-01 00:20:00  20.000000  100660  ...   무형      0 NaN\n",
              "2887 2020-07-01 00:40:00  20.000000  100660  ...   무형      0 NaN\n",
              "2888 2020-07-01 01:00:00  20.000000  100660  ...   무형      0 NaN\n",
              "2889 2020-07-01 01:20:00  20.000000  100261  ...   의류  69900 NaN\n",
              "2890 2020-07-01 01:40:00  15.933333  100261  ...   의류  69900 NaN\n",
              "\n",
              "[2891 rows x 8 columns]"
            ]
          },
          "metadata": {
            "tags": []
          },
          "execution_count": 3
        }
      ]
    },
    {
      "cell_type": "code",
      "metadata": {
        "id": "xg-uVl5ERFsf",
        "colab_type": "code",
        "colab": {}
      },
      "source": [
        "df_preds=df_preds.drop(df_preds[(df_preds['판매단가']==0)].index) # 예측 상품 판매가 0원인 것은 예측에서 제외\n",
        "df_preds=df_preds.reset_index(drop=True)"
      ],
      "execution_count": 4,
      "outputs": []
    },
    {
      "cell_type": "code",
      "metadata": {
        "id": "cB1Kw2j2SdvO",
        "colab_type": "code",
        "colab": {}
      },
      "source": [
        "# 예측 상품의 마더코드 리스트 생성\n",
        "\n",
        "pred_code=[]\n",
        "for code in df_preds['마더코드']:\n",
        "  if code not in pred_code:\n",
        "    pred_code.append(code)\n",
        "\n",
        "pred_code.sort()"
      ],
      "execution_count": 5,
      "outputs": []
    },
    {
      "cell_type": "markdown",
      "metadata": {
        "id": "aHWOw8P9mABp",
        "colab_type": "text"
      },
      "source": [
        "# [ 2019 판매 데이터 ]"
      ]
    },
    {
      "cell_type": "code",
      "metadata": {
        "id": "Jg2SCcalGOPB",
        "colab_type": "code",
        "colab": {}
      },
      "source": [
        "df_sales=pd.read_excel(sales_dir,header=1, na_values='NaN')"
      ],
      "execution_count": 6,
      "outputs": []
    },
    {
      "cell_type": "code",
      "metadata": {
        "id": "wkSCB4QA21qo",
        "colab_type": "code",
        "colab": {
          "base_uri": "https://localhost:8080/",
          "height": 176
        },
        "outputId": "a5cabc7f-2fb7-4ba0-fa43-e930ed2de47b"
      },
      "source": [
        "df_sales.dtypes"
      ],
      "execution_count": null,
      "outputs": [
        {
          "output_type": "execute_result",
          "data": {
            "text/plain": [
              "방송일시     object\n",
              "노출(분)    object\n",
              "마더코드     object\n",
              "상품코드     object\n",
              "상품명      object\n",
              "상품군      object\n",
              "판매단가     object\n",
              "취급액      object\n",
              "dtype: object"
            ]
          },
          "metadata": {
            "tags": []
          },
          "execution_count": 8
        }
      ]
    },
    {
      "cell_type": "code",
      "metadata": {
        "id": "E19qNHQM2_fz",
        "colab_type": "code",
        "colab": {}
      },
      "source": [
        "df_sales.방송일시=pd.to_datetime(df_sales.방송일시, format='%Y%m%d %H:%M:%S')\n",
        "df_sales['month']=df_sales.방송일시.dt.strftime('%m')\n",
        "df_sales['week day']=df_sales['방송일시'].dt.day_name()\n",
        "df_sales['broad date']=df_sales['방송일시'].dt.date\n",
        "df_sales['broad time']=df_sales['방송일시'].dt.time\n",
        "df_sales=df_sales.drop('방송일시', axis=1)"
      ],
      "execution_count": 7,
      "outputs": []
    },
    {
      "cell_type": "code",
      "metadata": {
        "id": "6XTLA63EsUOO",
        "colab_type": "code",
        "colab": {}
      },
      "source": [
        "df_sales=df_sales.drop(df_sales[(df_sales['week day'] == 'Saturday')].index) # 매주 토요일을 추정에서 제외"
      ],
      "execution_count": 8,
      "outputs": []
    },
    {
      "cell_type": "code",
      "metadata": {
        "id": "RayoAzls557n",
        "colab_type": "code",
        "colab": {
          "base_uri": "https://localhost:8080/",
          "height": 230
        },
        "outputId": "4403ea7e-4745-452d-a874-67d3283d2a97"
      },
      "source": [
        "df_sales['broad time']"
      ],
      "execution_count": null,
      "outputs": [
        {
          "output_type": "execute_result",
          "data": {
            "text/plain": [
              "1        06:00:00\n",
              "2        06:00:00\n",
              "3        06:20:00\n",
              "4        06:20:00\n",
              "5        06:40:00\n",
              "           ...   \n",
              "38300    23:40:00\n",
              "38301    00:00:00\n",
              "38302    00:00:00\n",
              "38303    00:00:00\n",
              "38304    00:00:00\n",
              "Name: broad time, Length: 32190, dtype: object"
            ]
          },
          "metadata": {
            "tags": []
          },
          "execution_count": 156
        }
      ]
    },
    {
      "cell_type": "code",
      "metadata": {
        "id": "TniGDaGCtmTK",
        "colab_type": "code",
        "colab": {}
      },
      "source": [
        "df_sales=df_sales.reset_index(drop=True)"
      ],
      "execution_count": 9,
      "outputs": []
    },
    {
      "cell_type": "code",
      "metadata": {
        "id": "8-rCF5GNxq7j",
        "colab_type": "code",
        "colab": {
          "base_uri": "https://localhost:8080/",
          "height": 391
        },
        "outputId": "9242ddde-6934-4aa1-8e4e-1f159a288ff8"
      },
      "source": [
        "df_sales"
      ],
      "execution_count": null,
      "outputs": [
        {
          "output_type": "execute_result",
          "data": {
            "text/html": [
              "<div>\n",
              "<style scoped>\n",
              "    .dataframe tbody tr th:only-of-type {\n",
              "        vertical-align: middle;\n",
              "    }\n",
              "\n",
              "    .dataframe tbody tr th {\n",
              "        vertical-align: top;\n",
              "    }\n",
              "\n",
              "    .dataframe thead th {\n",
              "        text-align: right;\n",
              "    }\n",
              "</style>\n",
              "<table border=\"1\" class=\"dataframe\">\n",
              "  <thead>\n",
              "    <tr style=\"text-align: right;\">\n",
              "      <th></th>\n",
              "      <th>노출(분)</th>\n",
              "      <th>마더코드</th>\n",
              "      <th>상품코드</th>\n",
              "      <th>상품명</th>\n",
              "      <th>상품군</th>\n",
              "      <th>판매단가</th>\n",
              "      <th>취급액</th>\n",
              "      <th>month</th>\n",
              "      <th>week day</th>\n",
              "      <th>broad date</th>\n",
              "      <th>broad time</th>\n",
              "    </tr>\n",
              "  </thead>\n",
              "  <tbody>\n",
              "    <tr>\n",
              "      <th>0</th>\n",
              "      <td>20.000000</td>\n",
              "      <td>100346</td>\n",
              "      <td>201072</td>\n",
              "      <td>테이트 남성 셀린니트3종</td>\n",
              "      <td>의류</td>\n",
              "      <td>39900</td>\n",
              "      <td>2099000.0</td>\n",
              "      <td>01</td>\n",
              "      <td>Tuesday</td>\n",
              "      <td>2019-01-01</td>\n",
              "      <td>06:00:00</td>\n",
              "    </tr>\n",
              "    <tr>\n",
              "      <th>1</th>\n",
              "      <td>NaN</td>\n",
              "      <td>100346</td>\n",
              "      <td>201079</td>\n",
              "      <td>테이트 여성 셀린니트3종</td>\n",
              "      <td>의류</td>\n",
              "      <td>39900</td>\n",
              "      <td>4371000.0</td>\n",
              "      <td>01</td>\n",
              "      <td>Tuesday</td>\n",
              "      <td>2019-01-01</td>\n",
              "      <td>06:00:00</td>\n",
              "    </tr>\n",
              "    <tr>\n",
              "      <th>2</th>\n",
              "      <td>20.000000</td>\n",
              "      <td>100346</td>\n",
              "      <td>201072</td>\n",
              "      <td>테이트 남성 셀린니트3종</td>\n",
              "      <td>의류</td>\n",
              "      <td>39900</td>\n",
              "      <td>3262000.0</td>\n",
              "      <td>01</td>\n",
              "      <td>Tuesday</td>\n",
              "      <td>2019-01-01</td>\n",
              "      <td>06:20:00</td>\n",
              "    </tr>\n",
              "    <tr>\n",
              "      <th>3</th>\n",
              "      <td>NaN</td>\n",
              "      <td>100346</td>\n",
              "      <td>201079</td>\n",
              "      <td>테이트 여성 셀린니트3종</td>\n",
              "      <td>의류</td>\n",
              "      <td>39900</td>\n",
              "      <td>6955000.0</td>\n",
              "      <td>01</td>\n",
              "      <td>Tuesday</td>\n",
              "      <td>2019-01-01</td>\n",
              "      <td>06:20:00</td>\n",
              "    </tr>\n",
              "    <tr>\n",
              "      <th>4</th>\n",
              "      <td>20.000000</td>\n",
              "      <td>100346</td>\n",
              "      <td>201072</td>\n",
              "      <td>테이트 남성 셀린니트3종</td>\n",
              "      <td>의류</td>\n",
              "      <td>39900</td>\n",
              "      <td>6672000.0</td>\n",
              "      <td>01</td>\n",
              "      <td>Tuesday</td>\n",
              "      <td>2019-01-01</td>\n",
              "      <td>06:40:00</td>\n",
              "    </tr>\n",
              "    <tr>\n",
              "      <th>...</th>\n",
              "      <td>...</td>\n",
              "      <td>...</td>\n",
              "      <td>...</td>\n",
              "      <td>...</td>\n",
              "      <td>...</td>\n",
              "      <td>...</td>\n",
              "      <td>...</td>\n",
              "      <td>...</td>\n",
              "      <td>...</td>\n",
              "      <td>...</td>\n",
              "      <td>...</td>\n",
              "    </tr>\n",
              "    <tr>\n",
              "      <th>32836</th>\n",
              "      <td>20.000000</td>\n",
              "      <td>100073</td>\n",
              "      <td>200196</td>\n",
              "      <td>삼성화재 행복한파트너 주택화재보험(1912)</td>\n",
              "      <td>무형</td>\n",
              "      <td>0</td>\n",
              "      <td>NaN</td>\n",
              "      <td>01</td>\n",
              "      <td>Wednesday</td>\n",
              "      <td>2020-01-01</td>\n",
              "      <td>00:20:00</td>\n",
              "    </tr>\n",
              "    <tr>\n",
              "      <th>32837</th>\n",
              "      <td>20.000000</td>\n",
              "      <td>100073</td>\n",
              "      <td>200196</td>\n",
              "      <td>삼성화재 행복한파트너 주택화재보험(1912)</td>\n",
              "      <td>무형</td>\n",
              "      <td>0</td>\n",
              "      <td>NaN</td>\n",
              "      <td>01</td>\n",
              "      <td>Wednesday</td>\n",
              "      <td>2020-01-01</td>\n",
              "      <td>00:40:00</td>\n",
              "    </tr>\n",
              "    <tr>\n",
              "      <th>32838</th>\n",
              "      <td>20.000000</td>\n",
              "      <td>100073</td>\n",
              "      <td>200196</td>\n",
              "      <td>삼성화재 행복한파트너 주택화재보험(1912)</td>\n",
              "      <td>무형</td>\n",
              "      <td>0</td>\n",
              "      <td>NaN</td>\n",
              "      <td>01</td>\n",
              "      <td>Wednesday</td>\n",
              "      <td>2020-01-01</td>\n",
              "      <td>01:00:00</td>\n",
              "    </tr>\n",
              "    <tr>\n",
              "      <th>32839</th>\n",
              "      <td>20.000000</td>\n",
              "      <td>100490</td>\n",
              "      <td>201478</td>\n",
              "      <td>더케이 예다함 상조서비스(티포트)</td>\n",
              "      <td>무형</td>\n",
              "      <td>0</td>\n",
              "      <td>NaN</td>\n",
              "      <td>01</td>\n",
              "      <td>Wednesday</td>\n",
              "      <td>2020-01-01</td>\n",
              "      <td>01:20:00</td>\n",
              "    </tr>\n",
              "    <tr>\n",
              "      <th>32840</th>\n",
              "      <td>17.166667</td>\n",
              "      <td>100490</td>\n",
              "      <td>201478</td>\n",
              "      <td>더케이 예다함 상조서비스(티포트)</td>\n",
              "      <td>무형</td>\n",
              "      <td>0</td>\n",
              "      <td>NaN</td>\n",
              "      <td>01</td>\n",
              "      <td>Wednesday</td>\n",
              "      <td>2020-01-01</td>\n",
              "      <td>01:40:00</td>\n",
              "    </tr>\n",
              "  </tbody>\n",
              "</table>\n",
              "<p>32841 rows × 11 columns</p>\n",
              "</div>"
            ],
            "text/plain": [
              "           노출(분)    마더코드    상품코드  ...   week day  broad date  broad time\n",
              "0      20.000000  100346  201072  ...    Tuesday  2019-01-01    06:00:00\n",
              "1            NaN  100346  201079  ...    Tuesday  2019-01-01    06:00:00\n",
              "2      20.000000  100346  201072  ...    Tuesday  2019-01-01    06:20:00\n",
              "3            NaN  100346  201079  ...    Tuesday  2019-01-01    06:20:00\n",
              "4      20.000000  100346  201072  ...    Tuesday  2019-01-01    06:40:00\n",
              "...          ...     ...     ...  ...        ...         ...         ...\n",
              "32836  20.000000  100073  200196  ...  Wednesday  2020-01-01    00:20:00\n",
              "32837  20.000000  100073  200196  ...  Wednesday  2020-01-01    00:40:00\n",
              "32838  20.000000  100073  200196  ...  Wednesday  2020-01-01    01:00:00\n",
              "32839  20.000000  100490  201478  ...  Wednesday  2020-01-01    01:20:00\n",
              "32840  17.166667  100490  201478  ...  Wednesday  2020-01-01    01:40:00\n",
              "\n",
              "[32841 rows x 11 columns]"
            ]
          },
          "metadata": {
            "tags": []
          },
          "execution_count": 125
        }
      ]
    },
    {
      "cell_type": "code",
      "metadata": {
        "id": "lWPoefOnBniT",
        "colab_type": "code",
        "colab": {}
      },
      "source": [
        "#토요일 18:00-18:20 추정에서 제외(토요일은 제외시켰음)\n",
        "#심야시간대 추정에서 제외"
      ],
      "execution_count": null,
      "outputs": []
    },
    {
      "cell_type": "code",
      "metadata": {
        "id": "rbaCEmG1VMM2",
        "colab_type": "code",
        "colab": {}
      },
      "source": [
        "# 2019 판매 상품의 마더코드 리스트 생성\n",
        "\n",
        "sales_code=[]\n",
        "for code in df_sales['마더코드']:\n",
        "  if code not in sales_code:\n",
        "    sales_code.append(code)\n",
        "\n",
        "sales_code.sort()"
      ],
      "execution_count": 10,
      "outputs": []
    },
    {
      "cell_type": "markdown",
      "metadata": {
        "id": "_5MWy1ftXLEu",
        "colab_type": "text"
      },
      "source": [
        "## [2019 판매/예측 마더코드의 비교→예측 데이터에서 과거 실적이 없는 상품들을 찾아낸다.]"
      ]
    },
    {
      "cell_type": "code",
      "metadata": {
        "id": "Z55TC9nglu_Q",
        "colab_type": "code",
        "colab": {}
      },
      "source": [
        "no_sales_code=[]  # 예측 데이터 기준: 과거 실적이 없는 마더코드 리스트\n",
        "for pred in pred_code:\n",
        "  if pred not in sales_code:\n",
        "    no_sales_code.append(pred)"
      ],
      "execution_count": 11,
      "outputs": []
    },
    {
      "cell_type": "code",
      "metadata": {
        "id": "GiikRnrEnlEk",
        "colab_type": "code",
        "colab": {}
      },
      "source": [
        "no_sales_code.sort()"
      ],
      "execution_count": 12,
      "outputs": []
    },
    {
      "cell_type": "code",
      "metadata": {
        "id": "4NyBb4s_1zpF",
        "colab_type": "code",
        "colab": {}
      },
      "source": [
        "df_only_in_preds=pd.DataFrame()\n",
        "\n",
        "for code in no_sales_code:\n",
        "  code_preds=df_preds[(df_preds['마더코드']==code)]\n",
        "  df_only_in_preds=pd.concat([df_only_in_preds,code_preds])\n",
        "\n",
        "df_only_in_preds=df_only_in_preds.reset_index(drop=True)"
      ],
      "execution_count": 13,
      "outputs": []
    },
    {
      "cell_type": "code",
      "metadata": {
        "id": "66H2GlGJuZuj",
        "colab_type": "code",
        "colab": {}
      },
      "source": [
        "df_only_in_preds  # 과거 실적이 없는 예측 상품 데이터프레임"
      ],
      "execution_count": null,
      "outputs": []
    },
    {
      "cell_type": "markdown",
      "metadata": {
        "id": "j9Fl4EP8ID9z",
        "colab_type": "text"
      },
      "source": [
        "\n",
        "\n",
        "## [ 과거 실적이 없는 경우 분석 ]\n",
        "\n"
      ]
    },
    {
      "cell_type": "markdown",
      "metadata": {
        "id": "EGrFtrk_8rnE",
        "colab_type": "text"
      },
      "source": [
        "* 예측 데이터 기준 과거 실적이 없는 경우 → 19년도 판매 데이터에 해당 제품의 마더 코드가 없음을 의미한다."
      ]
    },
    {
      "cell_type": "code",
      "metadata": {
        "id": "6aqWFxW2Y6Ur",
        "colab_type": "code",
        "colab": {
          "base_uri": "https://localhost:8080/",
          "height": 406
        },
        "outputId": "f64fff0c-3a53-433b-9db9-0f830f25b5d3"
      },
      "source": [
        "df_only_in_preds"
      ],
      "execution_count": 15,
      "outputs": [
        {
          "output_type": "execute_result",
          "data": {
            "text/html": [
              "<div>\n",
              "<style scoped>\n",
              "    .dataframe tbody tr th:only-of-type {\n",
              "        vertical-align: middle;\n",
              "    }\n",
              "\n",
              "    .dataframe tbody tr th {\n",
              "        vertical-align: top;\n",
              "    }\n",
              "\n",
              "    .dataframe thead th {\n",
              "        text-align: right;\n",
              "    }\n",
              "</style>\n",
              "<table border=\"1\" class=\"dataframe\">\n",
              "  <thead>\n",
              "    <tr style=\"text-align: right;\">\n",
              "      <th></th>\n",
              "      <th>방송일시</th>\n",
              "      <th>노출(분)</th>\n",
              "      <th>마더코드</th>\n",
              "      <th>상품코드</th>\n",
              "      <th>상품명</th>\n",
              "      <th>상품군</th>\n",
              "      <th>판매단가</th>\n",
              "      <th>취급액</th>\n",
              "    </tr>\n",
              "  </thead>\n",
              "  <tbody>\n",
              "    <tr>\n",
              "      <th>0</th>\n",
              "      <td>2020-06-25 08:20:00</td>\n",
              "      <td>20.0</td>\n",
              "      <td>100003</td>\n",
              "      <td>200004</td>\n",
              "      <td>PN  메가티타늄 후라이팬 기본세트</td>\n",
              "      <td>주방</td>\n",
              "      <td>68000</td>\n",
              "      <td>NaN</td>\n",
              "    </tr>\n",
              "    <tr>\n",
              "      <th>1</th>\n",
              "      <td>2020-06-25 08:20:00</td>\n",
              "      <td>NaN</td>\n",
              "      <td>100003</td>\n",
              "      <td>200003</td>\n",
              "      <td>PN 메가티타늄 후라이팬+IH 인덕션 1구 풀세트</td>\n",
              "      <td>주방</td>\n",
              "      <td>98000</td>\n",
              "      <td>NaN</td>\n",
              "    </tr>\n",
              "    <tr>\n",
              "      <th>2</th>\n",
              "      <td>2020-06-25 08:40:00</td>\n",
              "      <td>20.0</td>\n",
              "      <td>100003</td>\n",
              "      <td>200004</td>\n",
              "      <td>PN  메가티타늄 후라이팬 기본세트</td>\n",
              "      <td>주방</td>\n",
              "      <td>68000</td>\n",
              "      <td>NaN</td>\n",
              "    </tr>\n",
              "    <tr>\n",
              "      <th>3</th>\n",
              "      <td>2020-06-25 08:40:00</td>\n",
              "      <td>NaN</td>\n",
              "      <td>100003</td>\n",
              "      <td>200003</td>\n",
              "      <td>PN 메가티타늄 후라이팬+IH 인덕션 1구 풀세트</td>\n",
              "      <td>주방</td>\n",
              "      <td>98000</td>\n",
              "      <td>NaN</td>\n",
              "    </tr>\n",
              "    <tr>\n",
              "      <th>4</th>\n",
              "      <td>2020-06-25 09:00:00</td>\n",
              "      <td>20.0</td>\n",
              "      <td>100003</td>\n",
              "      <td>200004</td>\n",
              "      <td>PN  메가티타늄 후라이팬 기본세트</td>\n",
              "      <td>주방</td>\n",
              "      <td>68000</td>\n",
              "      <td>NaN</td>\n",
              "    </tr>\n",
              "    <tr>\n",
              "      <th>...</th>\n",
              "      <td>...</td>\n",
              "      <td>...</td>\n",
              "      <td>...</td>\n",
              "      <td>...</td>\n",
              "      <td>...</td>\n",
              "      <td>...</td>\n",
              "      <td>...</td>\n",
              "      <td>...</td>\n",
              "    </tr>\n",
              "    <tr>\n",
              "      <th>1192</th>\n",
              "      <td>2020-06-11 11:20:00</td>\n",
              "      <td>NaN</td>\n",
              "      <td>100847</td>\n",
              "      <td>202507</td>\n",
              "      <td>추억의쥐치포55장</td>\n",
              "      <td>농수축</td>\n",
              "      <td>32900</td>\n",
              "      <td>NaN</td>\n",
              "    </tr>\n",
              "    <tr>\n",
              "      <th>1193</th>\n",
              "      <td>2020-06-11 11:40:00</td>\n",
              "      <td>20.0</td>\n",
              "      <td>100847</td>\n",
              "      <td>202506</td>\n",
              "      <td>추억의쥐치포110장</td>\n",
              "      <td>농수축</td>\n",
              "      <td>32900</td>\n",
              "      <td>NaN</td>\n",
              "    </tr>\n",
              "    <tr>\n",
              "      <th>1194</th>\n",
              "      <td>2020-06-11 11:40:00</td>\n",
              "      <td>NaN</td>\n",
              "      <td>100847</td>\n",
              "      <td>202507</td>\n",
              "      <td>추억의쥐치포55장</td>\n",
              "      <td>농수축</td>\n",
              "      <td>32900</td>\n",
              "      <td>NaN</td>\n",
              "    </tr>\n",
              "    <tr>\n",
              "      <th>1195</th>\n",
              "      <td>2020-06-11 12:00:00</td>\n",
              "      <td>20.0</td>\n",
              "      <td>100847</td>\n",
              "      <td>202506</td>\n",
              "      <td>추억의쥐치포110장</td>\n",
              "      <td>농수축</td>\n",
              "      <td>32900</td>\n",
              "      <td>NaN</td>\n",
              "    </tr>\n",
              "    <tr>\n",
              "      <th>1196</th>\n",
              "      <td>2020-06-11 12:00:00</td>\n",
              "      <td>NaN</td>\n",
              "      <td>100847</td>\n",
              "      <td>202507</td>\n",
              "      <td>추억의쥐치포55장</td>\n",
              "      <td>농수축</td>\n",
              "      <td>32900</td>\n",
              "      <td>NaN</td>\n",
              "    </tr>\n",
              "  </tbody>\n",
              "</table>\n",
              "<p>1197 rows × 8 columns</p>\n",
              "</div>"
            ],
            "text/plain": [
              "                    방송일시  노출(분)    마더코드  ...  상품군   판매단가 취급액\n",
              "0    2020-06-25 08:20:00   20.0  100003  ...   주방  68000 NaN\n",
              "1    2020-06-25 08:20:00    NaN  100003  ...   주방  98000 NaN\n",
              "2    2020-06-25 08:40:00   20.0  100003  ...   주방  68000 NaN\n",
              "3    2020-06-25 08:40:00    NaN  100003  ...   주방  98000 NaN\n",
              "4    2020-06-25 09:00:00   20.0  100003  ...   주방  68000 NaN\n",
              "...                  ...    ...     ...  ...  ...    ...  ..\n",
              "1192 2020-06-11 11:20:00    NaN  100847  ...  농수축  32900 NaN\n",
              "1193 2020-06-11 11:40:00   20.0  100847  ...  농수축  32900 NaN\n",
              "1194 2020-06-11 11:40:00    NaN  100847  ...  농수축  32900 NaN\n",
              "1195 2020-06-11 12:00:00   20.0  100847  ...  농수축  32900 NaN\n",
              "1196 2020-06-11 12:00:00    NaN  100847  ...  농수축  32900 NaN\n",
              "\n",
              "[1197 rows x 8 columns]"
            ]
          },
          "metadata": {
            "tags": []
          },
          "execution_count": 15
        }
      ]
    },
    {
      "cell_type": "code",
      "metadata": {
        "id": "tSRwUzutZMCQ",
        "colab_type": "code",
        "colab": {
          "base_uri": "https://localhost:8080/",
          "height": 52
        },
        "outputId": "1e9dc964-cb78-4dd1-98ee-e8d7beec0027"
      },
      "source": [
        "product_group=df_preds['상품군'].unique()\n",
        "product_group"
      ],
      "execution_count": 97,
      "outputs": [
        {
          "output_type": "execute_result",
          "data": {
            "text/plain": [
              "array(['의류', '속옷', '이미용', '주방', '농수축', '가전', '생활용품', '가구', '잡화', '건강기능',\n",
              "       '침구'], dtype=object)"
            ]
          },
          "metadata": {
            "tags": []
          },
          "execution_count": 97
        }
      ]
    },
    {
      "cell_type": "code",
      "metadata": {
        "id": "bIsVFybMd27N",
        "colab_type": "code",
        "colab": {}
      },
      "source": [
        "# for 문을 이용해서 아래의 코드들을 하나의 함수로 구현하기 ... 코드 구현에 대한 방법이 떠오르지 않음\n",
        "의류_list=[]\n",
        "\n",
        "for i in range(len(df_preds)):\n",
        "  pro=df_preds.loc[i]['상품군']\n",
        "  pro_name=df_preds.loc[i]['상품명']\n",
        "  if pro=='의류':\n",
        "    의류_list.append(pro_name)"
      ],
      "execution_count": 106,
      "outputs": []
    },
    {
      "cell_type": "code",
      "metadata": {
        "id": "_VtWgqtEmmRi",
        "colab_type": "code",
        "colab": {}
      },
      "source": [
        "속옷_list=[]\n",
        "\n",
        "for i in range(len(df_preds)):\n",
        "  pro=df_preds.loc[i]['상품군']\n",
        "  pro_name=df_preds.loc[i]['상품명']\n",
        "  if pro=='속옷':\n",
        "    속옷_list.append(pro_name)"
      ],
      "execution_count": 108,
      "outputs": []
    },
    {
      "cell_type": "code",
      "metadata": {
        "id": "uTco0h0GmmaE",
        "colab_type": "code",
        "colab": {}
      },
      "source": [
        "이미용_list=[]\n",
        "\n",
        "for i in range(len(df_preds)):\n",
        "  pro=df_preds.loc[i]['상품군']\n",
        "  pro_name=df_preds.loc[i]['상품명']\n",
        "  if pro=='이미용':\n",
        "    이미용_list.append(pro_name)"
      ],
      "execution_count": 109,
      "outputs": []
    },
    {
      "cell_type": "code",
      "metadata": {
        "id": "U_xqiDU5mmhq",
        "colab_type": "code",
        "colab": {}
      },
      "source": [
        "농수축_list=[]\n",
        "\n",
        "for i in range(len(df_preds)):\n",
        "  pro=df_preds.loc[i]['상품군']\n",
        "  pro_name=df_preds.loc[i]['상품명']\n",
        "  if pro=='농수축':\n",
        "    농수축_list.append(pro_name)"
      ],
      "execution_count": 111,
      "outputs": []
    },
    {
      "cell_type": "code",
      "metadata": {
        "id": "KzKrqMXEmml0",
        "colab_type": "code",
        "colab": {}
      },
      "source": [
        "가전_list=[]\n",
        "\n",
        "for i in range(len(df_preds)):\n",
        "  pro=df_preds.loc[i]['상품군']\n",
        "  pro_name=df_preds.loc[i]['상품명']\n",
        "  if pro=='가전':\n",
        "    가전_list.append(pro_name)"
      ],
      "execution_count": 112,
      "outputs": []
    },
    {
      "cell_type": "code",
      "metadata": {
        "id": "jSsf-r83mY9N",
        "colab_type": "code",
        "colab": {}
      },
      "source": [
        "생활용품_list=[]\n",
        "\n",
        "for i in range(len(df_preds)):\n",
        "  pro=df_preds.loc[i]['상품군']\n",
        "  pro_name=df_preds.loc[i]['상품명']\n",
        "  if pro=='생활용품':\n",
        "    생활용품_list.append(pro_name)"
      ],
      "execution_count": 113,
      "outputs": []
    },
    {
      "cell_type": "code",
      "metadata": {
        "id": "KxGUE1m-d3Cl",
        "colab_type": "code",
        "colab": {}
      },
      "source": [
        "가구_list=[]\n",
        "\n",
        "for i in range(len(df_preds)):\n",
        "  pro=df_preds.loc[i]['상품군']\n",
        "  pro_name=df_preds.loc[i]['상품명']\n",
        "  if pro=='가구':\n",
        "    가구_list.append(pro_name)"
      ],
      "execution_count": 114,
      "outputs": []
    },
    {
      "cell_type": "code",
      "metadata": {
        "id": "KlVVCnvRbGz5",
        "colab_type": "code",
        "colab": {}
      },
      "source": [
        "잡화_list=[]\n",
        "\n",
        "for i in range(len(df_preds)):\n",
        "  pro=df_preds.loc[i]['상품군']\n",
        "  pro_name=df_preds.loc[i]['상품명']\n",
        "  if pro=='잡화':\n",
        "    잡화_list.append(pro_name)"
      ],
      "execution_count": 115,
      "outputs": []
    },
    {
      "cell_type": "code",
      "metadata": {
        "id": "eFgL-lcqi1mH",
        "colab_type": "code",
        "colab": {}
      },
      "source": [
        "가구_list=[]\n",
        "\n",
        "for i in range(len(df_preds)):\n",
        "  pro=df_preds.loc[i]['상품군']\n",
        "  pro_name=df_preds.loc[i]['상품명']\n",
        "  if pro=='가구':\n",
        "    가구_list.append(pro_name)"
      ],
      "execution_count": 116,
      "outputs": []
    },
    {
      "cell_type": "code",
      "metadata": {
        "id": "RGYQMPrphnRJ",
        "colab_type": "code",
        "colab": {}
      },
      "source": [
        "건강기능_list=[]\n",
        "\n",
        "for i in range(len(df_preds)):\n",
        "  pro=df_preds.loc[i]['상품군']\n",
        "  pro_name=df_preds.loc[i]['상품명']\n",
        "  if pro=='건강기능':\n",
        "    건강기능_list.append(pro_name)"
      ],
      "execution_count": 117,
      "outputs": []
    },
    {
      "cell_type": "code",
      "metadata": {
        "id": "0TFdj1DQZbmh",
        "colab_type": "code",
        "colab": {}
      },
      "source": [
        "침구_list=[]\n",
        "\n",
        "for i in range(len(df_preds)):\n",
        "  pro=df_preds.loc[i]['상품군']\n",
        "  pro_name=df_preds.loc[i]['상품명']\n",
        "  if pro=='침구':\n",
        "    침구_list.append(pro_name)"
      ],
      "execution_count": 118,
      "outputs": []
    },
    {
      "cell_type": "code",
      "metadata": {
        "id": "yqytCDfmdxAh",
        "colab_type": "code",
        "colab": {}
      },
      "source": [
        "# 이 부분도 하나의 함수로 구현하기\n",
        "pro_set=set(의류_list)\n",
        "pro_list1=list(pro_set)\n",
        "\n",
        "pro_set=set(속옷_list)\n",
        "pro_list2=list(pro_set)\n",
        "\n",
        "pro_set=set(이미용_list)\n",
        "pro_list3=list(pro_set)\n",
        "\n",
        "pro_set=set(주방_list)\n",
        "pro_list4=list(pro_set)\n",
        "\n",
        "pro_set=set(농수축_list)\n",
        "pro_list5=list(pro_set)\n",
        "\n",
        "pro_set=set(가전_list)\n",
        "pro_list6=list(pro_set)\n",
        "\n",
        "pro_set=set(생활용품_list)\n",
        "pro_list7=list(pro_set)\n",
        "\n",
        "pro_set=set(가구_list)\n",
        "pro_list8=list(pro_set)\n",
        "\n",
        "pro_set=set(잡화_list)\n",
        "pro_list9=list(pro_set)\n",
        "\n",
        "pro_set=set(건강기능_list)\n",
        "pro_list10=list(pro_set)\n",
        "\n",
        "pro_set=set(침구_list)\n",
        "pro_list11=list(pro_set)"
      ],
      "execution_count": 122,
      "outputs": []
    },
    {
      "cell_type": "code",
      "metadata": {
        "id": "dDoVBrm4qV2L",
        "colab_type": "code",
        "colab": {
          "base_uri": "https://localhost:8080/",
          "height": 532
        },
        "outputId": "341d5b57-97cd-40a3-fcf2-ef70354f21ee"
      },
      "source": [
        "# 과거 실적이 없는 경우: 상품군에 따른 각 상품명들 확인해보기"
      ],
      "execution_count": 123,
      "outputs": [
        {
          "output_type": "execute_result",
          "data": {
            "text/plain": [
              "['크리스티나앤코 시스루앙상블',\n",
              " '라라쎄 자수 레이스 롱원피스 패키지(원피스 2종+볼레로 1종)',\n",
              " '로질리 도로시 원피스 3종',\n",
              " 'CERINI by PAT 여성 올데이 기능성 반팔 티셔츠8종',\n",
              " '마르엘라로사티 린넨 베스트 세트[3월]',\n",
              " '마르조 로아벨 시어서커원피스 3종',\n",
              " '마모트 액티브 하트 라인핏 5종',\n",
              " '아놀드파마 티셔츠레깅스세트',\n",
              " '르까프 남성 라운드 티셔츠 4종 + 반바지 1종',\n",
              " '코몽트 남성 티셔츠 8종(시즌1)',\n",
              " '마르엘라로사티 플로럴썸머원피스3종',\n",
              " 'CERINI by PAT 남성 에어홀 팬츠3종',\n",
              " '라라쎄 쉬폰 롤업재킷 1종',\n",
              " '코몽트 이지웨어 상하의6종세트',\n",
              " '할리마리 풍기인견 원피스 2종',\n",
              " '자연감성 남성 셔츠2종',\n",
              " 'NNF 텐셀팬츠3종',\n",
              " '헨리코튼골프 여성 반바지3종세트',\n",
              " '잭필드 남성  반팔셔츠 4종',\n",
              " '예쎄 여성 썸머 풀코디 4종세트',\n",
              " '자연감성 여성블라우스2종',\n",
              " '마르엘라로사티SS와이드팬츠',\n",
              " 'CERINI by PAT 남성 올데이 기능성 반팔 티셔츠8종',\n",
              " '코몽트 남성 반팔 티셔츠 8종(시즌2)',\n",
              " '르까프 여성 라운드 티셔츠 4종 + 반바지 1종',\n",
              " '젠트웰 남성 썸머티셔츠 4종',\n",
              " '예작 남성 썸머셔츠 3종',\n",
              " '헨리코튼골프 남성 반바지3종세트',\n",
              " '르까프 여성 썸머 쿨카라 티셔츠 5종']"
            ]
          },
          "metadata": {
            "tags": []
          },
          "execution_count": 123
        }
      ]
    }
  ]
}